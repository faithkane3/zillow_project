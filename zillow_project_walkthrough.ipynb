{
 "cells": [
  {
   "cell_type": "markdown",
   "metadata": {},
   "source": [
    "# Requirements and Planning\n",
    "\n",
    "- Write a sql query to acquire data\n",
    "\n",
    "    - last transaction during May and June 2017\n",
    "    - single-unit residential properties only\n",
    "    \n",
    "\n",
    "- Figure out state and county for each property\n",
    "\n",
    "\n",
    "- Figure out distribution of tax rates by county\n",
    "    - Calculate tax rate using givens of home value and taxes\n",
    "    \n",
    "    \n",
    "- MVP - Use square feet of home, # of bedrooms, and # of bathrooms to predict home value\n",
    "\n",
    "    - Deliverable 1: Presentation slides (Audience == Zillow Team)\n",
    "    - Deliverable 2: Repo containing Jupyter Notebook displaying your work through the pipeline with detailed documentation.\n",
    "    - Deliverable 3: .py modules containing functions that ensure your work is neat, readable, and recreatable.\n",
    "    - Deliverable 4: README.md file with data dictionary"
   ]
  },
  {
   "cell_type": "markdown",
   "metadata": {},
   "source": [
    "# Imports"
   ]
  },
  {
   "cell_type": "code",
   "execution_count": 74,
   "metadata": {},
   "outputs": [],
   "source": [
    "import pandas as pd\n",
    "import numpy as np\n",
    "\n",
    "from sklearn.linear_model import LinearRegression\n",
    "import statsmodels.api as sm\n",
    "from statsmodels.sandbox.regression.predstd import wls_prediction_std\n",
    "from sklearn.metrics import mean_squared_error,r2_score,explained_variance_score\n",
    "\n",
    "from math import sqrt\n",
    "from scipy import stats\n",
    "\n",
    "import seaborn as sns\n",
    "import matplotlib.pyplot as plt\n",
    "%matplotlib inline\n",
    "\n",
    "import warnings\n",
    "warnings.filterwarnings(\"ignore\")\n",
    "\n",
    "\n",
    "import env\n",
    "import util\n",
    "from wrangle_zillow import wrangle_zillow\n",
    "import explore\n",
    "import split_scale\n",
    "import features_zillow\n",
    "import model_zillow\n",
    "import evaluate"
   ]
  },
  {
   "cell_type": "markdown",
   "metadata": {},
   "source": [
    "# Acquire and Prep df\n",
    "\n",
    "- My function, wrangle_zillow, uses the SQL query I created to acquire data from the Zillow database, drop rows containing Null values, and set my columns to the appropriate data types and and desired names.\n",
    "\n",
    "\n",
    "- My SQL query filtered the Zillow data to include only single unit residential properties whose last transactions were in the months of May and June of 2017. I also filtered out any rows that had a value of zero for bedroomcnt or bathroomcnt which gave me a row count of 15,947.\n",
    "\n",
    "\n",
    "- I adjusted my SQL query to filter out any rows that had a value below one or above six for bedrooms or a value below one or above five for bathrooms which gave me a total of 15,722 rows to work with in my models. I based my decision for the upper bounds on bedrooms and bathrooms on the equation Q3 + 1.5 * IQR. \n",
    "\n",
    "\n",
    "- However, when I ran my models, the $R^2$ scores went down by more than ten percent, so my second iteration left in the outliers and used my original SQL query from above."
   ]
  },
  {
   "cell_type": "code",
   "execution_count": 39,
   "metadata": {},
   "outputs": [],
   "source": [
    "# I commented this out once I made my csv with my cleaned and prepped df\n",
    "# df = wrangle_zillow()\n",
    "\n",
    "df = pd.read_csv('zillow.csv', index_col=0)"
   ]
  },
  {
   "cell_type": "code",
   "execution_count": 40,
   "metadata": {},
   "outputs": [
    {
     "name": "stdout",
     "output_type": "stream",
     "text": [
      "My original dataframe is coming in with 15947 rows and 10 columns.\n"
     ]
    }
   ],
   "source": [
    "print(f'My original dataframe is coming in with {df.shape[0]} rows and {df.shape[1]} columns.')"
   ]
  },
  {
   "cell_type": "code",
   "execution_count": 41,
   "metadata": {},
   "outputs": [
    {
     "data": {
      "text/html": [
       "<div>\n",
       "<style scoped>\n",
       "    .dataframe tbody tr th:only-of-type {\n",
       "        vertical-align: middle;\n",
       "    }\n",
       "\n",
       "    .dataframe tbody tr th {\n",
       "        vertical-align: top;\n",
       "    }\n",
       "\n",
       "    .dataframe thead th {\n",
       "        text-align: right;\n",
       "    }\n",
       "</style>\n",
       "<table border=\"1\" class=\"dataframe\">\n",
       "  <thead>\n",
       "    <tr style=\"text-align: right;\">\n",
       "      <th></th>\n",
       "      <th>bedrooms</th>\n",
       "      <th>bathrooms</th>\n",
       "      <th>square_feet</th>\n",
       "      <th>taxes</th>\n",
       "      <th>home_value</th>\n",
       "      <th>propertylandusedesc</th>\n",
       "      <th>fips_number</th>\n",
       "      <th>zip_code</th>\n",
       "      <th>tax_rate</th>\n",
       "      <th>county_name</th>\n",
       "    </tr>\n",
       "  </thead>\n",
       "  <tbody>\n",
       "    <tr>\n",
       "      <td>0</td>\n",
       "      <td>4.0</td>\n",
       "      <td>2.0</td>\n",
       "      <td>1604</td>\n",
       "      <td>6089.82</td>\n",
       "      <td>498347.0</td>\n",
       "      <td>Single Family Residential</td>\n",
       "      <td>6037</td>\n",
       "      <td>96415.0</td>\n",
       "      <td>0.012220</td>\n",
       "      <td>Los Angeles</td>\n",
       "    </tr>\n",
       "    <tr>\n",
       "      <td>1</td>\n",
       "      <td>3.0</td>\n",
       "      <td>3.0</td>\n",
       "      <td>2384</td>\n",
       "      <td>6679.55</td>\n",
       "      <td>549917.0</td>\n",
       "      <td>Single Family Residential</td>\n",
       "      <td>6037</td>\n",
       "      <td>96452.0</td>\n",
       "      <td>0.012146</td>\n",
       "      <td>Los Angeles</td>\n",
       "    </tr>\n",
       "    <tr>\n",
       "      <td>2</td>\n",
       "      <td>3.0</td>\n",
       "      <td>2.0</td>\n",
       "      <td>1574</td>\n",
       "      <td>3876.31</td>\n",
       "      <td>235272.0</td>\n",
       "      <td>Single Family Residential</td>\n",
       "      <td>6037</td>\n",
       "      <td>97319.0</td>\n",
       "      <td>0.016476</td>\n",
       "      <td>Los Angeles</td>\n",
       "    </tr>\n",
       "    <tr>\n",
       "      <td>3</td>\n",
       "      <td>2.0</td>\n",
       "      <td>2.0</td>\n",
       "      <td>1619</td>\n",
       "      <td>4206.15</td>\n",
       "      <td>340000.0</td>\n",
       "      <td>Single Family Residential</td>\n",
       "      <td>6037</td>\n",
       "      <td>97329.0</td>\n",
       "      <td>0.012371</td>\n",
       "      <td>Los Angeles</td>\n",
       "    </tr>\n",
       "    <tr>\n",
       "      <td>4</td>\n",
       "      <td>2.0</td>\n",
       "      <td>3.0</td>\n",
       "      <td>2408</td>\n",
       "      <td>24353.42</td>\n",
       "      <td>2017254.0</td>\n",
       "      <td>Single Family Residential</td>\n",
       "      <td>6037</td>\n",
       "      <td>96086.0</td>\n",
       "      <td>0.012073</td>\n",
       "      <td>Los Angeles</td>\n",
       "    </tr>\n",
       "  </tbody>\n",
       "</table>\n",
       "</div>"
      ],
      "text/plain": [
       "   bedrooms  bathrooms  square_feet     taxes  home_value  \\\n",
       "0       4.0        2.0         1604   6089.82    498347.0   \n",
       "1       3.0        3.0         2384   6679.55    549917.0   \n",
       "2       3.0        2.0         1574   3876.31    235272.0   \n",
       "3       2.0        2.0         1619   4206.15    340000.0   \n",
       "4       2.0        3.0         2408  24353.42   2017254.0   \n",
       "\n",
       "         propertylandusedesc  fips_number  zip_code  tax_rate  county_name  \n",
       "0  Single Family Residential         6037   96415.0  0.012220  Los Angeles  \n",
       "1  Single Family Residential         6037   96452.0  0.012146  Los Angeles  \n",
       "2  Single Family Residential         6037   97319.0  0.016476  Los Angeles  \n",
       "3  Single Family Residential         6037   97329.0  0.012371  Los Angeles  \n",
       "4  Single Family Residential         6037   96086.0  0.012073  Los Angeles  "
      ]
     },
     "execution_count": 41,
     "metadata": {},
     "output_type": "execute_result"
    }
   ],
   "source": [
    "df.head()"
   ]
  },
  {
   "cell_type": "markdown",
   "metadata": {},
   "source": [
    "## Summarize the df using tell_me_about(df) function\n",
    "\n",
    "- My function, tell_me_about(df), allows me to view important descriptive information about my data before I begin to work with it. "
   ]
  },
  {
   "cell_type": "code",
   "execution_count": 42,
   "metadata": {},
   "outputs": [
    {
     "name": "stdout",
     "output_type": "stream",
     "text": [
      "DataFrame Shape:\n",
      "\n",
      "(15947, 10)\n",
      "\n",
      "Info about:\n",
      "\n",
      "<class 'pandas.core.frame.DataFrame'>\n",
      "Int64Index: 15947 entries, 0 to 15955\n",
      "Data columns (total 10 columns):\n",
      "bedrooms               15947 non-null float64\n",
      "bathrooms              15947 non-null float64\n",
      "square_feet            15947 non-null int64\n",
      "taxes                  15947 non-null float64\n",
      "home_value             15947 non-null float64\n",
      "propertylandusedesc    15947 non-null object\n",
      "fips_number            15947 non-null int64\n",
      "zip_code               15947 non-null float64\n",
      "tax_rate               15947 non-null float64\n",
      "county_name            15947 non-null object\n",
      "dtypes: float64(6), int64(2), object(2)\n",
      "memory usage: 1.3+ MB\n",
      "None\n",
      "\n",
      "Describe:\n",
      "\n",
      "           bedrooms     bathrooms   square_feet          taxes    home_value  \\\n",
      "count  15947.000000  15947.000000  15947.000000   15947.000000  1.594700e+04   \n",
      "mean       3.253026      2.215213   1836.276729    5680.471976  4.632920e+05   \n",
      "std        0.949431      1.025248    980.727638    7466.513817  6.434062e+05   \n",
      "min        1.000000      1.000000    320.000000      49.180000  1.216800e+04   \n",
      "25%        3.000000      2.000000   1233.000000    2496.250000  1.820165e+05   \n",
      "50%        3.000000      2.000000   1592.000000    4065.120000  3.204690e+05   \n",
      "75%        4.000000      3.000000   2162.500000    6408.970000  5.284255e+05   \n",
      "max       25.000000     20.000000  26345.000000  228999.210000  1.912982e+07   \n",
      "\n",
      "        fips_number       zip_code      tax_rate  \n",
      "count  15947.000000   15947.000000  15947.000000  \n",
      "mean    6044.484417   96505.022261      0.013342  \n",
      "std       17.278945    4177.315885      0.003729  \n",
      "min     6037.000000   95982.000000      0.000032  \n",
      "25%     6037.000000   96152.000000      0.011918  \n",
      "50%     6037.000000   96336.000000      0.012460  \n",
      "75%     6037.000000   96531.000000      0.013691  \n",
      "max     6111.000000  399675.000000      0.155072  \n",
      "\n",
      "Preview:\n",
      "\n",
      "   bedrooms  bathrooms  square_feet     taxes  home_value  \\\n",
      "0       4.0        2.0         1604   6089.82    498347.0   \n",
      "1       3.0        3.0         2384   6679.55    549917.0   \n",
      "2       3.0        2.0         1574   3876.31    235272.0   \n",
      "3       2.0        2.0         1619   4206.15    340000.0   \n",
      "4       2.0        3.0         2408  24353.42   2017254.0   \n",
      "\n",
      "         propertylandusedesc  fips_number  zip_code  tax_rate  county_name  \n",
      "0  Single Family Residential         6037   96415.0  0.012220  Los Angeles  \n",
      "1  Single Family Residential         6037   96452.0  0.012146  Los Angeles  \n",
      "2  Single Family Residential         6037   97319.0  0.016476  Los Angeles  \n",
      "3  Single Family Residential         6037   97329.0  0.012371  Los Angeles  \n",
      "4  Single Family Residential         6037   96086.0  0.012073  Los Angeles  \n"
     ]
    }
   ],
   "source": [
    "util.tell_me_about(df)"
   ]
  },
  {
   "cell_type": "markdown",
   "metadata": {},
   "source": [
    "## Create a Field that Calculates the Tax Rate\n",
    "\n",
    "- I will use home value and taxes to create a calculated column to deliver information about the tax rate distribution for each county in my df."
   ]
  },
  {
   "cell_type": "code",
   "execution_count": 43,
   "metadata": {},
   "outputs": [
    {
     "data": {
      "text/html": [
       "<div>\n",
       "<style scoped>\n",
       "    .dataframe tbody tr th:only-of-type {\n",
       "        vertical-align: middle;\n",
       "    }\n",
       "\n",
       "    .dataframe tbody tr th {\n",
       "        vertical-align: top;\n",
       "    }\n",
       "\n",
       "    .dataframe thead th {\n",
       "        text-align: right;\n",
       "    }\n",
       "</style>\n",
       "<table border=\"1\" class=\"dataframe\">\n",
       "  <thead>\n",
       "    <tr style=\"text-align: right;\">\n",
       "      <th></th>\n",
       "      <th>bedrooms</th>\n",
       "      <th>bathrooms</th>\n",
       "      <th>square_feet</th>\n",
       "      <th>taxes</th>\n",
       "      <th>home_value</th>\n",
       "      <th>propertylandusedesc</th>\n",
       "      <th>fips_number</th>\n",
       "      <th>zip_code</th>\n",
       "      <th>tax_rate</th>\n",
       "      <th>county_name</th>\n",
       "    </tr>\n",
       "  </thead>\n",
       "  <tbody>\n",
       "    <tr>\n",
       "      <td>0</td>\n",
       "      <td>4.0</td>\n",
       "      <td>2.0</td>\n",
       "      <td>1604</td>\n",
       "      <td>6089.82</td>\n",
       "      <td>498347.0</td>\n",
       "      <td>Single Family Residential</td>\n",
       "      <td>6037</td>\n",
       "      <td>96415.0</td>\n",
       "      <td>0.012220</td>\n",
       "      <td>Los Angeles</td>\n",
       "    </tr>\n",
       "    <tr>\n",
       "      <td>1</td>\n",
       "      <td>3.0</td>\n",
       "      <td>3.0</td>\n",
       "      <td>2384</td>\n",
       "      <td>6679.55</td>\n",
       "      <td>549917.0</td>\n",
       "      <td>Single Family Residential</td>\n",
       "      <td>6037</td>\n",
       "      <td>96452.0</td>\n",
       "      <td>0.012146</td>\n",
       "      <td>Los Angeles</td>\n",
       "    </tr>\n",
       "    <tr>\n",
       "      <td>2</td>\n",
       "      <td>3.0</td>\n",
       "      <td>2.0</td>\n",
       "      <td>1574</td>\n",
       "      <td>3876.31</td>\n",
       "      <td>235272.0</td>\n",
       "      <td>Single Family Residential</td>\n",
       "      <td>6037</td>\n",
       "      <td>97319.0</td>\n",
       "      <td>0.016476</td>\n",
       "      <td>Los Angeles</td>\n",
       "    </tr>\n",
       "    <tr>\n",
       "      <td>3</td>\n",
       "      <td>2.0</td>\n",
       "      <td>2.0</td>\n",
       "      <td>1619</td>\n",
       "      <td>4206.15</td>\n",
       "      <td>340000.0</td>\n",
       "      <td>Single Family Residential</td>\n",
       "      <td>6037</td>\n",
       "      <td>97329.0</td>\n",
       "      <td>0.012371</td>\n",
       "      <td>Los Angeles</td>\n",
       "    </tr>\n",
       "    <tr>\n",
       "      <td>4</td>\n",
       "      <td>2.0</td>\n",
       "      <td>3.0</td>\n",
       "      <td>2408</td>\n",
       "      <td>24353.42</td>\n",
       "      <td>2017254.0</td>\n",
       "      <td>Single Family Residential</td>\n",
       "      <td>6037</td>\n",
       "      <td>96086.0</td>\n",
       "      <td>0.012073</td>\n",
       "      <td>Los Angeles</td>\n",
       "    </tr>\n",
       "  </tbody>\n",
       "</table>\n",
       "</div>"
      ],
      "text/plain": [
       "   bedrooms  bathrooms  square_feet     taxes  home_value  \\\n",
       "0       4.0        2.0         1604   6089.82    498347.0   \n",
       "1       3.0        3.0         2384   6679.55    549917.0   \n",
       "2       3.0        2.0         1574   3876.31    235272.0   \n",
       "3       2.0        2.0         1619   4206.15    340000.0   \n",
       "4       2.0        3.0         2408  24353.42   2017254.0   \n",
       "\n",
       "         propertylandusedesc  fips_number  zip_code  tax_rate  county_name  \n",
       "0  Single Family Residential         6037   96415.0  0.012220  Los Angeles  \n",
       "1  Single Family Residential         6037   96452.0  0.012146  Los Angeles  \n",
       "2  Single Family Residential         6037   97319.0  0.016476  Los Angeles  \n",
       "3  Single Family Residential         6037   97329.0  0.012371  Los Angeles  \n",
       "4  Single Family Residential         6037   96086.0  0.012073  Los Angeles  "
      ]
     },
     "execution_count": 43,
     "metadata": {},
     "output_type": "execute_result"
    }
   ],
   "source": [
    "df[\"tax_rate\"] = df[\"taxes\"] / df[\"home_value\"]\n",
    "df.head()"
   ]
  },
  {
   "cell_type": "markdown",
   "metadata": {},
   "source": [
    "## Add the county name to the df based on the fips number."
   ]
  },
  {
   "cell_type": "code",
   "execution_count": 44,
   "metadata": {},
   "outputs": [
    {
     "data": {
      "text/html": [
       "<div>\n",
       "<style scoped>\n",
       "    .dataframe tbody tr th:only-of-type {\n",
       "        vertical-align: middle;\n",
       "    }\n",
       "\n",
       "    .dataframe tbody tr th {\n",
       "        vertical-align: top;\n",
       "    }\n",
       "\n",
       "    .dataframe thead th {\n",
       "        text-align: right;\n",
       "    }\n",
       "</style>\n",
       "<table border=\"1\" class=\"dataframe\">\n",
       "  <thead>\n",
       "    <tr style=\"text-align: right;\">\n",
       "      <th></th>\n",
       "      <th>bedrooms</th>\n",
       "      <th>bathrooms</th>\n",
       "      <th>square_feet</th>\n",
       "      <th>taxes</th>\n",
       "      <th>home_value</th>\n",
       "      <th>propertylandusedesc</th>\n",
       "      <th>fips_number</th>\n",
       "      <th>zip_code</th>\n",
       "      <th>tax_rate</th>\n",
       "      <th>county_name</th>\n",
       "    </tr>\n",
       "  </thead>\n",
       "  <tbody>\n",
       "    <tr>\n",
       "      <td>0</td>\n",
       "      <td>4.0</td>\n",
       "      <td>2.0</td>\n",
       "      <td>1604</td>\n",
       "      <td>6089.82</td>\n",
       "      <td>498347.0</td>\n",
       "      <td>Single Family Residential</td>\n",
       "      <td>6037</td>\n",
       "      <td>96415.0</td>\n",
       "      <td>0.012220</td>\n",
       "      <td>Los Angeles</td>\n",
       "    </tr>\n",
       "    <tr>\n",
       "      <td>1</td>\n",
       "      <td>3.0</td>\n",
       "      <td>3.0</td>\n",
       "      <td>2384</td>\n",
       "      <td>6679.55</td>\n",
       "      <td>549917.0</td>\n",
       "      <td>Single Family Residential</td>\n",
       "      <td>6037</td>\n",
       "      <td>96452.0</td>\n",
       "      <td>0.012146</td>\n",
       "      <td>Los Angeles</td>\n",
       "    </tr>\n",
       "    <tr>\n",
       "      <td>2</td>\n",
       "      <td>3.0</td>\n",
       "      <td>2.0</td>\n",
       "      <td>1574</td>\n",
       "      <td>3876.31</td>\n",
       "      <td>235272.0</td>\n",
       "      <td>Single Family Residential</td>\n",
       "      <td>6037</td>\n",
       "      <td>97319.0</td>\n",
       "      <td>0.016476</td>\n",
       "      <td>Los Angeles</td>\n",
       "    </tr>\n",
       "    <tr>\n",
       "      <td>3</td>\n",
       "      <td>2.0</td>\n",
       "      <td>2.0</td>\n",
       "      <td>1619</td>\n",
       "      <td>4206.15</td>\n",
       "      <td>340000.0</td>\n",
       "      <td>Single Family Residential</td>\n",
       "      <td>6037</td>\n",
       "      <td>97329.0</td>\n",
       "      <td>0.012371</td>\n",
       "      <td>Los Angeles</td>\n",
       "    </tr>\n",
       "    <tr>\n",
       "      <td>4</td>\n",
       "      <td>2.0</td>\n",
       "      <td>3.0</td>\n",
       "      <td>2408</td>\n",
       "      <td>24353.42</td>\n",
       "      <td>2017254.0</td>\n",
       "      <td>Single Family Residential</td>\n",
       "      <td>6037</td>\n",
       "      <td>96086.0</td>\n",
       "      <td>0.012073</td>\n",
       "      <td>Los Angeles</td>\n",
       "    </tr>\n",
       "  </tbody>\n",
       "</table>\n",
       "</div>"
      ],
      "text/plain": [
       "   bedrooms  bathrooms  square_feet     taxes  home_value  \\\n",
       "0       4.0        2.0         1604   6089.82    498347.0   \n",
       "1       3.0        3.0         2384   6679.55    549917.0   \n",
       "2       3.0        2.0         1574   3876.31    235272.0   \n",
       "3       2.0        2.0         1619   4206.15    340000.0   \n",
       "4       2.0        3.0         2408  24353.42   2017254.0   \n",
       "\n",
       "         propertylandusedesc  fips_number  zip_code  tax_rate  county_name  \n",
       "0  Single Family Residential         6037   96415.0  0.012220  Los Angeles  \n",
       "1  Single Family Residential         6037   96452.0  0.012146  Los Angeles  \n",
       "2  Single Family Residential         6037   97319.0  0.016476  Los Angeles  \n",
       "3  Single Family Residential         6037   97329.0  0.012371  Los Angeles  \n",
       "4  Single Family Residential         6037   96086.0  0.012073  Los Angeles  "
      ]
     },
     "execution_count": 44,
     "metadata": {},
     "output_type": "execute_result"
    }
   ],
   "source": [
    "df[\"county_name\"] = df[\"fips_number\"].map({6037: \"Los Angeles\", 6059: \"Orange\", 6111: \"Ventura\"})\n",
    "df.head()"
   ]
  },
  {
   "cell_type": "markdown",
   "metadata": {},
   "source": [
    "## Beautiful! Now I will save my df to csv for future use."
   ]
  },
  {
   "cell_type": "code",
   "execution_count": 45,
   "metadata": {},
   "outputs": [],
   "source": [
    "# Commented out because I only needed to make this once. Now I just import my csv for df.\n",
    "# df.to_csv('zillow.csv')"
   ]
  },
  {
   "cell_type": "code",
   "execution_count": 48,
   "metadata": {},
   "outputs": [],
   "source": [
    "df = pd.read_csv('zillow.csv', index_col=0)"
   ]
  },
  {
   "cell_type": "code",
   "execution_count": 49,
   "metadata": {},
   "outputs": [
    {
     "name": "stdout",
     "output_type": "stream",
     "text": [
      "My dataframe is coming in from my csv with 15947 rows and 10 columns.\n"
     ]
    }
   ],
   "source": [
    "print(f'My dataframe is coming in from my csv with {df.shape[0]} rows and {df.shape[1]} columns.')"
   ]
  },
  {
   "cell_type": "markdown",
   "metadata": {},
   "source": [
    "# Create Distributions of the Tax Rates by County:\n",
    "\n",
    "- I found the breakdown of fips_numbers at the USDA government site:\n",
    "\n",
    "https://www.nrcs.usda.gov/wps/portal/nrcs/detail/national/home/?cid=nrcs143_013697\n",
    "    \n",
    "\n",
    "- Using the fips_numbers, I found that all three counties represented in my data are in the state of California; they are Los Angeles County, Orange County, and Ventura County.\n",
    "\n",
    "\n",
    "- I looked at the mean and median tax_rate for each county and found that Los Angeles County has the highest overall tax rate either way. All of the tax rates are similar, though. \n",
    "\n",
    "\n",
    "- I looked at the count of properties in each county, and my df is made up of 78% Los Angeles County properties, 17% Orange County, and 5% Ventura County. \n",
    "\n",
    "\n",
    "- I also created a function, tax_distribution_viz(df), to take a quick look at the tax rate distributions by county."
   ]
  },
  {
   "cell_type": "code",
   "execution_count": 50,
   "metadata": {},
   "outputs": [
    {
     "data": {
      "text/html": [
       "<div>\n",
       "<style scoped>\n",
       "    .dataframe tbody tr th:only-of-type {\n",
       "        vertical-align: middle;\n",
       "    }\n",
       "\n",
       "    .dataframe tbody tr th {\n",
       "        vertical-align: top;\n",
       "    }\n",
       "\n",
       "    .dataframe thead th {\n",
       "        text-align: right;\n",
       "    }\n",
       "</style>\n",
       "<table border=\"1\" class=\"dataframe\">\n",
       "  <thead>\n",
       "    <tr style=\"text-align: right;\">\n",
       "      <th></th>\n",
       "      <th>tax_rate</th>\n",
       "    </tr>\n",
       "    <tr>\n",
       "      <th>county_name</th>\n",
       "      <th></th>\n",
       "    </tr>\n",
       "  </thead>\n",
       "  <tbody>\n",
       "    <tr>\n",
       "      <td>Los Angeles</td>\n",
       "      <td>0.013735</td>\n",
       "    </tr>\n",
       "    <tr>\n",
       "      <td>Orange</td>\n",
       "      <td>0.012111</td>\n",
       "    </tr>\n",
       "    <tr>\n",
       "      <td>Ventura</td>\n",
       "      <td>0.011499</td>\n",
       "    </tr>\n",
       "  </tbody>\n",
       "</table>\n",
       "</div>"
      ],
      "text/plain": [
       "             tax_rate\n",
       "county_name          \n",
       "Los Angeles  0.013735\n",
       "Orange       0.012111\n",
       "Ventura      0.011499"
      ]
     },
     "execution_count": 50,
     "metadata": {},
     "output_type": "execute_result"
    }
   ],
   "source": [
    "county_mean_tax_rate = pd.DataFrame(df.groupby(\"county_name\").tax_rate.mean())\n",
    "county_mean_tax_rate"
   ]
  },
  {
   "cell_type": "code",
   "execution_count": 51,
   "metadata": {},
   "outputs": [
    {
     "data": {
      "text/html": [
       "<div>\n",
       "<style scoped>\n",
       "    .dataframe tbody tr th:only-of-type {\n",
       "        vertical-align: middle;\n",
       "    }\n",
       "\n",
       "    .dataframe tbody tr th {\n",
       "        vertical-align: top;\n",
       "    }\n",
       "\n",
       "    .dataframe thead th {\n",
       "        text-align: right;\n",
       "    }\n",
       "</style>\n",
       "<table border=\"1\" class=\"dataframe\">\n",
       "  <thead>\n",
       "    <tr style=\"text-align: right;\">\n",
       "      <th></th>\n",
       "      <th>tax_rate</th>\n",
       "    </tr>\n",
       "    <tr>\n",
       "      <th>county_name</th>\n",
       "      <th></th>\n",
       "    </tr>\n",
       "  </thead>\n",
       "  <tbody>\n",
       "    <tr>\n",
       "      <td>Los Angeles</td>\n",
       "      <td>0.012638</td>\n",
       "    </tr>\n",
       "    <tr>\n",
       "      <td>Orange</td>\n",
       "      <td>0.011702</td>\n",
       "    </tr>\n",
       "    <tr>\n",
       "      <td>Ventura</td>\n",
       "      <td>0.011215</td>\n",
       "    </tr>\n",
       "  </tbody>\n",
       "</table>\n",
       "</div>"
      ],
      "text/plain": [
       "             tax_rate\n",
       "county_name          \n",
       "Los Angeles  0.012638\n",
       "Orange       0.011702\n",
       "Ventura      0.011215"
      ]
     },
     "execution_count": 51,
     "metadata": {},
     "output_type": "execute_result"
    }
   ],
   "source": [
    "county_median_tax_rate = pd.DataFrame(df.groupby(\"county_name\").tax_rate.median())\n",
    "county_median_tax_rate"
   ]
  },
  {
   "cell_type": "code",
   "execution_count": 52,
   "metadata": {},
   "outputs": [],
   "source": [
    "county_count = pd.DataFrame(df.groupby(\"county_name\").county_name.count())\n",
    "county_count.columns = ['count']\n",
    "county_count['frequency'] = df['county_name'].value_counts(normalize=True)\n",
    "county_count['percentage'] = round(county_count['frequency'] * 100)"
   ]
  },
  {
   "cell_type": "code",
   "execution_count": 53,
   "metadata": {},
   "outputs": [
    {
     "data": {
      "text/html": [
       "<div>\n",
       "<style scoped>\n",
       "    .dataframe tbody tr th:only-of-type {\n",
       "        vertical-align: middle;\n",
       "    }\n",
       "\n",
       "    .dataframe tbody tr th {\n",
       "        vertical-align: top;\n",
       "    }\n",
       "\n",
       "    .dataframe thead th {\n",
       "        text-align: right;\n",
       "    }\n",
       "</style>\n",
       "<table border=\"1\" class=\"dataframe\">\n",
       "  <thead>\n",
       "    <tr style=\"text-align: right;\">\n",
       "      <th></th>\n",
       "      <th>count</th>\n",
       "      <th>frequency</th>\n",
       "      <th>percentage</th>\n",
       "    </tr>\n",
       "    <tr>\n",
       "      <th>county_name</th>\n",
       "      <th></th>\n",
       "      <th></th>\n",
       "      <th></th>\n",
       "    </tr>\n",
       "  </thead>\n",
       "  <tbody>\n",
       "    <tr>\n",
       "      <td>Los Angeles</td>\n",
       "      <td>12382</td>\n",
       "      <td>0.776447</td>\n",
       "      <td>78.0</td>\n",
       "    </tr>\n",
       "    <tr>\n",
       "      <td>Orange</td>\n",
       "      <td>2778</td>\n",
       "      <td>0.174202</td>\n",
       "      <td>17.0</td>\n",
       "    </tr>\n",
       "    <tr>\n",
       "      <td>Ventura</td>\n",
       "      <td>787</td>\n",
       "      <td>0.049351</td>\n",
       "      <td>5.0</td>\n",
       "    </tr>\n",
       "  </tbody>\n",
       "</table>\n",
       "</div>"
      ],
      "text/plain": [
       "             count  frequency  percentage\n",
       "county_name                              \n",
       "Los Angeles  12382   0.776447        78.0\n",
       "Orange        2778   0.174202        17.0\n",
       "Ventura        787   0.049351         5.0"
      ]
     },
     "execution_count": 53,
     "metadata": {},
     "output_type": "execute_result"
    }
   ],
   "source": [
    "county_count"
   ]
  },
  {
   "cell_type": "code",
   "execution_count": 54,
   "metadata": {},
   "outputs": [
    {
     "data": {
      "image/png": "[encoded data removed]",
      "text/plain": [
       "<Figure size 1152x1008 with 3 Axes>"
      ]
     },
     "metadata": {
      "needs_background": "light"
     },
     "output_type": "display_data"
    }
   ],
   "source": [
    "explore.tax_distribution_viz(df)"
   ]
  },
  {
   "cell_type": "markdown",
   "metadata": {},
   "source": [
    "# Quick and Dirty Linear Regression for Baseline Model\n",
    "\n",
    "- I have been tasked with making a first model that uses only square feet, # of bedrooms, and # of bathrooms to predict home value. I'm going to do as little exploration and prepping as possible to get this done.\n",
    "\n",
    "\n",
    "- After I have my baseline model evaluation metrics, I can go back and explore my data more, do any feature engineering and selection I want, and try to beat the performance of my baseline model."
   ]
  },
  {
   "cell_type": "markdown",
   "metadata": {},
   "source": [
    "## Split and Scale my df"
   ]
  },
  {
   "cell_type": "code",
   "execution_count": 55,
   "metadata": {},
   "outputs": [],
   "source": [
    "train, test = split_scale.split_my_data(df)"
   ]
  },
  {
   "cell_type": "code",
   "execution_count": 56,
   "metadata": {},
   "outputs": [
    {
     "name": "stdout",
     "output_type": "stream",
     "text": [
      "My train df is (11162, 10) and my test df is (4785, 10).\n"
     ]
    }
   ],
   "source": [
    "print(f'My train df is {train.shape} and my test df is {test.shape}.')"
   ]
  },
  {
   "cell_type": "code",
   "execution_count": 57,
   "metadata": {},
   "outputs": [
    {
     "data": {
      "text/html": [
       "<div>\n",
       "<style scoped>\n",
       "    .dataframe tbody tr th:only-of-type {\n",
       "        vertical-align: middle;\n",
       "    }\n",
       "\n",
       "    .dataframe tbody tr th {\n",
       "        vertical-align: top;\n",
       "    }\n",
       "\n",
       "    .dataframe thead th {\n",
       "        text-align: right;\n",
       "    }\n",
       "</style>\n",
       "<table border=\"1\" class=\"dataframe\">\n",
       "  <thead>\n",
       "    <tr style=\"text-align: right;\">\n",
       "      <th></th>\n",
       "      <th>bedrooms</th>\n",
       "      <th>bathrooms</th>\n",
       "      <th>square_feet</th>\n",
       "      <th>taxes</th>\n",
       "      <th>home_value</th>\n",
       "      <th>propertylandusedesc</th>\n",
       "      <th>fips_number</th>\n",
       "      <th>zip_code</th>\n",
       "      <th>tax_rate</th>\n",
       "      <th>county_name</th>\n",
       "    </tr>\n",
       "  </thead>\n",
       "  <tbody>\n",
       "    <tr>\n",
       "      <td>8731</td>\n",
       "      <td>3.0</td>\n",
       "      <td>2.0</td>\n",
       "      <td>1076</td>\n",
       "      <td>4464.23</td>\n",
       "      <td>383845.0</td>\n",
       "      <td>Single Family Residential</td>\n",
       "      <td>6037</td>\n",
       "      <td>96162.0</td>\n",
       "      <td>0.01163</td>\n",
       "      <td>Los Angeles</td>\n",
       "    </tr>\n",
       "  </tbody>\n",
       "</table>\n",
       "</div>"
      ],
      "text/plain": [
       "      bedrooms  bathrooms  square_feet    taxes  home_value  \\\n",
       "8731       3.0        2.0         1076  4464.23    383845.0   \n",
       "\n",
       "            propertylandusedesc  fips_number  zip_code  tax_rate  county_name  \n",
       "8731  Single Family Residential         6037   96162.0   0.01163  Los Angeles  "
      ]
     },
     "execution_count": 57,
     "metadata": {},
     "output_type": "execute_result"
    }
   ],
   "source": [
    "train.head(1)"
   ]
  },
  {
   "cell_type": "code",
   "execution_count": 58,
   "metadata": {},
   "outputs": [
    {
     "data": {
      "text/html": [
       "<div>\n",
       "<style scoped>\n",
       "    .dataframe tbody tr th:only-of-type {\n",
       "        vertical-align: middle;\n",
       "    }\n",
       "\n",
       "    .dataframe tbody tr th {\n",
       "        vertical-align: top;\n",
       "    }\n",
       "\n",
       "    .dataframe thead th {\n",
       "        text-align: right;\n",
       "    }\n",
       "</style>\n",
       "<table border=\"1\" class=\"dataframe\">\n",
       "  <thead>\n",
       "    <tr style=\"text-align: right;\">\n",
       "      <th></th>\n",
       "      <th>bedrooms</th>\n",
       "      <th>bathrooms</th>\n",
       "      <th>square_feet</th>\n",
       "      <th>taxes</th>\n",
       "      <th>home_value</th>\n",
       "      <th>propertylandusedesc</th>\n",
       "      <th>fips_number</th>\n",
       "      <th>zip_code</th>\n",
       "      <th>tax_rate</th>\n",
       "      <th>county_name</th>\n",
       "    </tr>\n",
       "  </thead>\n",
       "  <tbody>\n",
       "    <tr>\n",
       "      <td>5402</td>\n",
       "      <td>4.0</td>\n",
       "      <td>3.0</td>\n",
       "      <td>2125</td>\n",
       "      <td>1403.97</td>\n",
       "      <td>91072.0</td>\n",
       "      <td>Single Family Residential</td>\n",
       "      <td>6037</td>\n",
       "      <td>96489.0</td>\n",
       "      <td>0.015416</td>\n",
       "      <td>Los Angeles</td>\n",
       "    </tr>\n",
       "  </tbody>\n",
       "</table>\n",
       "</div>"
      ],
      "text/plain": [
       "      bedrooms  bathrooms  square_feet    taxes  home_value  \\\n",
       "5402       4.0        3.0         2125  1403.97     91072.0   \n",
       "\n",
       "            propertylandusedesc  fips_number  zip_code  tax_rate  county_name  \n",
       "5402  Single Family Residential         6037   96489.0  0.015416  Los Angeles  "
      ]
     },
     "execution_count": 58,
     "metadata": {},
     "output_type": "execute_result"
    }
   ],
   "source": [
    "test.head(1)"
   ]
  },
  {
   "cell_type": "code",
   "execution_count": 59,
   "metadata": {},
   "outputs": [],
   "source": [
    "X_train = train[['square_feet', 'bedrooms', 'bathrooms']]\n",
    "X_test = test[['square_feet', 'bedrooms', 'bathrooms']]\n",
    "y_train = train[['home_value']]\n",
    "y_test = test[['home_value']]"
   ]
  },
  {
   "cell_type": "code",
   "execution_count": 60,
   "metadata": {},
   "outputs": [
    {
     "name": "stdout",
     "output_type": "stream",
     "text": [
      "      square_feet  bedrooms  bathrooms\n",
      "8731         1076       3.0        2.0 (11162, 3)\n"
     ]
    }
   ],
   "source": [
    "print(X_train.head(1), X_train.shape)"
   ]
  },
  {
   "cell_type": "code",
   "execution_count": 61,
   "metadata": {},
   "outputs": [
    {
     "name": "stdout",
     "output_type": "stream",
     "text": [
      "      square_feet  bedrooms  bathrooms\n",
      "5402         2125       4.0        3.0 (4785, 3)\n"
     ]
    }
   ],
   "source": [
    "print(X_test.head(1), X_test.shape)"
   ]
  },
  {
   "cell_type": "code",
   "execution_count": 62,
   "metadata": {},
   "outputs": [
    {
     "name": "stdout",
     "output_type": "stream",
     "text": [
      "      home_value\n",
      "8731    383845.0 (11162, 1)\n"
     ]
    }
   ],
   "source": [
    "print(y_train.head(1), y_train.shape)"
   ]
  },
  {
   "cell_type": "code",
   "execution_count": 64,
   "metadata": {},
   "outputs": [
    {
     "name": "stdout",
     "output_type": "stream",
     "text": [
      "      home_value\n",
      "5402     91072.0 (4785, 1)\n"
     ]
    }
   ],
   "source": [
    "print(y_test.head(1), y_test.shape)"
   ]
  },
  {
   "cell_type": "markdown",
   "metadata": {},
   "source": [
    "## IQR Robust Scaler handles outliers well, so I'll use that on X_train and X_test"
   ]
  },
  {
   "cell_type": "code",
   "execution_count": 66,
   "metadata": {},
   "outputs": [],
   "source": [
    "scaler, X_train_scaled, X_test_scaled = split_scale.iqr_robust_scaler(X_train, X_test)"
   ]
  },
  {
   "cell_type": "code",
   "execution_count": 67,
   "metadata": {},
   "outputs": [
    {
     "data": {
      "text/plain": [
       "RobustScaler(copy=True, quantile_range=(25.0, 75.0), with_centering=True,\n",
       "             with_scaling=True)"
      ]
     },
     "execution_count": 67,
     "metadata": {},
     "output_type": "execute_result"
    }
   ],
   "source": [
    "scaler"
   ]
  },
  {
   "cell_type": "code",
   "execution_count": 70,
   "metadata": {},
   "outputs": [
    {
     "data": {
      "text/plain": [
       "(       square_feet  bedrooms  bathrooms\n",
       " 8731     -0.559978       0.0        0.0\n",
       " 10790    -0.783969      -1.0       -1.0\n",
       " 1280     -0.748833      -1.0       -1.0,\n",
       "        square_feet  bedrooms  bathrooms\n",
       " 5402      0.591820       1.0        1.0\n",
       " 15625    -0.696130      -1.0        0.0\n",
       " 5300     -0.178973       0.0        0.0)"
      ]
     },
     "execution_count": 70,
     "metadata": {},
     "output_type": "execute_result"
    }
   ],
   "source": [
    "X_train_scaled.head(3), X_test_scaled.head(3)"
   ]
  },
  {
   "cell_type": "markdown",
   "metadata": {},
   "source": [
    "# Baseline Model and Evaluation"
   ]
  },
  {
   "cell_type": "code",
   "execution_count": 72,
   "metadata": {},
   "outputs": [],
   "source": [
    "#predictions, predictions_test = model_zillow.modeling_function(X_train_scaled, y_train, X_test_scaled, y_test)"
   ]
  },
  {
   "cell_type": "code",
   "execution_count": 73,
   "metadata": {},
   "outputs": [
    {
     "data": {
      "text/html": [
       "<div>\n",
       "<style scoped>\n",
       "    .dataframe tbody tr th:only-of-type {\n",
       "        vertical-align: middle;\n",
       "    }\n",
       "\n",
       "    .dataframe tbody tr th {\n",
       "        vertical-align: top;\n",
       "    }\n",
       "\n",
       "    .dataframe thead th {\n",
       "        text-align: right;\n",
       "    }\n",
       "</style>\n",
       "<table border=\"1\" class=\"dataframe\">\n",
       "  <thead>\n",
       "    <tr style=\"text-align: right;\">\n",
       "      <th></th>\n",
       "      <th>actual</th>\n",
       "      <th>lm1</th>\n",
       "      <th>lm_baseline</th>\n",
       "    </tr>\n",
       "  </thead>\n",
       "  <tbody>\n",
       "    <tr>\n",
       "      <td>0</td>\n",
       "      <td>383845.0</td>\n",
       "      <td>156834.791401</td>\n",
       "      <td>456487.606074</td>\n",
       "    </tr>\n",
       "    <tr>\n",
       "      <td>1</td>\n",
       "      <td>29565.0</td>\n",
       "      <td>136857.578461</td>\n",
       "      <td>456487.606074</td>\n",
       "    </tr>\n",
       "    <tr>\n",
       "      <td>2</td>\n",
       "      <td>162887.0</td>\n",
       "      <td>150449.959303</td>\n",
       "      <td>456487.606074</td>\n",
       "    </tr>\n",
       "    <tr>\n",
       "      <td>3</td>\n",
       "      <td>264896.0</td>\n",
       "      <td>664584.134198</td>\n",
       "      <td>456487.606074</td>\n",
       "    </tr>\n",
       "    <tr>\n",
       "      <td>4</td>\n",
       "      <td>262383.0</td>\n",
       "      <td>439235.423982</td>\n",
       "      <td>456487.606074</td>\n",
       "    </tr>\n",
       "    <tr>\n",
       "      <td>...</td>\n",
       "      <td>...</td>\n",
       "      <td>...</td>\n",
       "      <td>...</td>\n",
       "    </tr>\n",
       "    <tr>\n",
       "      <td>11157</td>\n",
       "      <td>180427.0</td>\n",
       "      <td>163763.045399</td>\n",
       "      <td>456487.606074</td>\n",
       "    </tr>\n",
       "    <tr>\n",
       "      <td>11158</td>\n",
       "      <td>120764.0</td>\n",
       "      <td>250707.171590</td>\n",
       "      <td>456487.606074</td>\n",
       "    </tr>\n",
       "    <tr>\n",
       "      <td>11159</td>\n",
       "      <td>84217.0</td>\n",
       "      <td>369627.100378</td>\n",
       "      <td>456487.606074</td>\n",
       "    </tr>\n",
       "    <tr>\n",
       "      <td>11160</td>\n",
       "      <td>465469.0</td>\n",
       "      <td>211629.076669</td>\n",
       "      <td>456487.606074</td>\n",
       "    </tr>\n",
       "    <tr>\n",
       "      <td>11161</td>\n",
       "      <td>248917.0</td>\n",
       "      <td>374737.646772</td>\n",
       "      <td>456487.606074</td>\n",
       "    </tr>\n",
       "  </tbody>\n",
       "</table>\n",
       "<p>11162 rows × 3 columns</p>\n",
       "</div>"
      ],
      "text/plain": [
       "         actual            lm1    lm_baseline\n",
       "0      383845.0  156834.791401  456487.606074\n",
       "1       29565.0  136857.578461  456487.606074\n",
       "2      162887.0  150449.959303  456487.606074\n",
       "3      264896.0  664584.134198  456487.606074\n",
       "4      262383.0  439235.423982  456487.606074\n",
       "...         ...            ...            ...\n",
       "11157  180427.0  163763.045399  456487.606074\n",
       "11158  120764.0  250707.171590  456487.606074\n",
       "11159   84217.0  369627.100378  456487.606074\n",
       "11160  465469.0  211629.076669  456487.606074\n",
       "11161  248917.0  374737.646772  456487.606074\n",
       "\n",
       "[11162 rows x 3 columns]"
      ]
     },
     "execution_count": 73,
     "metadata": {},
     "output_type": "execute_result"
    }
   ],
   "source": [
    "#predictions"
   ]
  },
  {
   "cell_type": "code",
   "execution_count": 77,
   "metadata": {},
   "outputs": [
    {
     "data": {
      "text/plain": [
       "<matplotlib.axes._subplots.AxesSubplot at 0x1c284b5550>"
      ]
     },
     "execution_count": 77,
     "metadata": {},
     "output_type": "execute_result"
    },
    {
     "data": {
      "image/png": "[encoded data removed]",
      "text/plain": [
       "<Figure size 432x288 with 1 Axes>"
      ]
     },
     "metadata": {
      "needs_background": "light"
     },
     "output_type": "display_data"
    }
   ],
   "source": [
    "#evaluate.plot_residuals(predictions.actual, predictions.lm1)"
   ]
  },
  {
   "cell_type": "code",
   "execution_count": null,
   "metadata": {},
   "outputs": [],
   "source": []
  }
 ],
 "metadata": {
  "kernelspec": {
   "display_name": "Python 3",
   "language": "python",
   "name": "python3"
  },
  "language_info": {
   "codemirror_mode": {
    "name": "ipython",
    "version": 3
   },
   "file_extension": ".py",
   "mimetype": "text/x-python",
   "name": "python",
   "nbconvert_exporter": "python",
   "pygments_lexer": "ipython3",
   "version": "3.7.4"
  },
  "toc": {
   "base_numbering": 1,
   "nav_menu": {},
   "number_sections": true,
   "sideBar": true,
   "skip_h1_title": true,
   "title_cell": "Table of Contents",
   "title_sidebar": "Contents",
   "toc_cell": false,
   "toc_position": {},
   "toc_section_display": true,
   "toc_window_display": false
  }
 },
 "nbformat": 4,
 "nbformat_minor": 2
}
