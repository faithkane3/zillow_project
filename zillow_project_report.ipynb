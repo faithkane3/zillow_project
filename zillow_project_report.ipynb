{
 "cells": [
  {
   "cell_type": "code",
   "execution_count": 1,
   "metadata": {},
   "outputs": [],
   "source": [
    "import csv\n",
    "import pandas as pd\n",
    "import numpy as np\n",
    "\n",
    "import env\n",
    "import util\n",
    "import wrangle_zillow"
   ]
  },
  {
   "cell_type": "markdown",
   "metadata": {},
   "source": [
    "### Wrangle Data"
   ]
  },
  {
   "cell_type": "code",
   "execution_count": 22,
   "metadata": {},
   "outputs": [],
   "source": [
    "df = wrangle_zillow.get_data_from_sql()\n",
    "df[\"fips_number\"] = df.fips\n",
    "df = df.drop(columns=[\"fips\"])\n",
    "df = df.dropna()\n",
    "df.fips_number = df.astype(int)\n",
    "df.propertylandusedesc = df.astype(\"category\")\n",
    "df.bedroomcnt = df.astype(\"int\")\n",
    "df.bathroomcnt = df.astype(\"int\")"
   ]
  },
  {
   "cell_type": "code",
   "execution_count": 23,
   "metadata": {},
   "outputs": [
    {
     "name": "stdout",
     "output_type": "stream",
     "text": [
      "DataFrame Shape:\n",
      "\n",
      "(100, 6)\n",
      "\n",
      "Info about:\n",
      "\n",
      "<class 'pandas.core.frame.DataFrame'>\n",
      "Int64Index: 100 entries, 0 to 99\n",
      "Data columns (total 6 columns):\n",
      "bedroomcnt                      100 non-null int64\n",
      "bathroomcnt                     100 non-null int64\n",
      "calculatedfinishedsquarefeet    100 non-null float64\n",
      "taxamount                       100 non-null float64\n",
      "propertylandusedesc             100 non-null object\n",
      "fips_number                     100 non-null int64\n",
      "dtypes: float64(2), int64(3), object(1)\n",
      "memory usage: 5.5+ KB\n",
      "None\n",
      "\n",
      "Describe:\n",
      "\n",
      "       bedroomcnt  bathroomcnt  calculatedfinishedsquarefeet     taxamount  \\\n",
      "count  100.000000   100.000000                    100.000000    100.000000   \n",
      "mean     3.160000     3.160000                   1890.420000   5903.252200   \n",
      "std      0.825356     0.825356                   1280.209541   8931.570593   \n",
      "min      1.000000     1.000000                    624.000000    882.790000   \n",
      "25%      3.000000     3.000000                   1337.000000   2021.942500   \n",
      "50%      3.000000     3.000000                   1597.000000   3305.135000   \n",
      "75%      4.000000     4.000000                   2132.000000   6380.432500   \n",
      "max      5.000000     5.000000                  11224.000000  75197.370000   \n",
      "\n",
      "       fips_number  \n",
      "count   100.000000  \n",
      "mean      3.160000  \n",
      "std       0.825356  \n",
      "min       1.000000  \n",
      "25%       3.000000  \n",
      "50%       3.000000  \n",
      "75%       4.000000  \n",
      "max       5.000000  \n",
      "\n",
      "Preview:\n",
      "\n",
      "   bedroomcnt  bathroomcnt  calculatedfinishedsquarefeet  taxamount  \\\n",
      "0           4            4                        1200.0    1338.30   \n",
      "1           2            2                         870.0    2776.52   \n",
      "2           5            5                       11224.0   75197.37   \n",
      "3           2            2                        1115.0    3893.23   \n",
      "4           3            3                        1497.0    3023.81   \n",
      "\n",
      "  propertylandusedesc  fips_number  \n",
      "0                   4            4  \n",
      "1                   2            2  \n",
      "2                   5            5  \n",
      "3                   2            2  \n",
      "4                   3            3  \n"
     ]
    }
   ],
   "source": [
    "util.tell_me_about(df)"
   ]
  },
  {
   "cell_type": "code",
   "execution_count": 24,
   "metadata": {},
   "outputs": [
    {
     "data": {
      "text/plain": [
       "bedroomcnt                      0\n",
       "bathroomcnt                     0\n",
       "calculatedfinishedsquarefeet    0\n",
       "taxamount                       0\n",
       "propertylandusedesc             0\n",
       "fips_number                     0\n",
       "dtype: int64"
      ]
     },
     "execution_count": 24,
     "metadata": {},
     "output_type": "execute_result"
    }
   ],
   "source": [
    "df.isnull().sum()"
   ]
  },
  {
   "cell_type": "code",
   "execution_count": null,
   "metadata": {},
   "outputs": [],
   "source": []
  }
 ],
 "metadata": {
  "kernelspec": {
   "display_name": "Python 3",
   "language": "python",
   "name": "python3"
  },
  "language_info": {
   "codemirror_mode": {
    "name": "ipython",
    "version": 3
   },
   "file_extension": ".py",
   "mimetype": "text/x-python",
   "name": "python",
   "nbconvert_exporter": "python",
   "pygments_lexer": "ipython3",
   "version": "3.7.3"
  }
 },
 "nbformat": 4,
 "nbformat_minor": 2
}
