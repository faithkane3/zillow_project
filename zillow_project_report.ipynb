{
 "cells": [
  {
   "cell_type": "code",
   "execution_count": 1,
   "metadata": {},
   "outputs": [],
   "source": [
    "import csv\n",
    "import pandas as pd\n",
    "import numpy as np\n",
    "\n",
    "import env\n",
    "import util\n",
    "import wrangle_zillow\n",
    "import split_scale_zillow"
   ]
  },
  {
   "cell_type": "markdown",
   "metadata": {},
   "source": [
    "### Wrangle Data"
   ]
  },
  {
   "cell_type": "code",
   "execution_count": 2,
   "metadata": {},
   "outputs": [
    {
     "data": {
      "text/html": [
       "<div>\n",
       "<style scoped>\n",
       "    .dataframe tbody tr th:only-of-type {\n",
       "        vertical-align: middle;\n",
       "    }\n",
       "\n",
       "    .dataframe tbody tr th {\n",
       "        vertical-align: top;\n",
       "    }\n",
       "\n",
       "    .dataframe thead th {\n",
       "        text-align: right;\n",
       "    }\n",
       "</style>\n",
       "<table border=\"1\" class=\"dataframe\">\n",
       "  <thead>\n",
       "    <tr style=\"text-align: right;\">\n",
       "      <th></th>\n",
       "      <th>bedroomcnt</th>\n",
       "      <th>bathroomcnt</th>\n",
       "      <th>calculatedfinishedsquarefeet</th>\n",
       "      <th>taxamount</th>\n",
       "      <th>taxvaluedollarcnt</th>\n",
       "      <th>propertylandusedesc</th>\n",
       "      <th>fips_number</th>\n",
       "    </tr>\n",
       "  </thead>\n",
       "  <tbody>\n",
       "    <tr>\n",
       "      <th>0</th>\n",
       "      <td>4.0</td>\n",
       "      <td>2.0</td>\n",
       "      <td>1604</td>\n",
       "      <td>6089.82</td>\n",
       "      <td>498347.0</td>\n",
       "      <td>Single Family Residential</td>\n",
       "      <td>6037</td>\n",
       "    </tr>\n",
       "    <tr>\n",
       "      <th>1</th>\n",
       "      <td>3.0</td>\n",
       "      <td>3.0</td>\n",
       "      <td>2384</td>\n",
       "      <td>6679.55</td>\n",
       "      <td>549917.0</td>\n",
       "      <td>Single Family Residential</td>\n",
       "      <td>6037</td>\n",
       "    </tr>\n",
       "    <tr>\n",
       "      <th>2</th>\n",
       "      <td>3.0</td>\n",
       "      <td>2.0</td>\n",
       "      <td>1574</td>\n",
       "      <td>3876.31</td>\n",
       "      <td>235272.0</td>\n",
       "      <td>Single Family Residential</td>\n",
       "      <td>6037</td>\n",
       "    </tr>\n",
       "    <tr>\n",
       "      <th>3</th>\n",
       "      <td>2.0</td>\n",
       "      <td>2.0</td>\n",
       "      <td>1619</td>\n",
       "      <td>4206.15</td>\n",
       "      <td>340000.0</td>\n",
       "      <td>Single Family Residential</td>\n",
       "      <td>6037</td>\n",
       "    </tr>\n",
       "    <tr>\n",
       "      <th>4</th>\n",
       "      <td>2.0</td>\n",
       "      <td>3.0</td>\n",
       "      <td>2408</td>\n",
       "      <td>24353.42</td>\n",
       "      <td>2017254.0</td>\n",
       "      <td>Single Family Residential</td>\n",
       "      <td>6037</td>\n",
       "    </tr>\n",
       "  </tbody>\n",
       "</table>\n",
       "</div>"
      ],
      "text/plain": [
       "   bedroomcnt  bathroomcnt  calculatedfinishedsquarefeet  taxamount  \\\n",
       "0         4.0          2.0                          1604    6089.82   \n",
       "1         3.0          3.0                          2384    6679.55   \n",
       "2         3.0          2.0                          1574    3876.31   \n",
       "3         2.0          2.0                          1619    4206.15   \n",
       "4         2.0          3.0                          2408   24353.42   \n",
       "\n",
       "   taxvaluedollarcnt        propertylandusedesc  fips_number  \n",
       "0           498347.0  Single Family Residential         6037  \n",
       "1           549917.0  Single Family Residential         6037  \n",
       "2           235272.0  Single Family Residential         6037  \n",
       "3           340000.0  Single Family Residential         6037  \n",
       "4          2017254.0  Single Family Residential         6037  "
      ]
     },
     "execution_count": 2,
     "metadata": {},
     "output_type": "execute_result"
    }
   ],
   "source": [
    "df = wrangle_zillow.wrangle_zillow()\n",
    "\n",
    "df.head()"
   ]
  },
  {
   "cell_type": "code",
   "execution_count": 3,
   "metadata": {},
   "outputs": [
    {
     "name": "stdout",
     "output_type": "stream",
     "text": [
      "DataFrame Shape:\n",
      "\n",
      "(199, 7)\n",
      "\n",
      "Info about:\n",
      "\n",
      "<class 'pandas.core.frame.DataFrame'>\n",
      "Int64Index: 199 entries, 0 to 199\n",
      "Data columns (total 7 columns):\n",
      "bedroomcnt                      199 non-null float64\n",
      "bathroomcnt                     199 non-null float64\n",
      "calculatedfinishedsquarefeet    199 non-null int64\n",
      "taxamount                       199 non-null float64\n",
      "taxvaluedollarcnt               199 non-null float64\n",
      "propertylandusedesc             199 non-null category\n",
      "fips_number                     199 non-null int64\n",
      "dtypes: category(1), float64(4), int64(2)\n",
      "memory usage: 11.2 KB\n",
      "None\n",
      "\n",
      "Describe:\n",
      "\n",
      "       bedroomcnt  bathroomcnt  calculatedfinishedsquarefeet     taxamount  \\\n",
      "count  199.000000   199.000000                    199.000000    199.000000   \n",
      "mean     3.120603     2.266332                   1856.000000   5838.523015   \n",
      "std      0.977281     1.121157                    993.974915   6356.556291   \n",
      "min      1.000000     1.000000                    684.000000    597.840000   \n",
      "25%      2.000000     2.000000                   1209.000000   2631.550000   \n",
      "50%      3.000000     2.000000                   1615.000000   4173.410000   \n",
      "75%      4.000000     3.000000                   2155.500000   6402.165000   \n",
      "max      7.000000     7.000000                   7818.000000  65142.120000   \n",
      "\n",
      "       taxvaluedollarcnt  fips_number  \n",
      "count       1.990000e+02        199.0  \n",
      "mean        4.693890e+05       6037.0  \n",
      "std         5.162137e+05          0.0  \n",
      "min         3.319600e+04       6037.0  \n",
      "25%         2.110010e+05       6037.0  \n",
      "50%         3.395300e+05       6037.0  \n",
      "75%         5.292045e+05       6037.0  \n",
      "max         5.416482e+06       6037.0  \n",
      "\n",
      "Preview:\n",
      "\n",
      "   bedroomcnt  bathroomcnt  calculatedfinishedsquarefeet  taxamount  \\\n",
      "0         4.0          2.0                          1604    6089.82   \n",
      "1         3.0          3.0                          2384    6679.55   \n",
      "2         3.0          2.0                          1574    3876.31   \n",
      "3         2.0          2.0                          1619    4206.15   \n",
      "4         2.0          3.0                          2408   24353.42   \n",
      "\n",
      "   taxvaluedollarcnt        propertylandusedesc  fips_number  \n",
      "0           498347.0  Single Family Residential         6037  \n",
      "1           549917.0  Single Family Residential         6037  \n",
      "2           235272.0  Single Family Residential         6037  \n",
      "3           340000.0  Single Family Residential         6037  \n",
      "4          2017254.0  Single Family Residential         6037  \n"
     ]
    }
   ],
   "source": [
    "util.tell_me_about(df)"
   ]
  },
  {
   "cell_type": "markdown",
   "metadata": {},
   "source": [
    "### Split Data"
   ]
  },
  {
   "cell_type": "code",
   "execution_count": 7,
   "metadata": {},
   "outputs": [
    {
     "data": {
      "text/plain": [
       "(40, 7)"
      ]
     },
     "execution_count": 7,
     "metadata": {},
     "output_type": "execute_result"
    }
   ],
   "source": [
    "train, test = split_scale_zillow.split_my_data(df)"
   ]
  },
  {
   "cell_type": "code",
   "execution_count": null,
   "metadata": {},
   "outputs": [],
   "source": []
  }
 ],
 "metadata": {
  "kernelspec": {
   "display_name": "Python 3",
   "language": "python",
   "name": "python3"
  },
  "language_info": {
   "codemirror_mode": {
    "name": "ipython",
    "version": 3
   },
   "file_extension": ".py",
   "mimetype": "text/x-python",
   "name": "python",
   "nbconvert_exporter": "python",
   "pygments_lexer": "ipython3",
   "version": "3.7.3"
  }
 },
 "nbformat": 4,
 "nbformat_minor": 2
}
