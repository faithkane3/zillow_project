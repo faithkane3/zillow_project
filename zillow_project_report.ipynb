{
 "cells": [
  {
   "cell_type": "code",
   "execution_count": 1,
   "metadata": {},
   "outputs": [],
   "source": []
  },
  {
   "cell_type": "markdown",
   "metadata": {},
   "source": [
    "### Wrangle Data"
   ]
  },
  {
   "cell_type": "code",
   "execution_count": 2,
   "metadata": {},
   "outputs": [
    {
     "data": {
      "text/html": [
       "<div>\n",
       "<style scoped>\n",
       "    .dataframe tbody tr th:only-of-type {\n",
       "        vertical-align: middle;\n",
       "    }\n",
       "\n",
       "    .dataframe tbody tr th {\n",
       "        vertical-align: top;\n",
       "    }\n",
       "\n",
       "    .dataframe thead th {\n",
       "        text-align: right;\n",
       "    }\n",
       "</style>\n",
       "<table border=\"1\" class=\"dataframe\">\n",
       "  <thead>\n",
       "    <tr style=\"text-align: right;\">\n",
       "      <th></th>\n",
       "      <th>bedrooms</th>\n",
       "      <th>bathrooms</th>\n",
       "      <th>square_feet</th>\n",
       "      <th>taxes</th>\n",
       "      <th>home_value</th>\n",
       "      <th>propertylandusedesc</th>\n",
       "      <th>fips_number</th>\n",
       "    </tr>\n",
       "  </thead>\n",
       "  <tbody>\n",
       "    <tr>\n",
       "      <th>0</th>\n",
       "      <td>4.0</td>\n",
       "      <td>2.0</td>\n",
       "      <td>1604</td>\n",
       "      <td>6089.82</td>\n",
       "      <td>498347.0</td>\n",
       "      <td>Single Family Residential</td>\n",
       "      <td>6037</td>\n",
       "    </tr>\n",
       "    <tr>\n",
       "      <th>1</th>\n",
       "      <td>3.0</td>\n",
       "      <td>3.0</td>\n",
       "      <td>2384</td>\n",
       "      <td>6679.55</td>\n",
       "      <td>549917.0</td>\n",
       "      <td>Single Family Residential</td>\n",
       "      <td>6037</td>\n",
       "    </tr>\n",
       "    <tr>\n",
       "      <th>2</th>\n",
       "      <td>3.0</td>\n",
       "      <td>2.0</td>\n",
       "      <td>1574</td>\n",
       "      <td>3876.31</td>\n",
       "      <td>235272.0</td>\n",
       "      <td>Single Family Residential</td>\n",
       "      <td>6037</td>\n",
       "    </tr>\n",
       "    <tr>\n",
       "      <th>3</th>\n",
       "      <td>2.0</td>\n",
       "      <td>2.0</td>\n",
       "      <td>1619</td>\n",
       "      <td>4206.15</td>\n",
       "      <td>340000.0</td>\n",
       "      <td>Single Family Residential</td>\n",
       "      <td>6037</td>\n",
       "    </tr>\n",
       "    <tr>\n",
       "      <th>4</th>\n",
       "      <td>2.0</td>\n",
       "      <td>3.0</td>\n",
       "      <td>2408</td>\n",
       "      <td>24353.42</td>\n",
       "      <td>2017254.0</td>\n",
       "      <td>Single Family Residential</td>\n",
       "      <td>6037</td>\n",
       "    </tr>\n",
       "  </tbody>\n",
       "</table>\n",
       "</div>"
      ],
      "text/plain": [
       "   bedrooms  bathrooms  square_feet     taxes  home_value  \\\n",
       "0       4.0        2.0         1604   6089.82    498347.0   \n",
       "1       3.0        3.0         2384   6679.55    549917.0   \n",
       "2       3.0        2.0         1574   3876.31    235272.0   \n",
       "3       2.0        2.0         1619   4206.15    340000.0   \n",
       "4       2.0        3.0         2408  24353.42   2017254.0   \n",
       "\n",
       "         propertylandusedesc  fips_number  \n",
       "0  Single Family Residential         6037  \n",
       "1  Single Family Residential         6037  \n",
       "2  Single Family Residential         6037  \n",
       "3  Single Family Residential         6037  \n",
       "4  Single Family Residential         6037  "
      ]
     },
     "execution_count": 2,
     "metadata": {},
     "output_type": "execute_result"
    }
   ],
   "source": [
    "df = wrangle_zillow.wrangle_zillow()\n",
    "\n",
    "df.head()"
   ]
  },
  {
   "cell_type": "code",
   "execution_count": 3,
   "metadata": {},
   "outputs": [],
   "source": [
    "#df.rename(columns={\"bedroomcnt\": \"bedrooms\", \"bathroomcnt\": \"bathrooms\", \"calculatedfinishedsquarefeet\": \"square_feet\", \"taxamount\": \"taxes\", \"taxvaluedollarcnt\": \"home_value\"})"
   ]
  },
  {
   "cell_type": "code",
   "execution_count": 4,
   "metadata": {},
   "outputs": [
    {
     "name": "stdout",
     "output_type": "stream",
     "text": [
      "DataFrame Shape:\n",
      "\n",
      "(15956, 7)\n",
      "\n",
      "Info about:\n",
      "\n",
      "<class 'pandas.core.frame.DataFrame'>\n",
      "Int64Index: 15956 entries, 0 to 15955\n",
      "Data columns (total 7 columns):\n",
      "bedrooms               15956 non-null float64\n",
      "bathrooms              15956 non-null float64\n",
      "square_feet            15956 non-null int64\n",
      "taxes                  15956 non-null float64\n",
      "home_value             15956 non-null float64\n",
      "propertylandusedesc    15956 non-null category\n",
      "fips_number            15956 non-null int64\n",
      "dtypes: category(1), float64(4), int64(2)\n",
      "memory usage: 888.3 KB\n",
      "None\n",
      "\n",
      "Describe:\n",
      "\n",
      "           bedrooms     bathrooms   square_feet          taxes    home_value  \\\n",
      "count  15956.000000  15956.000000  15956.000000   15956.000000  1.595600e+04   \n",
      "mean       3.253384      2.215844   1837.197794    5681.839846  4.634078e+05   \n",
      "std        0.949643      1.026662    984.838795    7466.645847  6.434229e+05   \n",
      "min        1.000000      1.000000    320.000000      49.180000  1.216800e+04   \n",
      "25%        3.000000      2.000000   1233.000000    2496.027500  1.820338e+05   \n",
      "50%        3.000000      2.000000   1592.000000    4065.150000  3.205150e+05   \n",
      "75%        4.000000      3.000000   2164.000000    6409.490000  5.286050e+05   \n",
      "max       25.000000     20.000000  26345.000000  228999.210000  1.912982e+07   \n",
      "\n",
      "        fips_number  \n",
      "count  15956.000000  \n",
      "mean    6044.487591  \n",
      "std       17.283469  \n",
      "min     6037.000000  \n",
      "25%     6037.000000  \n",
      "50%     6037.000000  \n",
      "75%     6037.000000  \n",
      "max     6111.000000  \n",
      "\n",
      "Preview:\n",
      "\n",
      "   bedrooms  bathrooms  square_feet     taxes  home_value  \\\n",
      "0       4.0        2.0         1604   6089.82    498347.0   \n",
      "1       3.0        3.0         2384   6679.55    549917.0   \n",
      "2       3.0        2.0         1574   3876.31    235272.0   \n",
      "3       2.0        2.0         1619   4206.15    340000.0   \n",
      "4       2.0        3.0         2408  24353.42   2017254.0   \n",
      "\n",
      "         propertylandusedesc  fips_number  \n",
      "0  Single Family Residential         6037  \n",
      "1  Single Family Residential         6037  \n",
      "2  Single Family Residential         6037  \n",
      "3  Single Family Residential         6037  \n",
      "4  Single Family Residential         6037  \n"
     ]
    }
   ],
   "source": [
    "util.tell_me_about(df)"
   ]
  },
  {
   "cell_type": "markdown",
   "metadata": {},
   "source": [
    "### Split Data"
   ]
  },
  {
   "cell_type": "code",
   "execution_count": 5,
   "metadata": {},
   "outputs": [
    {
     "data": {
      "text/html": [
       "<div>\n",
       "<style scoped>\n",
       "    .dataframe tbody tr th:only-of-type {\n",
       "        vertical-align: middle;\n",
       "    }\n",
       "\n",
       "    .dataframe tbody tr th {\n",
       "        vertical-align: top;\n",
       "    }\n",
       "\n",
       "    .dataframe thead th {\n",
       "        text-align: right;\n",
       "    }\n",
       "</style>\n",
       "<table border=\"1\" class=\"dataframe\">\n",
       "  <thead>\n",
       "    <tr style=\"text-align: right;\">\n",
       "      <th></th>\n",
       "      <th>bedrooms</th>\n",
       "      <th>bathrooms</th>\n",
       "      <th>square_feet</th>\n",
       "      <th>taxes</th>\n",
       "      <th>home_value</th>\n",
       "      <th>propertylandusedesc</th>\n",
       "      <th>fips_number</th>\n",
       "    </tr>\n",
       "  </thead>\n",
       "  <tbody>\n",
       "    <tr>\n",
       "      <th>0</th>\n",
       "      <td>4.0</td>\n",
       "      <td>2.0</td>\n",
       "      <td>1604</td>\n",
       "      <td>6089.82</td>\n",
       "      <td>498347.0</td>\n",
       "      <td>Single Family Residential</td>\n",
       "      <td>6037</td>\n",
       "    </tr>\n",
       "    <tr>\n",
       "      <th>1</th>\n",
       "      <td>3.0</td>\n",
       "      <td>3.0</td>\n",
       "      <td>2384</td>\n",
       "      <td>6679.55</td>\n",
       "      <td>549917.0</td>\n",
       "      <td>Single Family Residential</td>\n",
       "      <td>6037</td>\n",
       "    </tr>\n",
       "    <tr>\n",
       "      <th>2</th>\n",
       "      <td>3.0</td>\n",
       "      <td>2.0</td>\n",
       "      <td>1574</td>\n",
       "      <td>3876.31</td>\n",
       "      <td>235272.0</td>\n",
       "      <td>Single Family Residential</td>\n",
       "      <td>6037</td>\n",
       "    </tr>\n",
       "    <tr>\n",
       "      <th>3</th>\n",
       "      <td>2.0</td>\n",
       "      <td>2.0</td>\n",
       "      <td>1619</td>\n",
       "      <td>4206.15</td>\n",
       "      <td>340000.0</td>\n",
       "      <td>Single Family Residential</td>\n",
       "      <td>6037</td>\n",
       "    </tr>\n",
       "    <tr>\n",
       "      <th>4</th>\n",
       "      <td>2.0</td>\n",
       "      <td>3.0</td>\n",
       "      <td>2408</td>\n",
       "      <td>24353.42</td>\n",
       "      <td>2017254.0</td>\n",
       "      <td>Single Family Residential</td>\n",
       "      <td>6037</td>\n",
       "    </tr>\n",
       "    <tr>\n",
       "      <th>5</th>\n",
       "      <td>4.0</td>\n",
       "      <td>2.0</td>\n",
       "      <td>1721</td>\n",
       "      <td>6861.51</td>\n",
       "      <td>629951.0</td>\n",
       "      <td>Single Family Residential</td>\n",
       "      <td>6037</td>\n",
       "    </tr>\n",
       "    <tr>\n",
       "      <th>6</th>\n",
       "      <td>3.0</td>\n",
       "      <td>1.0</td>\n",
       "      <td>1136</td>\n",
       "      <td>5488.23</td>\n",
       "      <td>305481.0</td>\n",
       "      <td>Single Family Residential</td>\n",
       "      <td>6037</td>\n",
       "    </tr>\n",
       "    <tr>\n",
       "      <th>7</th>\n",
       "      <td>2.0</td>\n",
       "      <td>1.0</td>\n",
       "      <td>1088</td>\n",
       "      <td>1498.86</td>\n",
       "      <td>79930.0</td>\n",
       "      <td>Single Family Residential</td>\n",
       "      <td>6037</td>\n",
       "    </tr>\n",
       "    <tr>\n",
       "      <th>8</th>\n",
       "      <td>2.0</td>\n",
       "      <td>1.0</td>\n",
       "      <td>914</td>\n",
       "      <td>3473.87</td>\n",
       "      <td>260000.0</td>\n",
       "      <td>Single Family Residential</td>\n",
       "      <td>6037</td>\n",
       "    </tr>\n",
       "    <tr>\n",
       "      <th>9</th>\n",
       "      <td>3.0</td>\n",
       "      <td>2.0</td>\n",
       "      <td>1263</td>\n",
       "      <td>1048.54</td>\n",
       "      <td>66220.0</td>\n",
       "      <td>Single Family Residential</td>\n",
       "      <td>6037</td>\n",
       "    </tr>\n",
       "  </tbody>\n",
       "</table>\n",
       "</div>"
      ],
      "text/plain": [
       "   bedrooms  bathrooms  square_feet     taxes  home_value  \\\n",
       "0       4.0        2.0         1604   6089.82    498347.0   \n",
       "1       3.0        3.0         2384   6679.55    549917.0   \n",
       "2       3.0        2.0         1574   3876.31    235272.0   \n",
       "3       2.0        2.0         1619   4206.15    340000.0   \n",
       "4       2.0        3.0         2408  24353.42   2017254.0   \n",
       "5       4.0        2.0         1721   6861.51    629951.0   \n",
       "6       3.0        1.0         1136   5488.23    305481.0   \n",
       "7       2.0        1.0         1088   1498.86     79930.0   \n",
       "8       2.0        1.0          914   3473.87    260000.0   \n",
       "9       3.0        2.0         1263   1048.54     66220.0   \n",
       "\n",
       "         propertylandusedesc  fips_number  \n",
       "0  Single Family Residential         6037  \n",
       "1  Single Family Residential         6037  \n",
       "2  Single Family Residential         6037  \n",
       "3  Single Family Residential         6037  \n",
       "4  Single Family Residential         6037  \n",
       "5  Single Family Residential         6037  \n",
       "6  Single Family Residential         6037  \n",
       "7  Single Family Residential         6037  \n",
       "8  Single Family Residential         6037  \n",
       "9  Single Family Residential         6037  "
      ]
     },
     "execution_count": 5,
     "metadata": {},
     "output_type": "execute_result"
    }
   ],
   "source": [
    "df.head(10)"
   ]
  },
  {
   "cell_type": "code",
   "execution_count": 6,
   "metadata": {},
   "outputs": [],
   "source": [
    "train, test = split_scale_zillow.split_my_data(df)"
   ]
  },
  {
   "cell_type": "code",
   "execution_count": 7,
   "metadata": {},
   "outputs": [],
   "source": [
    "x_train = train[[\"bedrooms\", \"bathrooms\", \"square_feet\"]]\n",
    "y_train = train[[\"home_value\"]]\n",
    "x_test = test[[\"bedrooms\", \"bathrooms\", \"square_feet\"]]\n",
    "y_test = test[[\"home_value\"]]"
   ]
  },
  {
   "cell_type": "code",
   "execution_count": 8,
   "metadata": {},
   "outputs": [
    {
     "data": {
      "text/html": [
       "<div>\n",
       "<style scoped>\n",
       "    .dataframe tbody tr th:only-of-type {\n",
       "        vertical-align: middle;\n",
       "    }\n",
       "\n",
       "    .dataframe tbody tr th {\n",
       "        vertical-align: top;\n",
       "    }\n",
       "\n",
       "    .dataframe thead th {\n",
       "        text-align: right;\n",
       "    }\n",
       "</style>\n",
       "<table border=\"1\" class=\"dataframe\">\n",
       "  <thead>\n",
       "    <tr style=\"text-align: right;\">\n",
       "      <th></th>\n",
       "      <th>actual</th>\n",
       "    </tr>\n",
       "  </thead>\n",
       "  <tbody>\n",
       "    <tr>\n",
       "      <th>0</th>\n",
       "      <td>475946.0</td>\n",
       "    </tr>\n",
       "    <tr>\n",
       "      <th>1</th>\n",
       "      <td>250799.0</td>\n",
       "    </tr>\n",
       "    <tr>\n",
       "      <th>2</th>\n",
       "      <td>199479.0</td>\n",
       "    </tr>\n",
       "    <tr>\n",
       "      <th>3</th>\n",
       "      <td>1252995.0</td>\n",
       "    </tr>\n",
       "    <tr>\n",
       "      <th>4</th>\n",
       "      <td>107124.0</td>\n",
       "    </tr>\n",
       "  </tbody>\n",
       "</table>\n",
       "</div>"
      ],
      "text/plain": [
       "      actual\n",
       "0   475946.0\n",
       "1   250799.0\n",
       "2   199479.0\n",
       "3  1252995.0\n",
       "4   107124.0"
      ]
     },
     "execution_count": 8,
     "metadata": {},
     "output_type": "execute_result"
    }
   ],
   "source": [
    "predictions=pd.DataFrame({'actual':y_train.home_value}).reset_index(drop=True)\n",
    "predictions.head()"
   ]
  },
  {
   "cell_type": "code",
   "execution_count": 9,
   "metadata": {},
   "outputs": [],
   "source": [
    "#model 1\n",
    "lm1=LinearRegression()\n",
    "lm1.fit(x_train,y_train)\n",
    "lm1_predictions=lm1.predict(x_train)\n",
    "predictions['lm1']=lm1_predictions"
   ]
  },
  {
   "cell_type": "code",
   "execution_count": 10,
   "metadata": {},
   "outputs": [],
   "source": [
    "#model 2\n",
    "lm2=LinearRegression()\n",
    "lm2.fit(x_train[[\"square_feet\"]],y_train)\n",
    "lm2_predictions=lm2.predict(x_train[[\"square_feet\"]])\n",
    "predictions['lm2']=lm2_predictions"
   ]
  },
  {
   "cell_type": "code",
   "execution_count": 11,
   "metadata": {},
   "outputs": [
    {
     "data": {
      "text/html": [
       "<div>\n",
       "<style scoped>\n",
       "    .dataframe tbody tr th:only-of-type {\n",
       "        vertical-align: middle;\n",
       "    }\n",
       "\n",
       "    .dataframe tbody tr th {\n",
       "        vertical-align: top;\n",
       "    }\n",
       "\n",
       "    .dataframe thead th {\n",
       "        text-align: right;\n",
       "    }\n",
       "</style>\n",
       "<table border=\"1\" class=\"dataframe\">\n",
       "  <thead>\n",
       "    <tr style=\"text-align: right;\">\n",
       "      <th></th>\n",
       "      <th>actual</th>\n",
       "      <th>lm1</th>\n",
       "      <th>lm2</th>\n",
       "      <th>baseline</th>\n",
       "    </tr>\n",
       "  </thead>\n",
       "  <tbody>\n",
       "    <tr>\n",
       "      <th>0</th>\n",
       "      <td>475946.0</td>\n",
       "      <td>637253.348706</td>\n",
       "      <td>600593.798130</td>\n",
       "      <td>466158.614463</td>\n",
       "    </tr>\n",
       "    <tr>\n",
       "      <th>1</th>\n",
       "      <td>250799.0</td>\n",
       "      <td>248217.511284</td>\n",
       "      <td>243878.371844</td>\n",
       "      <td>466158.614463</td>\n",
       "    </tr>\n",
       "    <tr>\n",
       "      <th>2</th>\n",
       "      <td>199479.0</td>\n",
       "      <td>205250.600682</td>\n",
       "      <td>122011.179945</td>\n",
       "      <td>466158.614463</td>\n",
       "    </tr>\n",
       "    <tr>\n",
       "      <th>3</th>\n",
       "      <td>1252995.0</td>\n",
       "      <td>889736.594052</td>\n",
       "      <td>914571.077257</td>\n",
       "      <td>466158.614463</td>\n",
       "    </tr>\n",
       "    <tr>\n",
       "      <th>4</th>\n",
       "      <td>107124.0</td>\n",
       "      <td>458628.413111</td>\n",
       "      <td>411022.610732</td>\n",
       "      <td>466158.614463</td>\n",
       "    </tr>\n",
       "  </tbody>\n",
       "</table>\n",
       "</div>"
      ],
      "text/plain": [
       "      actual            lm1            lm2       baseline\n",
       "0   475946.0  637253.348706  600593.798130  466158.614463\n",
       "1   250799.0  248217.511284  243878.371844  466158.614463\n",
       "2   199479.0  205250.600682  122011.179945  466158.614463\n",
       "3  1252995.0  889736.594052  914571.077257  466158.614463\n",
       "4   107124.0  458628.413111  411022.610732  466158.614463"
      ]
     },
     "execution_count": 11,
     "metadata": {},
     "output_type": "execute_result"
    }
   ],
   "source": [
    "#baseline model\n",
    "predictions['baseline'] = y_train.mean()[0]\n",
    "predictions.head()"
   ]
  },
  {
   "cell_type": "code",
   "execution_count": 12,
   "metadata": {},
   "outputs": [
    {
     "name": "stdout",
     "output_type": "stream",
     "text": [
      "434952376131.3264 5551732128940250.0 659509.1933637669 0.0\n"
     ]
    }
   ],
   "source": [
    "MSE_baseline = mean_squared_error(predictions.actual, predictions.baseline)\n",
    "SSE_baseline = MSE_baseline*len(predictions.actual)\n",
    "RMSE_baseline = sqrt(MSE_baseline)\n",
    "r2_baseline = r2_score(predictions.actual, predictions.baseline)\n",
    "print(MSE_baseline,SSE_baseline,RMSE_baseline,r2_baseline)"
   ]
  },
  {
   "cell_type": "code",
   "execution_count": 13,
   "metadata": {},
   "outputs": [
    {
     "name": "stdout",
     "output_type": "stream",
     "text": [
      "248861731613.72168 3176471142317543.5 498860.433000776 0.42784142524472113\n"
     ]
    }
   ],
   "source": [
    "MSE_1 = mean_squared_error(predictions.actual, predictions.lm1)\n",
    "SSE_1 = MSE_1*len(predictions.actual)\n",
    "RMSE_1 = sqrt(MSE_1)\n",
    "r2_1 = r2_score(predictions.actual, predictions.lm1)\n",
    "print(MSE_1,SSE_1,RMSE_1,r2_1)"
   ]
  },
  {
   "cell_type": "code",
   "execution_count": 14,
   "metadata": {},
   "outputs": [
    {
     "name": "stdout",
     "output_type": "stream",
     "text": [
      "259680008185.3707 3314555624478071.5 509588.0769654748 0.40296910090459015\n"
     ]
    }
   ],
   "source": [
    "MSE_2 = mean_squared_error(predictions.actual, predictions.lm2)\n",
    "SSE_2 = MSE_2*len(predictions.actual)\n",
    "RMSE_2 = sqrt(MSE_2)\n",
    "r2_2 = r2_score(predictions.actual, predictions.lm2)\n",
    "print(MSE_2,SSE_2,RMSE_2,r2_2)"
   ]
  },
  {
   "cell_type": "code",
   "execution_count": 15,
   "metadata": {},
   "outputs": [
    {
     "data": {
      "text/html": [
       "<div>\n",
       "<style scoped>\n",
       "    .dataframe tbody tr th:only-of-type {\n",
       "        vertical-align: middle;\n",
       "    }\n",
       "\n",
       "    .dataframe tbody tr th {\n",
       "        vertical-align: top;\n",
       "    }\n",
       "\n",
       "    .dataframe thead th {\n",
       "        text-align: right;\n",
       "    }\n",
       "</style>\n",
       "<table border=\"1\" class=\"dataframe\">\n",
       "  <thead>\n",
       "    <tr style=\"text-align: right;\">\n",
       "      <th></th>\n",
       "      <th>actual</th>\n",
       "      <th>lm1</th>\n",
       "    </tr>\n",
       "  </thead>\n",
       "  <tbody>\n",
       "    <tr>\n",
       "      <th>0</th>\n",
       "      <td>475946.0</td>\n",
       "      <td>637253.348706</td>\n",
       "    </tr>\n",
       "    <tr>\n",
       "      <th>1</th>\n",
       "      <td>250799.0</td>\n",
       "      <td>248217.511284</td>\n",
       "    </tr>\n",
       "    <tr>\n",
       "      <th>2</th>\n",
       "      <td>199479.0</td>\n",
       "      <td>205250.600682</td>\n",
       "    </tr>\n",
       "    <tr>\n",
       "      <th>3</th>\n",
       "      <td>1252995.0</td>\n",
       "      <td>889736.594052</td>\n",
       "    </tr>\n",
       "    <tr>\n",
       "      <th>4</th>\n",
       "      <td>107124.0</td>\n",
       "      <td>458628.413111</td>\n",
       "    </tr>\n",
       "  </tbody>\n",
       "</table>\n",
       "</div>"
      ],
      "text/plain": [
       "      actual            lm1\n",
       "0   475946.0  637253.348706\n",
       "1   250799.0  248217.511284\n",
       "2   199479.0  205250.600682\n",
       "3  1252995.0  889736.594052\n",
       "4   107124.0  458628.413111"
      ]
     },
     "execution_count": 15,
     "metadata": {},
     "output_type": "execute_result"
    }
   ],
   "source": [
    "model_train, model_test = model_zillow.modeling_function(x_train, x_test, y_train, y_test)\n",
    "model_train.head()"
   ]
  },
  {
   "cell_type": "code",
   "execution_count": 16,
   "metadata": {},
   "outputs": [
    {
     "name": "stdout",
     "output_type": "stream",
     "text": [
      "DataFrame Shape:\n",
      "\n",
      "(12764, 2)\n",
      "\n",
      "Info about:\n",
      "\n",
      "<class 'pandas.core.frame.DataFrame'>\n",
      "RangeIndex: 12764 entries, 0 to 12763\n",
      "Data columns (total 2 columns):\n",
      "actual    12764 non-null float64\n",
      "lm1       12764 non-null float64\n",
      "dtypes: float64(2)\n",
      "memory usage: 199.5 KB\n",
      "None\n",
      "\n",
      "Describe:\n",
      "\n",
      "             actual           lm1\n",
      "count  1.276400e+04  1.276400e+04\n",
      "mean   4.661586e+05  4.661586e+05\n",
      "std    6.595350e+05  4.313991e+05\n",
      "min    1.216800e+04 -2.677119e+05\n",
      "25%    1.824972e+05  2.075943e+05\n",
      "50%    3.186745e+05  3.567202e+05\n",
      "75%    5.295208e+05  5.931809e+05\n",
      "max    1.912982e+07  1.176121e+07\n",
      "\n",
      "Preview:\n",
      "\n",
      "      actual            lm1\n",
      "0   475946.0  637253.348706\n",
      "1   250799.0  248217.511284\n",
      "2   199479.0  205250.600682\n",
      "3  1252995.0  889736.594052\n",
      "4   107124.0  458628.413111\n"
     ]
    }
   ],
   "source": [
    "util.tell_me_about(model_train)"
   ]
  },
  {
   "cell_type": "code",
   "execution_count": 17,
   "metadata": {},
   "outputs": [
    {
     "name": "stdout",
     "output_type": "stream",
     "text": [
      "       bedrooms  bathrooms  square_feet\n",
      "3305  -0.262689  -0.211923     0.321112\n",
      "10916 -0.262689  -0.211923    -0.530938\n",
      "10273 -1.307227  -1.182145    -0.822030\n",
      "1659   0.781849   0.758300     1.071078\n",
      "14226 -0.262689   0.273189    -0.131698\n",
      "       bedrooms  bathrooms  square_feet\n",
      "13405  0.781849   0.758300     0.359520\n",
      "15599  1.826386  -0.211923    -0.273201\n",
      "1185  -0.262689   0.758300     0.508098\n",
      "15417  0.781849   0.758300     0.939682\n",
      "4915   0.781849   1.728522     0.907338\n"
     ]
    }
   ],
   "source": [
    "scaler, x_train_scaled, x_test_scaled = split_scale_zillow.standard_scaler(x_train, x_test)\n",
    "print(x_train_scaled.head())\n",
    "print(x_test_scaled.head())\n"
   ]
  },
  {
   "cell_type": "code",
   "execution_count": 18,
   "metadata": {},
   "outputs": [
    {
     "data": {
      "text/plain": [
       "0     -5016.782668\n",
       "1     -5409.995063\n",
       "2     92583.517843\n",
       "3   -102798.529942\n",
       "4     22059.282126\n",
       "Name: lm1_scaled, dtype: float64"
      ]
     },
     "execution_count": 18,
     "metadata": {},
     "output_type": "execute_result"
    }
   ],
   "source": [
    "lm1_scaled=LinearRegression()\n",
    "lm1_scaled.fit(x_train_scaled,y_train)\n",
    "lm1_predictions_scaled=lm1.predict(x_train_scaled)\n",
    "predictions['lm1_scaled']=lm1_predictions_scaled\n",
    "predictions['lm1_scaled'].head()"
   ]
  },
  {
   "cell_type": "code",
   "execution_count": 19,
   "metadata": {},
   "outputs": [],
   "source": [
    "#model 2\n",
    "lm2_scaled=LinearRegression()\n",
    "lm2_scaled.fit(x_train_scaled[[\"square_feet\"]],y_train)\n",
    "lm2_predictions_scaled=lm2.predict(x_train_scaled[[\"square_feet\"]])\n",
    "predictions['lm2_scaled']=lm2_predictions_scaled"
   ]
  },
  {
   "cell_type": "code",
   "execution_count": 20,
   "metadata": {},
   "outputs": [
    {
     "data": {
      "text/html": [
       "<div>\n",
       "<style scoped>\n",
       "    .dataframe tbody tr th:only-of-type {\n",
       "        vertical-align: middle;\n",
       "    }\n",
       "\n",
       "    .dataframe tbody tr th {\n",
       "        vertical-align: top;\n",
       "    }\n",
       "\n",
       "    .dataframe thead th {\n",
       "        text-align: right;\n",
       "    }\n",
       "</style>\n",
       "<table border=\"1\" class=\"dataframe\">\n",
       "  <thead>\n",
       "    <tr style=\"text-align: right;\">\n",
       "      <th></th>\n",
       "      <th>actual</th>\n",
       "      <th>lm1</th>\n",
       "      <th>lm2</th>\n",
       "      <th>baseline</th>\n",
       "      <th>lm1_scaled</th>\n",
       "      <th>lm2_scaled</th>\n",
       "    </tr>\n",
       "  </thead>\n",
       "  <tbody>\n",
       "    <tr>\n",
       "      <th>0</th>\n",
       "      <td>475946.0</td>\n",
       "      <td>637253.348706</td>\n",
       "      <td>600593.798130</td>\n",
       "      <td>466158.614463</td>\n",
       "      <td>-5016.782668</td>\n",
       "      <td>-311581.662787</td>\n",
       "    </tr>\n",
       "    <tr>\n",
       "      <th>1</th>\n",
       "      <td>250799.0</td>\n",
       "      <td>248217.511284</td>\n",
       "      <td>243878.371844</td>\n",
       "      <td>466158.614463</td>\n",
       "      <td>-5409.995063</td>\n",
       "      <td>-311942.207789</td>\n",
       "    </tr>\n",
       "    <tr>\n",
       "      <th>2</th>\n",
       "      <td>199479.0</td>\n",
       "      <td>205250.600682</td>\n",
       "      <td>122011.179945</td>\n",
       "      <td>466158.614463</td>\n",
       "      <td>92583.517843</td>\n",
       "      <td>-312065.383306</td>\n",
       "    </tr>\n",
       "    <tr>\n",
       "      <th>3</th>\n",
       "      <td>1252995.0</td>\n",
       "      <td>889736.594052</td>\n",
       "      <td>914571.077257</td>\n",
       "      <td>466158.614463</td>\n",
       "      <td>-102798.529942</td>\n",
       "      <td>-311264.314754</td>\n",
       "    </tr>\n",
       "    <tr>\n",
       "      <th>4</th>\n",
       "      <td>107124.0</td>\n",
       "      <td>458628.413111</td>\n",
       "      <td>411022.610732</td>\n",
       "      <td>466158.614463</td>\n",
       "      <td>22059.282126</td>\n",
       "      <td>-311773.269147</td>\n",
       "    </tr>\n",
       "  </tbody>\n",
       "</table>\n",
       "</div>"
      ],
      "text/plain": [
       "      actual            lm1            lm2       baseline     lm1_scaled  \\\n",
       "0   475946.0  637253.348706  600593.798130  466158.614463   -5016.782668   \n",
       "1   250799.0  248217.511284  243878.371844  466158.614463   -5409.995063   \n",
       "2   199479.0  205250.600682  122011.179945  466158.614463   92583.517843   \n",
       "3  1252995.0  889736.594052  914571.077257  466158.614463 -102798.529942   \n",
       "4   107124.0  458628.413111  411022.610732  466158.614463   22059.282126   \n",
       "\n",
       "      lm2_scaled  \n",
       "0 -311581.662787  \n",
       "1 -311942.207789  \n",
       "2 -312065.383306  \n",
       "3 -311264.314754  \n",
       "4 -311773.269147  "
      ]
     },
     "execution_count": 20,
     "metadata": {},
     "output_type": "execute_result"
    }
   ],
   "source": [
    "predictions.head()"
   ]
  },
  {
   "cell_type": "code",
   "execution_count": null,
   "metadata": {},
   "outputs": [],
   "source": []
  }
 ],
 "metadata": {
  "kernelspec": {
   "display_name": "Python 3",
   "language": "python",
   "name": "python3"
  },
  "language_info": {
   "codemirror_mode": {
    "name": "ipython",
    "version": 3
   },
   "file_extension": ".py",
   "mimetype": "text/x-python",
   "name": "python",
   "nbconvert_exporter": "python",
   "pygments_lexer": "ipython3",
   "version": "3.7.3"
  }
 },
 "nbformat": 4,
 "nbformat_minor": 2
}
