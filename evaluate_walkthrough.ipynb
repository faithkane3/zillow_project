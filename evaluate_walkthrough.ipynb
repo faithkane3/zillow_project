{
 "cells": [
  {
   "cell_type": "code",
   "execution_count": 1,
   "metadata": {},
   "outputs": [],
   "source": [
    "import pandas as pd\n",
    "import numpy as np\n",
    "\n",
    "import seaborn as sns\n",
    "import matplotlib.pyplot as plt\n",
    "%matplotlib inline\n",
    "\n",
    "from pydataset import data\n",
    "\n",
    "from scipy import stats\n",
    "from statsmodels.formula.api import ols\n",
    "from sklearn.linear_model import LinearRegression\n",
    "from sklearn.metrics import mean_squared_error, r2_score, explained_variance_score\n",
    "from sklearn.feature_selection import f_regression \n",
    "from math import sqrt\n",
    "\n",
    "import warnings\n",
    "warnings.filterwarnings(\"ignore\")\n",
    "\n",
    "import env\n",
    "import util\n",
    "import wrangle\n",
    "import split_scale\n",
    "import explore\n",
    "import evaluate"
   ]
  },
  {
   "cell_type": "markdown",
   "metadata": {},
   "source": [
    "# Evaluate Notes and Practice"
   ]
  },
  {
   "cell_type": "code",
   "execution_count": 2,
   "metadata": {},
   "outputs": [],
   "source": [
    "df = data('tips')"
   ]
  },
  {
   "cell_type": "code",
   "execution_count": 3,
   "metadata": {},
   "outputs": [
    {
     "data": {
      "text/html": [
       "<div>\n",
       "<style scoped>\n",
       "    .dataframe tbody tr th:only-of-type {\n",
       "        vertical-align: middle;\n",
       "    }\n",
       "\n",
       "    .dataframe tbody tr th {\n",
       "        vertical-align: top;\n",
       "    }\n",
       "\n",
       "    .dataframe thead th {\n",
       "        text-align: right;\n",
       "    }\n",
       "</style>\n",
       "<table border=\"1\" class=\"dataframe\">\n",
       "  <thead>\n",
       "    <tr style=\"text-align: right;\">\n",
       "      <th></th>\n",
       "      <th>total_bill</th>\n",
       "      <th>tip</th>\n",
       "      <th>sex</th>\n",
       "      <th>smoker</th>\n",
       "      <th>day</th>\n",
       "      <th>time</th>\n",
       "      <th>size</th>\n",
       "    </tr>\n",
       "  </thead>\n",
       "  <tbody>\n",
       "    <tr>\n",
       "      <td>1</td>\n",
       "      <td>16.99</td>\n",
       "      <td>1.01</td>\n",
       "      <td>Female</td>\n",
       "      <td>No</td>\n",
       "      <td>Sun</td>\n",
       "      <td>Dinner</td>\n",
       "      <td>2</td>\n",
       "    </tr>\n",
       "    <tr>\n",
       "      <td>2</td>\n",
       "      <td>10.34</td>\n",
       "      <td>1.66</td>\n",
       "      <td>Male</td>\n",
       "      <td>No</td>\n",
       "      <td>Sun</td>\n",
       "      <td>Dinner</td>\n",
       "      <td>3</td>\n",
       "    </tr>\n",
       "    <tr>\n",
       "      <td>3</td>\n",
       "      <td>21.01</td>\n",
       "      <td>3.50</td>\n",
       "      <td>Male</td>\n",
       "      <td>No</td>\n",
       "      <td>Sun</td>\n",
       "      <td>Dinner</td>\n",
       "      <td>3</td>\n",
       "    </tr>\n",
       "    <tr>\n",
       "      <td>4</td>\n",
       "      <td>23.68</td>\n",
       "      <td>3.31</td>\n",
       "      <td>Male</td>\n",
       "      <td>No</td>\n",
       "      <td>Sun</td>\n",
       "      <td>Dinner</td>\n",
       "      <td>2</td>\n",
       "    </tr>\n",
       "    <tr>\n",
       "      <td>5</td>\n",
       "      <td>24.59</td>\n",
       "      <td>3.61</td>\n",
       "      <td>Female</td>\n",
       "      <td>No</td>\n",
       "      <td>Sun</td>\n",
       "      <td>Dinner</td>\n",
       "      <td>4</td>\n",
       "    </tr>\n",
       "  </tbody>\n",
       "</table>\n",
       "</div>"
      ],
      "text/plain": [
       "   total_bill   tip     sex smoker  day    time  size\n",
       "1       16.99  1.01  Female     No  Sun  Dinner     2\n",
       "2       10.34  1.66    Male     No  Sun  Dinner     3\n",
       "3       21.01  3.50    Male     No  Sun  Dinner     3\n",
       "4       23.68  3.31    Male     No  Sun  Dinner     2\n",
       "5       24.59  3.61  Female     No  Sun  Dinner     4"
      ]
     },
     "execution_count": 3,
     "metadata": {},
     "output_type": "execute_result"
    }
   ],
   "source": [
    "df.head()"
   ]
  },
  {
   "cell_type": "markdown",
   "metadata": {},
   "source": [
    "## Split df into train and test"
   ]
  },
  {
   "cell_type": "code",
   "execution_count": 4,
   "metadata": {},
   "outputs": [],
   "source": [
    "train, test = split_scale.split_my_data(df)"
   ]
  },
  {
   "cell_type": "code",
   "execution_count": 5,
   "metadata": {},
   "outputs": [
    {
     "name": "stdout",
     "output_type": "stream",
     "text": [
      "     total_bill   tip   sex smoker   day   time  size\n",
      "149        9.78  1.73  Male     No  Thur  Lunch     2 (170, 7)\n"
     ]
    }
   ],
   "source": [
    "print(train.head(1), train.shape)"
   ]
  },
  {
   "cell_type": "code",
   "execution_count": 6,
   "metadata": {},
   "outputs": [
    {
     "name": "stdout",
     "output_type": "stream",
     "text": [
      "     total_bill  tip   sex smoker  day    time  size\n",
      "113       38.07  4.0  Male     No  Sun  Dinner     3 (74, 7)\n"
     ]
    }
   ],
   "source": [
    "print(test.head(1), test.shape)"
   ]
  },
  {
   "cell_type": "code",
   "execution_count": 7,
   "metadata": {},
   "outputs": [],
   "source": [
    "X_train = train['total_bill']\n",
    "X_test = test['total_bill']\n",
    "y_train = train['tip']\n",
    "y_test = test['tip']"
   ]
  },
  {
   "cell_type": "markdown",
   "metadata": {},
   "source": [
    "## fit and predict on the single-variate ols model"
   ]
  },
  {
   "cell_type": "code",
   "execution_count": 8,
   "metadata": {},
   "outputs": [],
   "source": [
    "ols_model = ols('tip ~ total_bill', data=train).fit()"
   ]
  },
  {
   "cell_type": "code",
   "execution_count": 9,
   "metadata": {},
   "outputs": [
    {
     "data": {
      "text/plain": [
       "149    2.038397\n",
       "214    2.358964\n",
       "179    2.021863\n",
       "42     2.743828\n",
       "120    3.351895\n",
       "dtype: float64"
      ]
     },
     "execution_count": 9,
     "metadata": {},
     "output_type": "execute_result"
    }
   ],
   "source": [
    "ols_yhat = ols_model.predict(X_train) \n",
    "ols_yhat.head()"
   ]
  },
  {
   "cell_type": "markdown",
   "metadata": {},
   "source": [
    "## Create and validate a plot_residuals(x, y, df) function"
   ]
  },
  {
   "cell_type": "code",
   "execution_count": 10,
   "metadata": {},
   "outputs": [],
   "source": [
    "def plot_residuals(x, y, df):\n",
    "    \"\"\"\n",
    "    Takes: \n",
    "           x, feature string\n",
    "           y, target string\n",
    "           df\n",
    "    Returns: \n",
    "           plot of the residuals from linear regression\n",
    "           of y on x\n",
    "    \"\"\"\n",
    "    sns.residplot(x, y, df)\n",
    "    plt.title('Residuals')\n",
    "    plt.xlabel(x)\n",
    "    plt.ylabel(y)\n",
    "    plt.show()"
   ]
  },
  {
   "cell_type": "code",
   "execution_count": 11,
   "metadata": {},
   "outputs": [
    {
     "data": {
      "image/png": "[encoded data removed]",
      "text/plain": [
       "<Figure size 432x288 with 1 Axes>"
      ]
     },
     "metadata": {
      "needs_background": "light"
     },
     "output_type": "display_data"
    }
   ],
   "source": [
    "plot_residuals('total_bill', 'tip', train)"
   ]
  },
  {
   "cell_type": "code",
   "execution_count": 12,
   "metadata": {},
   "outputs": [
    {
     "data": {
      "image/png": "[encoded data removed]",
      "text/plain": [
       "<Figure size 432x288 with 1 Axes>"
      ]
     },
     "metadata": {
      "needs_background": "light"
     },
     "output_type": "display_data"
    }
   ],
   "source": [
    "# call function from evaluate.py module\n",
    "\n",
    "evaluate.plot_residuals('total_bill', 'tip', train)"
   ]
  },
  {
   "cell_type": "markdown",
   "metadata": {},
   "source": [
    "## Create a regression_errors(y, yhat) function\n",
    "\n",
    "- returns the SSE, ESS, TSS, MSE and RMSE metrics"
   ]
  },
  {
   "cell_type": "code",
   "execution_count": 13,
   "metadata": {},
   "outputs": [],
   "source": [
    "def regression_errors(y, yhat):\n",
    "    \"\"\"\n",
    "    Takes: \n",
    "          target variable y, Pandas Series\n",
    "          yhat, calculated regression Pandas Series\n",
    "    Returns:\n",
    "          SSE, ESS, TSS, MSE, RMSE\n",
    "    \"\"\"\n",
    "    from math import sqrt\n",
    "    SSE = ((yhat - y) ** 2).sum()\n",
    "    MSE = SSE / len(y)\n",
    "    ESS = sum((yhat - y.mean())**2)\n",
    "    TSS = SSE + ESS\n",
    "    RMSE = sqrt(MSE)\n",
    "    print(f'SSE: {round(SSE, 3)}')\n",
    "    print(f'ESS: {round(ESS, 3)}')\n",
    "    print(f'TSS: {round(TSS, 3)}')\n",
    "    print(f'MSE: {round(MSE, 3)}')\n",
    "    print(f'RMSE: {round(RMSE,3)}')\n",
    "    return SSE, ESS, TSS, MSE, RMSE"
   ]
  },
  {
   "cell_type": "code",
   "execution_count": 14,
   "metadata": {},
   "outputs": [
    {
     "name": "stdout",
     "output_type": "stream",
     "text": [
      "SSE: 163.505\n",
      "ESS: 97.261\n",
      "TSS: 260.765\n",
      "MSE: 0.962\n",
      "RMSE: 0.981\n"
     ]
    }
   ],
   "source": [
    "SSE, ESS, TSS, MSE, RMSE = regression_errors(y_train, ols_yhat)"
   ]
  },
  {
   "cell_type": "code",
   "execution_count": 15,
   "metadata": {},
   "outputs": [
    {
     "name": "stdout",
     "output_type": "stream",
     "text": [
      "SSE: 163.505\n",
      "ESS: 97.261\n",
      "TSS: 260.765\n",
      "MSE: 0.962\n",
      "RMSE: 0.981\n"
     ]
    }
   ],
   "source": [
    "# Call function from evaluate.py\n",
    "\n",
    "SSE, ESS, TSS, MSE, RMSE = evaluate.regression_errors(y_train, ols_yhat)"
   ]
  },
  {
   "cell_type": "markdown",
   "metadata": {},
   "source": [
    "### Looks good!"
   ]
  },
  {
   "cell_type": "markdown",
   "metadata": {},
   "source": [
    "## Create a baseline_mean_errors(y)"
   ]
  },
  {
   "cell_type": "code",
   "execution_count": 16,
   "metadata": {},
   "outputs": [],
   "source": [
    "def baseline_mean_errors(y):\n",
    "    \"\"\"\n",
    "    Takes: \n",
    "          target variable y, Pandas Series\n",
    "    Returns:\n",
    "          SSE, MSE, RMSE for baseline values\n",
    "    \"\"\"\n",
    "    bSSE = ((y.mean() - y) ** 2).sum()\n",
    "    bMSE = bSSE / len(y)\n",
    "    bRMSE = bMSE ** .5\n",
    "    print(f'baseline SSE: {round(bSSE, 3)}')\n",
    "    print(f'baseline MSE: {round(bMSE, 3)}')\n",
    "    print(f'baseline RMSE: {round(bRMSE,3)}')\n",
    "    return bSSE, bMSE, bRMSE"
   ]
  },
  {
   "cell_type": "code",
   "execution_count": 17,
   "metadata": {},
   "outputs": [
    {
     "name": "stdout",
     "output_type": "stream",
     "text": [
      "baseline SSE: 260.765\n",
      "baseline MSE: 1.534\n",
      "baseline RMSE: 1.239\n"
     ]
    }
   ],
   "source": [
    "bSSE, bMSE, bRMSE = baseline_mean_errors(y_train)"
   ]
  },
  {
   "cell_type": "code",
   "execution_count": 18,
   "metadata": {},
   "outputs": [
    {
     "name": "stdout",
     "output_type": "stream",
     "text": [
      "baseline SSE: 260.765\n",
      "baseline MSE: 1.534\n",
      "baseline RMSE: 1.239\n"
     ]
    }
   ],
   "source": [
    "# Validate function from evaluate.py\n",
    "\n",
    "bSSE, bMSE, bRMSE = evaluate.baseline_mean_errors(y_train)"
   ]
  },
  {
   "cell_type": "markdown",
   "metadata": {},
   "source": [
    "### We can see from the RMSE of .98 using "
   ]
  },
  {
   "cell_type": "markdown",
   "metadata": {},
   "source": [
    "## Create a function better_than_baseline(y, yhat)\n",
    "\n",
    "- Takes in the y (target variable) and yhat (predictions) and returns True if the model performs better than the baseline."
   ]
  },
  {
   "cell_type": "code",
   "execution_count": 19,
   "metadata": {},
   "outputs": [],
   "source": [
    "def better_than_baseline(y, yhat):\n",
    "    \"\"\"\n",
    "    Takes: \n",
    "          y variable, Pandas Series\n",
    "          yhat variable, Pandas Series\n",
    "    Returns:\n",
    "          boolean value evaluating statement\n",
    "              - model performs better\n",
    "              than baseline\n",
    "    \"\"\"\n",
    "    SSE = ((yhat - y) ** 2).sum()\n",
    "    bSSE = ((y.mean() - y) ** 2).sum()\n",
    "    return SSE < bSSE"
   ]
  },
  {
   "cell_type": "code",
   "execution_count": 20,
   "metadata": {},
   "outputs": [
    {
     "data": {
      "text/plain": [
       "True"
      ]
     },
     "execution_count": 20,
     "metadata": {},
     "output_type": "execute_result"
    }
   ],
   "source": [
    "better_than_baseline(y_train, ols_yhat)"
   ]
  },
  {
   "cell_type": "code",
   "execution_count": 21,
   "metadata": {},
   "outputs": [
    {
     "data": {
      "text/plain": [
       "True"
      ]
     },
     "execution_count": 21,
     "metadata": {},
     "output_type": "execute_result"
    }
   ],
   "source": [
    "# Validate that the function works from the evaluate.py file\n",
    "\n",
    "evaluate.better_than_baseline(y_train, ols_yhat)"
   ]
  },
  {
   "cell_type": "markdown",
   "metadata": {},
   "source": [
    "## Create a function model_significance(ols_model)\n",
    "\n",
    "- takes the ols model as input and returns the amount of variance explained in your model, and the value telling you whether the correlation between the model and the tip value are statistically significant."
   ]
  },
  {
   "cell_type": "code",
   "execution_count": 22,
   "metadata": {},
   "outputs": [],
   "source": [
    "def model_significance(ols_model):\n",
    "    \"\"\"Takes:\n",
    "             ols model\n",
    "       Returns:\n",
    "             r2\n",
    "             p_value\n",
    "    \"\"\"\n",
    "    p_value = ols_model.f_pvalue\n",
    "    r2 = ols_model.rsquared\n",
    "    print(f'The independent variable explains {r2:.2%} of the variance in our dependent variable.')\n",
    "    print(f'Our p_value is {round(p_value,4)}')\n",
    "    return r2, p_value"
   ]
  },
  {
   "cell_type": "code",
   "execution_count": 23,
   "metadata": {},
   "outputs": [
    {
     "name": "stdout",
     "output_type": "stream",
     "text": [
      "The independent variable explains 37.30% of the variance in our dependent variable.\n",
      "Our p_value is 0.0\n"
     ]
    }
   ],
   "source": [
    "r2, p = model_significance(ols_model)"
   ]
  },
  {
   "cell_type": "code",
   "execution_count": 24,
   "metadata": {},
   "outputs": [
    {
     "name": "stdout",
     "output_type": "stream",
     "text": [
      "The independent variable explains 37.30% of the variance in our dependent variable.\n",
      "Our p_value is 0.0\n"
     ]
    }
   ],
   "source": [
    "# Validate the model_significance function works from evaulate.py\n",
    "\n",
    "r2, p = evaluate.model_significance(ols_model)"
   ]
  },
  {
   "cell_type": "markdown",
   "metadata": {},
   "source": [
    "# Evaluate the single-variate ols model\n",
    "\n",
    "- Compute evaluation metrics for the model\n",
    "\n",
    "\n",
    "- Compute a baseline yhat using just the mean of our target variable, tip\n",
    "\n",
    "\n",
    "- Check our p-value and f statistic"
   ]
  },
  {
   "cell_type": "code",
   "execution_count": 25,
   "metadata": {},
   "outputs": [
    {
     "data": {
      "text/html": [
       "<table class=\"simpletable\">\n",
       "<caption>OLS Regression Results</caption>\n",
       "<tr>\n",
       "  <th>Dep. Variable:</th>           <td>tip</td>       <th>  R-squared:         </th> <td>   0.373</td>\n",
       "</tr>\n",
       "<tr>\n",
       "  <th>Model:</th>                   <td>OLS</td>       <th>  Adj. R-squared:    </th> <td>   0.369</td>\n",
       "</tr>\n",
       "<tr>\n",
       "  <th>Method:</th>             <td>Least Squares</td>  <th>  F-statistic:       </th> <td>   99.93</td>\n",
       "</tr>\n",
       "<tr>\n",
       "  <th>Date:</th>             <td>Mon, 23 Mar 2020</td> <th>  Prob (F-statistic):</th> <td>9.34e-19</td>\n",
       "</tr>\n",
       "<tr>\n",
       "  <th>Time:</th>                 <td>22:42:52</td>     <th>  Log-Likelihood:    </th> <td> -237.91</td>\n",
       "</tr>\n",
       "<tr>\n",
       "  <th>No. Observations:</th>      <td>   170</td>      <th>  AIC:               </th> <td>   479.8</td>\n",
       "</tr>\n",
       "<tr>\n",
       "  <th>Df Residuals:</th>          <td>   168</td>      <th>  BIC:               </th> <td>   486.1</td>\n",
       "</tr>\n",
       "<tr>\n",
       "  <th>Df Model:</th>              <td>     1</td>      <th>                     </th>     <td> </td>   \n",
       "</tr>\n",
       "<tr>\n",
       "  <th>Covariance Type:</th>      <td>nonrobust</td>    <th>                     </th>     <td> </td>   \n",
       "</tr>\n",
       "</table>\n",
       "<table class=\"simpletable\">\n",
       "<tr>\n",
       "       <td></td>         <th>coef</th>     <th>std err</th>      <th>t</th>      <th>P>|t|</th>  <th>[0.025</th>    <th>0.975]</th>  \n",
       "</tr>\n",
       "<tr>\n",
       "  <th>Intercept</th>  <td>    1.1401</td> <td>    0.191</td> <td>    5.959</td> <td> 0.000</td> <td>    0.762</td> <td>    1.518</td>\n",
       "</tr>\n",
       "<tr>\n",
       "  <th>total_bill</th> <td>    0.0919</td> <td>    0.009</td> <td>    9.997</td> <td> 0.000</td> <td>    0.074</td> <td>    0.110</td>\n",
       "</tr>\n",
       "</table>\n",
       "<table class=\"simpletable\">\n",
       "<tr>\n",
       "  <th>Omnibus:</th>       <td>14.604</td> <th>  Durbin-Watson:     </th> <td>   1.875</td>\n",
       "</tr>\n",
       "<tr>\n",
       "  <th>Prob(Omnibus):</th> <td> 0.001</td> <th>  Jarque-Bera (JB):  </th> <td>  17.203</td>\n",
       "</tr>\n",
       "<tr>\n",
       "  <th>Skew:</th>          <td> 0.602</td> <th>  Prob(JB):          </th> <td>0.000184</td>\n",
       "</tr>\n",
       "<tr>\n",
       "  <th>Kurtosis:</th>      <td> 3.990</td> <th>  Cond. No.          </th> <td>    52.8</td>\n",
       "</tr>\n",
       "</table><br/><br/>Warnings:<br/>[1] Standard Errors assume that the covariance matrix of the errors is correctly specified."
      ],
      "text/plain": [
       "<class 'statsmodels.iolib.summary.Summary'>\n",
       "\"\"\"\n",
       "                            OLS Regression Results                            \n",
       "==============================================================================\n",
       "Dep. Variable:                    tip   R-squared:                       0.373\n",
       "Model:                            OLS   Adj. R-squared:                  0.369\n",
       "Method:                 Least Squares   F-statistic:                     99.93\n",
       "Date:                Mon, 23 Mar 2020   Prob (F-statistic):           9.34e-19\n",
       "Time:                        22:42:52   Log-Likelihood:                -237.91\n",
       "No. Observations:                 170   AIC:                             479.8\n",
       "Df Residuals:                     168   BIC:                             486.1\n",
       "Df Model:                           1                                         \n",
       "Covariance Type:            nonrobust                                         \n",
       "==============================================================================\n",
       "                 coef    std err          t      P>|t|      [0.025      0.975]\n",
       "------------------------------------------------------------------------------\n",
       "Intercept      1.1401      0.191      5.959      0.000       0.762       1.518\n",
       "total_bill     0.0919      0.009      9.997      0.000       0.074       0.110\n",
       "==============================================================================\n",
       "Omnibus:                       14.604   Durbin-Watson:                   1.875\n",
       "Prob(Omnibus):                  0.001   Jarque-Bera (JB):               17.203\n",
       "Skew:                           0.602   Prob(JB):                     0.000184\n",
       "Kurtosis:                       3.990   Cond. No.                         52.8\n",
       "==============================================================================\n",
       "\n",
       "Warnings:\n",
       "[1] Standard Errors assume that the covariance matrix of the errors is correctly specified.\n",
       "\"\"\""
      ]
     },
     "execution_count": 25,
     "metadata": {},
     "output_type": "execute_result"
    }
   ],
   "source": [
    "ols_model.summary()"
   ]
  },
  {
   "cell_type": "code",
   "execution_count": 26,
   "metadata": {},
   "outputs": [
    {
     "data": {
      "text/html": [
       "<div>\n",
       "<style scoped>\n",
       "    .dataframe tbody tr th:only-of-type {\n",
       "        vertical-align: middle;\n",
       "    }\n",
       "\n",
       "    .dataframe tbody tr th {\n",
       "        vertical-align: top;\n",
       "    }\n",
       "\n",
       "    .dataframe thead th {\n",
       "        text-align: right;\n",
       "    }\n",
       "</style>\n",
       "<table border=\"1\" class=\"dataframe\">\n",
       "  <thead>\n",
       "    <tr style=\"text-align: right;\">\n",
       "      <th></th>\n",
       "      <th>x</th>\n",
       "      <th>y</th>\n",
       "      <th>yhat</th>\n",
       "    </tr>\n",
       "  </thead>\n",
       "  <tbody>\n",
       "    <tr>\n",
       "      <td>149</td>\n",
       "      <td>9.78</td>\n",
       "      <td>1.73</td>\n",
       "      <td>2.038397</td>\n",
       "    </tr>\n",
       "    <tr>\n",
       "      <td>214</td>\n",
       "      <td>13.27</td>\n",
       "      <td>2.50</td>\n",
       "      <td>2.358964</td>\n",
       "    </tr>\n",
       "    <tr>\n",
       "      <td>179</td>\n",
       "      <td>9.60</td>\n",
       "      <td>4.00</td>\n",
       "      <td>2.021863</td>\n",
       "    </tr>\n",
       "    <tr>\n",
       "      <td>42</td>\n",
       "      <td>17.46</td>\n",
       "      <td>2.54</td>\n",
       "      <td>2.743828</td>\n",
       "    </tr>\n",
       "    <tr>\n",
       "      <td>120</td>\n",
       "      <td>24.08</td>\n",
       "      <td>2.92</td>\n",
       "      <td>3.351895</td>\n",
       "    </tr>\n",
       "  </tbody>\n",
       "</table>\n",
       "</div>"
      ],
      "text/plain": [
       "         x     y      yhat\n",
       "149   9.78  1.73  2.038397\n",
       "214  13.27  2.50  2.358964\n",
       "179   9.60  4.00  2.021863\n",
       "42   17.46  2.54  2.743828\n",
       "120  24.08  2.92  3.351895"
      ]
     },
     "execution_count": 26,
     "metadata": {},
     "output_type": "execute_result"
    }
   ],
   "source": [
    "eval_ols_df = pd.DataFrame({'x': X_train, 'y': y_train, 'yhat': ols_yhat })\n",
    "eval_ols_df.head()"
   ]
  },
  {
   "cell_type": "code",
   "execution_count": 27,
   "metadata": {},
   "outputs": [],
   "source": [
    "eval_ols_df['residual'] = eval_ols_df.yhat - eval_ols_df.y"
   ]
  },
  {
   "cell_type": "code",
   "execution_count": 28,
   "metadata": {},
   "outputs": [
    {
     "data": {
      "text/html": [
       "<div>\n",
       "<style scoped>\n",
       "    .dataframe tbody tr th:only-of-type {\n",
       "        vertical-align: middle;\n",
       "    }\n",
       "\n",
       "    .dataframe tbody tr th {\n",
       "        vertical-align: top;\n",
       "    }\n",
       "\n",
       "    .dataframe thead th {\n",
       "        text-align: right;\n",
       "    }\n",
       "</style>\n",
       "<table border=\"1\" class=\"dataframe\">\n",
       "  <thead>\n",
       "    <tr style=\"text-align: right;\">\n",
       "      <th></th>\n",
       "      <th>x</th>\n",
       "      <th>y</th>\n",
       "      <th>yhat</th>\n",
       "      <th>residual</th>\n",
       "    </tr>\n",
       "  </thead>\n",
       "  <tbody>\n",
       "    <tr>\n",
       "      <td>149</td>\n",
       "      <td>9.78</td>\n",
       "      <td>1.73</td>\n",
       "      <td>2.038397</td>\n",
       "      <td>0.308397</td>\n",
       "    </tr>\n",
       "    <tr>\n",
       "      <td>214</td>\n",
       "      <td>13.27</td>\n",
       "      <td>2.50</td>\n",
       "      <td>2.358964</td>\n",
       "      <td>-0.141036</td>\n",
       "    </tr>\n",
       "    <tr>\n",
       "      <td>179</td>\n",
       "      <td>9.60</td>\n",
       "      <td>4.00</td>\n",
       "      <td>2.021863</td>\n",
       "      <td>-1.978137</td>\n",
       "    </tr>\n",
       "    <tr>\n",
       "      <td>42</td>\n",
       "      <td>17.46</td>\n",
       "      <td>2.54</td>\n",
       "      <td>2.743828</td>\n",
       "      <td>0.203828</td>\n",
       "    </tr>\n",
       "    <tr>\n",
       "      <td>120</td>\n",
       "      <td>24.08</td>\n",
       "      <td>2.92</td>\n",
       "      <td>3.351895</td>\n",
       "      <td>0.431895</td>\n",
       "    </tr>\n",
       "  </tbody>\n",
       "</table>\n",
       "</div>"
      ],
      "text/plain": [
       "         x     y      yhat  residual\n",
       "149   9.78  1.73  2.038397  0.308397\n",
       "214  13.27  2.50  2.358964 -0.141036\n",
       "179   9.60  4.00  2.021863 -1.978137\n",
       "42   17.46  2.54  2.743828  0.203828\n",
       "120  24.08  2.92  3.351895  0.431895"
      ]
     },
     "execution_count": 28,
     "metadata": {},
     "output_type": "execute_result"
    }
   ],
   "source": [
    "eval_ols_df.head()"
   ]
  },
  {
   "cell_type": "markdown",
   "metadata": {},
   "source": [
    "# Baseline evaluation using the mean of tip\n",
    "\n",
    "- Create a column called baseline that is the repeated mean value of total_bill.\n",
    "\n",
    "\n",
    "- Compare evaluation metrics of the first ols model with this baseline model."
   ]
  },
  {
   "cell_type": "code",
   "execution_count": 29,
   "metadata": {},
   "outputs": [
    {
     "data": {
      "text/html": [
       "<div>\n",
       "<style scoped>\n",
       "    .dataframe tbody tr th:only-of-type {\n",
       "        vertical-align: middle;\n",
       "    }\n",
       "\n",
       "    .dataframe tbody tr th {\n",
       "        vertical-align: top;\n",
       "    }\n",
       "\n",
       "    .dataframe thead th {\n",
       "        text-align: right;\n",
       "    }\n",
       "</style>\n",
       "<table border=\"1\" class=\"dataframe\">\n",
       "  <thead>\n",
       "    <tr style=\"text-align: right;\">\n",
       "      <th></th>\n",
       "      <th>x</th>\n",
       "      <th>y</th>\n",
       "      <th>yhat</th>\n",
       "      <th>residual</th>\n",
       "      <th>baseline</th>\n",
       "    </tr>\n",
       "  </thead>\n",
       "  <tbody>\n",
       "    <tr>\n",
       "      <td>149</td>\n",
       "      <td>9.78</td>\n",
       "      <td>1.73</td>\n",
       "      <td>2.038397</td>\n",
       "      <td>0.308397</td>\n",
       "      <td>2.896882</td>\n",
       "    </tr>\n",
       "    <tr>\n",
       "      <td>214</td>\n",
       "      <td>13.27</td>\n",
       "      <td>2.50</td>\n",
       "      <td>2.358964</td>\n",
       "      <td>-0.141036</td>\n",
       "      <td>2.896882</td>\n",
       "    </tr>\n",
       "    <tr>\n",
       "      <td>179</td>\n",
       "      <td>9.60</td>\n",
       "      <td>4.00</td>\n",
       "      <td>2.021863</td>\n",
       "      <td>-1.978137</td>\n",
       "      <td>2.896882</td>\n",
       "    </tr>\n",
       "    <tr>\n",
       "      <td>42</td>\n",
       "      <td>17.46</td>\n",
       "      <td>2.54</td>\n",
       "      <td>2.743828</td>\n",
       "      <td>0.203828</td>\n",
       "      <td>2.896882</td>\n",
       "    </tr>\n",
       "    <tr>\n",
       "      <td>120</td>\n",
       "      <td>24.08</td>\n",
       "      <td>2.92</td>\n",
       "      <td>3.351895</td>\n",
       "      <td>0.431895</td>\n",
       "      <td>2.896882</td>\n",
       "    </tr>\n",
       "  </tbody>\n",
       "</table>\n",
       "</div>"
      ],
      "text/plain": [
       "         x     y      yhat  residual  baseline\n",
       "149   9.78  1.73  2.038397  0.308397  2.896882\n",
       "214  13.27  2.50  2.358964 -0.141036  2.896882\n",
       "179   9.60  4.00  2.021863 -1.978137  2.896882\n",
       "42   17.46  2.54  2.743828  0.203828  2.896882\n",
       "120  24.08  2.92  3.351895  0.431895  2.896882"
      ]
     },
     "execution_count": 29,
     "metadata": {},
     "output_type": "execute_result"
    }
   ],
   "source": [
    "eval_ols_df = eval_ols_df.assign(baseline=eval_ols_df.y.mean())\n",
    "eval_ols_df.head()"
   ]
  },
  {
   "cell_type": "code",
   "execution_count": 30,
   "metadata": {},
   "outputs": [],
   "source": [
    "eval_ols_df['baseline_residual'] = eval_ols_df.baseline - eval_ols_df.y"
   ]
  },
  {
   "cell_type": "code",
   "execution_count": 31,
   "metadata": {},
   "outputs": [
    {
     "data": {
      "text/html": [
       "<div>\n",
       "<style scoped>\n",
       "    .dataframe tbody tr th:only-of-type {\n",
       "        vertical-align: middle;\n",
       "    }\n",
       "\n",
       "    .dataframe tbody tr th {\n",
       "        vertical-align: top;\n",
       "    }\n",
       "\n",
       "    .dataframe thead th {\n",
       "        text-align: right;\n",
       "    }\n",
       "</style>\n",
       "<table border=\"1\" class=\"dataframe\">\n",
       "  <thead>\n",
       "    <tr style=\"text-align: right;\">\n",
       "      <th></th>\n",
       "      <th>x</th>\n",
       "      <th>y</th>\n",
       "      <th>yhat</th>\n",
       "      <th>residual</th>\n",
       "      <th>baseline</th>\n",
       "      <th>baseline_residual</th>\n",
       "    </tr>\n",
       "  </thead>\n",
       "  <tbody>\n",
       "    <tr>\n",
       "      <td>149</td>\n",
       "      <td>9.78</td>\n",
       "      <td>1.73</td>\n",
       "      <td>2.038397</td>\n",
       "      <td>0.308397</td>\n",
       "      <td>2.896882</td>\n",
       "      <td>1.166882</td>\n",
       "    </tr>\n",
       "    <tr>\n",
       "      <td>214</td>\n",
       "      <td>13.27</td>\n",
       "      <td>2.50</td>\n",
       "      <td>2.358964</td>\n",
       "      <td>-0.141036</td>\n",
       "      <td>2.896882</td>\n",
       "      <td>0.396882</td>\n",
       "    </tr>\n",
       "    <tr>\n",
       "      <td>179</td>\n",
       "      <td>9.60</td>\n",
       "      <td>4.00</td>\n",
       "      <td>2.021863</td>\n",
       "      <td>-1.978137</td>\n",
       "      <td>2.896882</td>\n",
       "      <td>-1.103118</td>\n",
       "    </tr>\n",
       "    <tr>\n",
       "      <td>42</td>\n",
       "      <td>17.46</td>\n",
       "      <td>2.54</td>\n",
       "      <td>2.743828</td>\n",
       "      <td>0.203828</td>\n",
       "      <td>2.896882</td>\n",
       "      <td>0.356882</td>\n",
       "    </tr>\n",
       "    <tr>\n",
       "      <td>120</td>\n",
       "      <td>24.08</td>\n",
       "      <td>2.92</td>\n",
       "      <td>3.351895</td>\n",
       "      <td>0.431895</td>\n",
       "      <td>2.896882</td>\n",
       "      <td>-0.023118</td>\n",
       "    </tr>\n",
       "  </tbody>\n",
       "</table>\n",
       "</div>"
      ],
      "text/plain": [
       "         x     y      yhat  residual  baseline  baseline_residual\n",
       "149   9.78  1.73  2.038397  0.308397  2.896882           1.166882\n",
       "214  13.27  2.50  2.358964 -0.141036  2.896882           0.396882\n",
       "179   9.60  4.00  2.021863 -1.978137  2.896882          -1.103118\n",
       "42   17.46  2.54  2.743828  0.203828  2.896882           0.356882\n",
       "120  24.08  2.92  3.351895  0.431895  2.896882          -0.023118"
      ]
     },
     "execution_count": 31,
     "metadata": {},
     "output_type": "execute_result"
    }
   ],
   "source": [
    "eval_ols_df.head()"
   ]
  },
  {
   "cell_type": "code",
   "execution_count": null,
   "metadata": {},
   "outputs": [],
   "source": []
  }
 ],
 "metadata": {
  "kernelspec": {
   "display_name": "Python 3",
   "language": "python",
   "name": "python3"
  },
  "language_info": {
   "codemirror_mode": {
    "name": "ipython",
    "version": 3
   },
   "file_extension": ".py",
   "mimetype": "text/x-python",
   "name": "python",
   "nbconvert_exporter": "python",
   "pygments_lexer": "ipython3",
   "version": "3.7.4"
  },
  "toc": {
   "base_numbering": 1,
   "nav_menu": {},
   "number_sections": true,
   "sideBar": true,
   "skip_h1_title": true,
   "title_cell": "Table of Contents",
   "title_sidebar": "Contents",
   "toc_cell": false,
   "toc_position": {},
   "toc_section_display": true,
   "toc_window_display": false
  }
 },
 "nbformat": 4,
 "nbformat_minor": 2
}
