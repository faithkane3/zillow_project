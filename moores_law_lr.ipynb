{
 "cells": [
  {
   "cell_type": "code",
   "execution_count": 83,
   "metadata": {},
   "outputs": [],
   "source": [
    "import pandas as pd\n",
    "import numpy as np\n",
    "\n",
    "import matplotlib.pyplot as plt\n",
    "%matplotlib inline\n",
    "import seaborn as sns\n",
    "\n",
    "import re\n",
    "\n",
    "import statsmodels.api as sm"
   ]
  },
  {
   "cell_type": "markdown",
   "metadata": {},
   "source": [
    "## Read in Data Using Clipboard"
   ]
  },
  {
   "cell_type": "code",
   "execution_count": 3,
   "metadata": {},
   "outputs": [],
   "source": [
    "df = pd.read_clipboard()"
   ]
  },
  {
   "cell_type": "code",
   "execution_count": 4,
   "metadata": {},
   "outputs": [
    {
     "data": {
      "text/html": [
       "<div>\n",
       "<style scoped>\n",
       "    .dataframe tbody tr th:only-of-type {\n",
       "        vertical-align: middle;\n",
       "    }\n",
       "\n",
       "    .dataframe tbody tr th {\n",
       "        vertical-align: top;\n",
       "    }\n",
       "\n",
       "    .dataframe thead th {\n",
       "        text-align: right;\n",
       "    }\n",
       "</style>\n",
       "<table border=\"1\" class=\"dataframe\">\n",
       "  <thead>\n",
       "    <tr style=\"text-align: right;\">\n",
       "      <th></th>\n",
       "      <th>Intel 4004</th>\n",
       "      <th>2,300</th>\n",
       "      <th>1971</th>\n",
       "      <th>Intel</th>\n",
       "      <th>10,000 nm</th>\n",
       "      <th>12 mm²</th>\n",
       "    </tr>\n",
       "  </thead>\n",
       "  <tbody>\n",
       "    <tr>\n",
       "      <td>0</td>\n",
       "      <td>Intel 8008</td>\n",
       "      <td>3,500</td>\n",
       "      <td>1972</td>\n",
       "      <td>Intel</td>\n",
       "      <td>10,000 nm</td>\n",
       "      <td>14 mm²</td>\n",
       "    </tr>\n",
       "    <tr>\n",
       "      <td>1</td>\n",
       "      <td>Intel 8080</td>\n",
       "      <td>4,500</td>\n",
       "      <td>1974</td>\n",
       "      <td>Intel</td>\n",
       "      <td>6,000 nm</td>\n",
       "      <td>20 mm²</td>\n",
       "    </tr>\n",
       "    <tr>\n",
       "      <td>2</td>\n",
       "      <td>Motorola 6800</td>\n",
       "      <td>4,100</td>\n",
       "      <td>1974</td>\n",
       "      <td>Motorola</td>\n",
       "      <td>6,000 nm</td>\n",
       "      <td>16 mm²</td>\n",
       "    </tr>\n",
       "    <tr>\n",
       "      <td>3</td>\n",
       "      <td>RCA 1802</td>\n",
       "      <td>5,000</td>\n",
       "      <td>1974</td>\n",
       "      <td>RCA</td>\n",
       "      <td>5,000 nm</td>\n",
       "      <td>27 mm²</td>\n",
       "    </tr>\n",
       "    <tr>\n",
       "      <td>4</td>\n",
       "      <td>TMS 1000</td>\n",
       "      <td>8,000</td>\n",
       "      <td>1974[7]</td>\n",
       "      <td>Texas Instruments</td>\n",
       "      <td>8,000 nm</td>\n",
       "      <td>NaN</td>\n",
       "    </tr>\n",
       "  </tbody>\n",
       "</table>\n",
       "</div>"
      ],
      "text/plain": [
       "      Intel 4004  2,300     1971              Intel  10,000 nm  12 mm²\n",
       "0     Intel 8008  3,500     1972              Intel  10,000 nm  14 mm²\n",
       "1     Intel 8080  4,500     1974              Intel   6,000 nm  20 mm²\n",
       "2  Motorola 6800  4,100     1974           Motorola   6,000 nm  16 mm²\n",
       "3       RCA 1802  5,000     1974                RCA   5,000 nm  27 mm²\n",
       "4       TMS 1000  8,000  1974[7]  Texas Instruments   8,000 nm     NaN"
      ]
     },
     "execution_count": 4,
     "metadata": {},
     "output_type": "execute_result"
    }
   ],
   "source": [
    "#df.head()"
   ]
  },
  {
   "cell_type": "markdown",
   "metadata": {},
   "source": [
    "## Write df to csv file and read in isolating x and y variables"
   ]
  },
  {
   "cell_type": "code",
   "execution_count": 5,
   "metadata": {},
   "outputs": [],
   "source": [
    "#df.to_csv('moores.csv')"
   ]
  },
  {
   "cell_type": "code",
   "execution_count": 135,
   "metadata": {},
   "outputs": [],
   "source": [
    "df = pd.read_csv('moores.csv', header=None, usecols=[2, 3], names=['transistor_count', 'year'])"
   ]
  },
  {
   "cell_type": "code",
   "execution_count": 136,
   "metadata": {},
   "outputs": [
    {
     "data": {
      "text/html": [
       "<div>\n",
       "<style scoped>\n",
       "    .dataframe tbody tr th:only-of-type {\n",
       "        vertical-align: middle;\n",
       "    }\n",
       "\n",
       "    .dataframe tbody tr th {\n",
       "        vertical-align: top;\n",
       "    }\n",
       "\n",
       "    .dataframe thead th {\n",
       "        text-align: right;\n",
       "    }\n",
       "</style>\n",
       "<table border=\"1\" class=\"dataframe\">\n",
       "  <thead>\n",
       "    <tr style=\"text-align: right;\">\n",
       "      <th></th>\n",
       "      <th>transistor_count</th>\n",
       "      <th>year</th>\n",
       "    </tr>\n",
       "  </thead>\n",
       "  <tbody>\n",
       "    <tr>\n",
       "      <td>0</td>\n",
       "      <td>2,300</td>\n",
       "      <td>1971</td>\n",
       "    </tr>\n",
       "    <tr>\n",
       "      <td>1</td>\n",
       "      <td>3,500</td>\n",
       "      <td>1972</td>\n",
       "    </tr>\n",
       "    <tr>\n",
       "      <td>2</td>\n",
       "      <td>4,500</td>\n",
       "      <td>1974</td>\n",
       "    </tr>\n",
       "    <tr>\n",
       "      <td>3</td>\n",
       "      <td>4,100</td>\n",
       "      <td>1974</td>\n",
       "    </tr>\n",
       "    <tr>\n",
       "      <td>4</td>\n",
       "      <td>5,000</td>\n",
       "      <td>1974</td>\n",
       "    </tr>\n",
       "  </tbody>\n",
       "</table>\n",
       "</div>"
      ],
      "text/plain": [
       "  transistor_count  year\n",
       "0            2,300  1971\n",
       "1            3,500  1972\n",
       "2            4,500  1974\n",
       "3            4,100  1974\n",
       "4            5,000  1974"
      ]
     },
     "execution_count": 136,
     "metadata": {},
     "output_type": "execute_result"
    }
   ],
   "source": [
    "df.head()"
   ]
  },
  {
   "cell_type": "code",
   "execution_count": 137,
   "metadata": {},
   "outputs": [
    {
     "name": "stdout",
     "output_type": "stream",
     "text": [
      "<class 'pandas.core.frame.DataFrame'>\n",
      "RangeIndex: 102 entries, 0 to 101\n",
      "Data columns (total 2 columns):\n",
      "transistor_count    102 non-null object\n",
      "year                102 non-null object\n",
      "dtypes: object(2)\n",
      "memory usage: 1.7+ KB\n"
     ]
    }
   ],
   "source": [
    "df.info()"
   ]
  },
  {
   "cell_type": "code",
   "execution_count": 138,
   "metadata": {},
   "outputs": [
    {
     "data": {
      "text/html": [
       "<div>\n",
       "<style scoped>\n",
       "    .dataframe tbody tr th:only-of-type {\n",
       "        vertical-align: middle;\n",
       "    }\n",
       "\n",
       "    .dataframe tbody tr th {\n",
       "        vertical-align: top;\n",
       "    }\n",
       "\n",
       "    .dataframe thead th {\n",
       "        text-align: right;\n",
       "    }\n",
       "</style>\n",
       "<table border=\"1\" class=\"dataframe\">\n",
       "  <thead>\n",
       "    <tr style=\"text-align: right;\">\n",
       "      <th></th>\n",
       "      <th>transistor_count</th>\n",
       "      <th>year</th>\n",
       "    </tr>\n",
       "  </thead>\n",
       "  <tbody>\n",
       "    <tr>\n",
       "      <td>count</td>\n",
       "      <td>102</td>\n",
       "      <td>102</td>\n",
       "    </tr>\n",
       "    <tr>\n",
       "      <td>unique</td>\n",
       "      <td>98</td>\n",
       "      <td>43</td>\n",
       "    </tr>\n",
       "    <tr>\n",
       "      <td>top</td>\n",
       "      <td>169,000,000</td>\n",
       "      <td>2012</td>\n",
       "    </tr>\n",
       "    <tr>\n",
       "      <td>freq</td>\n",
       "      <td>2</td>\n",
       "      <td>7</td>\n",
       "    </tr>\n",
       "  </tbody>\n",
       "</table>\n",
       "</div>"
      ],
      "text/plain": [
       "       transistor_count  year\n",
       "count               102   102\n",
       "unique               98    43\n",
       "top         169,000,000  2012\n",
       "freq                  2     7"
      ]
     },
     "execution_count": 138,
     "metadata": {},
     "output_type": "execute_result"
    }
   ],
   "source": [
    "df.describe()"
   ]
  },
  {
   "cell_type": "code",
   "execution_count": 139,
   "metadata": {
    "scrolled": true
   },
   "outputs": [
    {
     "data": {
      "text/plain": [
       "2012        7\n",
       "2014        6\n",
       "2010        6\n",
       "1999        5\n",
       "2007        5\n",
       "2015        5\n",
       "2008        5\n",
       "2006        5\n",
       "2013        4\n",
       "1974        3\n",
       "2003        3\n",
       "2011        3\n",
       "1995        2\n",
       "2002        2\n",
       "1985        2\n",
       "1991        2\n",
       "2005        2\n",
       "2004        2\n",
       "2000        2\n",
       "1989        2\n",
       "1997        2\n",
       "1978        2\n",
       "1988        2\n",
       "1982        2\n",
       "1979        2\n",
       "1976        2\n",
       "1986        1\n",
       "1971        1\n",
       "1998        1\n",
       "2001        1\n",
       "1993        1\n",
       "2016        1\n",
       "1983        1\n",
       "1975        1\n",
       "1985[13]    1\n",
       "1987        1\n",
       "1994        1\n",
       "1974[7]     1\n",
       "1984        1\n",
       "1981        1\n",
       "2009        1\n",
       "1972        1\n",
       "1996        1\n",
       "Name: year, dtype: int64"
      ]
     },
     "execution_count": 139,
     "metadata": {},
     "output_type": "execute_result"
    }
   ],
   "source": [
    "df.year.value_counts(dropna=False)"
   ]
  },
  {
   "cell_type": "code",
   "execution_count": 140,
   "metadata": {
    "scrolled": false
   },
   "outputs": [
    {
     "data": {
      "text/plain": [
       "169,000,000          2\n",
       "1,400,000,000        2\n",
       "7,500,000            2\n",
       "29,000               2\n",
       "592,000,000          1\n",
       "                    ..\n",
       "1,000,000,000[22]    1\n",
       "47,000,000           1\n",
       "1,900,000,000        1\n",
       "3,100,000,000        1\n",
       "1,180,235            1\n",
       "Name: transistor_count, Length: 98, dtype: int64"
      ]
     },
     "execution_count": 140,
     "metadata": {},
     "output_type": "execute_result"
    }
   ],
   "source": [
    "df.transistor_count.value_counts(dropna=False)"
   ]
  },
  {
   "cell_type": "markdown",
   "metadata": {},
   "source": [
    "## Find and Drop Two Cols in Year with Strange Values"
   ]
  },
  {
   "cell_type": "code",
   "execution_count": 141,
   "metadata": {},
   "outputs": [],
   "source": [
    "df = df[~((df.year == '1985[13]') | (df.year == '1974[7]'))]"
   ]
  },
  {
   "cell_type": "code",
   "execution_count": 148,
   "metadata": {
    "scrolled": true
   },
   "outputs": [],
   "source": [
    "df.year = df.year.astype(int)"
   ]
  },
  {
   "cell_type": "markdown",
   "metadata": {},
   "source": [
    "## Find and Drop Cols in transistor_count with Strange Values"
   ]
  },
  {
   "cell_type": "code",
   "execution_count": 145,
   "metadata": {},
   "outputs": [],
   "source": [
    "df.transistor_count = df.transistor_count.str.replace(',', '').str.replace('\\[\\d*\\]', '', regex=True).str.replace('[^\\d]', '', regex=True).astype(int)"
   ]
  },
  {
   "cell_type": "code",
   "execution_count": 146,
   "metadata": {},
   "outputs": [
    {
     "data": {
      "text/plain": [
       "1400000000    3\n",
       "7500000       2\n",
       "1000000000    2\n",
       "5000000000    2\n",
       "1200000000    2\n",
       "             ..\n",
       "42000000      1\n",
       "2750000000    1\n",
       "2500000       1\n",
       "30000         1\n",
       "8800000       1\n",
       "Name: transistor_count, Length: 89, dtype: int64"
      ]
     },
     "execution_count": 146,
     "metadata": {},
     "output_type": "execute_result"
    }
   ],
   "source": [
    "df.transistor_count.value_counts()"
   ]
  },
  {
   "cell_type": "code",
   "execution_count": 147,
   "metadata": {},
   "outputs": [
    {
     "name": "stdout",
     "output_type": "stream",
     "text": [
      "<class 'pandas.core.frame.DataFrame'>\n",
      "Int64Index: 100 entries, 0 to 101\n",
      "Data columns (total 2 columns):\n",
      "transistor_count    100 non-null int64\n",
      "year                100 non-null object\n",
      "dtypes: int64(1), object(1)\n",
      "memory usage: 2.3+ KB\n"
     ]
    }
   ],
   "source": [
    "df.info()"
   ]
  },
  {
   "cell_type": "code",
   "execution_count": 133,
   "metadata": {},
   "outputs": [
    {
     "name": "stdout",
     "output_type": "stream",
     "text": [
      "<class 'pandas.core.frame.DataFrame'>\n",
      "Int64Index: 100 entries, 0 to 101\n",
      "Data columns (total 2 columns):\n",
      "transistor_count    100 non-null object\n",
      "year                100 non-null object\n",
      "dtypes: object(2)\n",
      "memory usage: 2.3+ KB\n"
     ]
    }
   ],
   "source": [
    "df.info()"
   ]
  },
  {
   "cell_type": "code",
   "execution_count": null,
   "metadata": {},
   "outputs": [],
   "source": []
  }
 ],
 "metadata": {
  "kernelspec": {
   "display_name": "Python 3",
   "language": "python",
   "name": "python3"
  },
  "language_info": {
   "codemirror_mode": {
    "name": "ipython",
    "version": 3
   },
   "file_extension": ".py",
   "mimetype": "text/x-python",
   "name": "python",
   "nbconvert_exporter": "python",
   "pygments_lexer": "ipython3",
   "version": "3.7.4"
  },
  "toc": {
   "base_numbering": 1,
   "nav_menu": {},
   "number_sections": true,
   "sideBar": true,
   "skip_h1_title": true,
   "title_cell": "Table of Contents",
   "title_sidebar": "Contents",
   "toc_cell": false,
   "toc_position": {},
   "toc_section_display": true,
   "toc_window_display": false
  }
 },
 "nbformat": 4,
 "nbformat_minor": 2
}
