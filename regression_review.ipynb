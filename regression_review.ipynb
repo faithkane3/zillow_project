{
 "cells": [
  {
   "cell_type": "markdown",
   "metadata": {
    "toc": true
   },
   "source": [
    "<h1>Table of Contents<span class=\"tocSkip\"></span></h1>\n",
    "<div class=\"toc\"><ul class=\"toc-item\"><li><span><a href=\"#Scaling\" data-toc-modified-id=\"Scaling-1\"><span class=\"toc-item-num\">1&nbsp;&nbsp;</span>Scaling</a></span><ul class=\"toc-item\"><li><span><a href=\"#Why-is-scaling-useful?\" data-toc-modified-id=\"Why-is-scaling-useful?-1.1\"><span class=\"toc-item-num\">1.1&nbsp;&nbsp;</span>Why is scaling useful?</a></span></li></ul></li></ul></div>"
   ]
  },
  {
   "cell_type": "code",
   "execution_count": 1,
   "metadata": {},
   "outputs": [],
   "source": [
    "import pandas as pd\n",
    "import numpy as np\n",
    "\n",
    "from sklearn.linear_model import LinearRegression\n",
    "import statsmodels.api as sm\n",
    "from statsmodels.sandbox.regression.predstd import wls_prediction_std\n",
    "from sklearn.metrics import mean_squared_error,r2_score,explained_variance_score\n",
    "\n",
    "from math import sqrt\n",
    "from scipy import stats\n",
    "\n",
    "import seaborn as sns\n",
    "import matplotlib.pyplot as plt\n",
    "%matplotlib inline\n",
    "\n",
    "import warnings\n",
    "warnings.filterwarnings(\"ignore\")\n",
    "\n",
    "\n",
    "import env\n",
    "import util\n",
    "from wrangle_zillow import wrangle_zillow\n",
    "import explore\n",
    "import split_scale\n",
    "import features_zillow\n",
    "import model_zillow\n",
    "import evaluate"
   ]
  },
  {
   "cell_type": "markdown",
   "metadata": {},
   "source": [
    "# Linear Regression\n",
    "\n",
    "**<font color=red>What is Linear Regression?</font>**\n",
    "\n",
    "\n",
    "\n",
    "**<font color=orange>So What?</font>**\n",
    "\n",
    "\n",
    "\n",
    "**<font color=green>Now What?</font>**"
   ]
  },
  {
   "cell_type": "code",
   "execution_count": null,
   "metadata": {},
   "outputs": [],
   "source": []
  },
  {
   "cell_type": "markdown",
   "metadata": {},
   "source": [
    "## Acquiring and Preparing - Wrangle\n",
    "\n",
    "**<font color=red>What is Wrangling?</font>**\n",
    "\n",
    "\n",
    "\n",
    "**<font color=orange>So What?</font>**\n",
    "\n",
    "\n",
    "\n",
    "**<font color=green>Now What?</font>**\n",
    "\n",
    "What now? A WHOLE bunch of useful code snippets in one place!\n",
    "\n",
    ">Fill NaN with ' '\n",
    "`df['col'] = df['col'].fillna(' ')`\n",
    "\n",
    ">Fill NaN with 99\n",
    "`df['col'] = df['col'].fillna(99)`\n",
    "\n",
    ">Fill NaN with the mean of the column\n",
    "`df['col'] = df['col'].fillna(df['col'].mean())`\n",
    "\n",
    ">Drop any rows which have any nans\n",
    "`df.dropna()`\n",
    "\n",
    ">Drop columns that have any nans\n",
    "`df.dropna(axis=1)`\n",
    "\n",
    ">Only drop columns which have at least 90% non-NaNs\n",
    "`df.dropna(thresh=int(df.shape[0] * .9), axis=1)`\n",
    "\n",
    "\n",
    "`df['new_column'] = np.where(this_is_true, do_this, else_do_that)`\n",
    "\n",
    ">Check if there are any values less than 0 in a column/Series\n",
    "`assert(df['col1'] >= 0 ).all()` \n",
    "\n",
    "- The .all() method will check if all the elements in the objects pass the assert, while .any() will check if any of the elements in the objects pass the assert test. (You could use a.empty, a.bool(), a.item(), a.any() or a.all())"
   ]
  },
  {
   "cell_type": "code",
   "execution_count": null,
   "metadata": {},
   "outputs": [],
   "source": []
  },
  {
   "cell_type": "markdown",
   "metadata": {},
   "source": [
    "## Splitting\n",
    "\n",
    "**<font color=red>What is Splitting?</font>**\n",
    "\n",
    "\n",
    "\n",
    "**<font color=orange>So What?</font>**\n",
    "\n",
    "\n",
    "\n",
    "**<font color=green>Now What?</font>**"
   ]
  },
  {
   "cell_type": "code",
   "execution_count": null,
   "metadata": {},
   "outputs": [],
   "source": []
  },
  {
   "cell_type": "markdown",
   "metadata": {},
   "source": [
    "## Scaling\n",
    "\n",
    "**<font color=red>What is Scaling?</font>**\n",
    "\n",
    "\n",
    "\n",
    "**<font color=orange>So What?</font>**\n",
    "\n",
    "Why is scaling useful?\n",
    "\n",
    "- It comes down to weight. Scaling the data ensures that variables are weighted equally.\n",
    "\n",
    "\n",
    "- If you are not going to be modeling and are purely looking at an analyzing history, you could scale the entire dataset. Otherwise, your test needs to remain unseen, and therefore you scale your train and later apply your choices to test.\n",
    "\n",
    "\n",
    "\n",
    "**<font color=green>Now What?</font>**\n",
    "\n",
    ">Which scaler should I use?\n",
    "\n",
    "\n",
    "- All things being equal, use the simpler one.\n",
    "\n",
    "\n",
    "- Scaling to a Normal distribution\n",
    "\n",
    "\n",
    "- Do you need your outliers to look like outliers? Do you need to maintain the space between your values or do you want to Normalize your space between values.\n",
    "\n",
    "\n",
    "- MinMax - Keep your values between 0 and 1 (linear transformation)\n",
    "\n",
    "\n",
    "- Standarized Scaler - Standard Deviations from the mean (linear transformation)\n",
    "\n",
    "\n",
    "- Quantile v Power Transformations -   (non-linear transformation)\n",
    "\n",
    "\n",
    "- Box-Cox v  Yeo-Johnson (non-linear transformation)\n",
    "\n",
    "\n",
    "- Log transformation - \n",
    "\n",
    "\n",
    "\n",
    ">For exploration\n",
    "\n",
    "\n",
    "- Split before you explore. Again, your test should remain unseen. While we are learning and practicing our data science skills, there will be times when you are exploring individual variables before splitting, so that we can find outliers, Nulls, etc. When looking at interactions of variables, your data should first be split. \n",
    "    \n",
    "    \n",
    "- You need to be able to replicate what you have done to your data if you are going to deploy your model to be used in the future... so, by practicing this process on your test, you are also validating that your process is reputable\n",
    "\n",
    "\n",
    "- Statistical test -  scale data that is not a normal dist to be a normal dist. It is not always possible to scale the feature to a normal distribution. Sometimes, you can first drop the outliers and then scale it, which will help it turn into a normal distribution.\n",
    "    \n",
    "    \n",
    "- Eudlidean distance - \n",
    "\n",
    "\n",
    "\n",
    ">For modeling\n",
    "\n",
    "\n",
    "- Multiple Linear Regression helps features with a higher mag of unit not be penalized.\n",
    "    \n",
    "    \n",
    "- The coefficient change in the independent variable is equal to a one unit\n",
    "    \n",
    "    \n",
    "-  Feature Engineering\n",
    "\n",
    "\n",
    "- When combinging features with different units, you want to be able to have them"
   ]
  },
  {
   "cell_type": "markdown",
   "metadata": {},
   "source": [
    "\n",
    "\n",
    "\n",
    "\n",
    "\n",
    "\n"
   ]
  },
  {
   "cell_type": "markdown",
   "metadata": {},
   "source": [
    "## Exploring\n",
    "\n",
    "**<font color=red>What is Exploring?</font>**\n",
    "\n",
    "\n",
    "\n",
    "**<font color=orange>So What?</font>**\n",
    "\n",
    "\n",
    "\n",
    "**<font color=green>Now What?</font>**"
   ]
  },
  {
   "cell_type": "code",
   "execution_count": null,
   "metadata": {},
   "outputs": [],
   "source": []
  },
  {
   "cell_type": "markdown",
   "metadata": {},
   "source": [
    "## Evaluating\n",
    "\n",
    "**<font color=red>What is Evaluating?</font>**\n",
    "\n",
    "\n",
    "\n",
    "**<font color=orange>So What?</font>**\n",
    "\n",
    "\n",
    "\n",
    "**<font color=green>Now What?</font>**"
   ]
  },
  {
   "cell_type": "code",
   "execution_count": null,
   "metadata": {},
   "outputs": [],
   "source": []
  },
  {
   "cell_type": "markdown",
   "metadata": {},
   "source": [
    "## Feature Engineering\n",
    "\n",
    "**<font color=red>What is Linear Regression?</font>**\n",
    "\n",
    "\n",
    "\n",
    "**<font color=orange>So What?</font>**\n",
    "\n",
    "\n",
    "\n",
    "**<font color=green>Now What?</font>**"
   ]
  },
  {
   "cell_type": "code",
   "execution_count": null,
   "metadata": {},
   "outputs": [],
   "source": []
  },
  {
   "cell_type": "markdown",
   "metadata": {},
   "source": [
    "## Modeling\n",
    "\n",
    "**<font color=red>What is Linear Regression?</font>**\n",
    "\n",
    "\n",
    "\n",
    "**<font color=orange>So What?</font>**\n",
    "\n",
    "\n",
    "\n",
    "**<font color=green>Now What?</font>**"
   ]
  }
 ],
 "metadata": {
  "kernelspec": {
   "display_name": "Python 3",
   "language": "python",
   "name": "python3"
  },
  "language_info": {
   "codemirror_mode": {
    "name": "ipython",
    "version": 3
   },
   "file_extension": ".py",
   "mimetype": "text/x-python",
   "name": "python",
   "nbconvert_exporter": "python",
   "pygments_lexer": "ipython3",
   "version": "3.7.4"
  },
  "toc": {
   "base_numbering": 1,
   "nav_menu": {},
   "number_sections": true,
   "sideBar": true,
   "skip_h1_title": true,
   "title_cell": "Table of Contents",
   "title_sidebar": "Contents",
   "toc_cell": true,
   "toc_position": {},
   "toc_section_display": true,
   "toc_window_display": false
  }
 },
 "nbformat": 4,
 "nbformat_minor": 2
}
