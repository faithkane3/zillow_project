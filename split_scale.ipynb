{
 "cells": [
  {
   "cell_type": "code",
   "execution_count": 13,
   "metadata": {},
   "outputs": [],
   "source": [
    "import pandas as pd\n",
    "import numpy as np\n",
    "\n",
    "from sklearn.model_selection import train_test_split\n",
    "from sklearn.preprocessing import StandardScaler, QuantileTransformer, PowerTransformer, RobustScaler, MinMaxScaler\n",
    "\n",
    "from wrangle import wrangle_telco\n",
    "import split_scale\n"
   ]
  },
  {
   "cell_type": "markdown",
   "metadata": {},
   "source": [
    "# Read in Telco df using wrangle_telco() function"
   ]
  },
  {
   "cell_type": "code",
   "execution_count": 30,
   "metadata": {},
   "outputs": [],
   "source": [
    "df = wrangle_telco()"
   ]
  },
  {
   "cell_type": "code",
   "execution_count": 31,
   "metadata": {},
   "outputs": [
    {
     "data": {
      "text/html": [
       "<div>\n",
       "<style scoped>\n",
       "    .dataframe tbody tr th:only-of-type {\n",
       "        vertical-align: middle;\n",
       "    }\n",
       "\n",
       "    .dataframe tbody tr th {\n",
       "        vertical-align: top;\n",
       "    }\n",
       "\n",
       "    .dataframe thead th {\n",
       "        text-align: right;\n",
       "    }\n",
       "</style>\n",
       "<table border=\"1\" class=\"dataframe\">\n",
       "  <thead>\n",
       "    <tr style=\"text-align: right;\">\n",
       "      <th></th>\n",
       "      <th>customer_id</th>\n",
       "      <th>monthly_charges</th>\n",
       "      <th>tenure</th>\n",
       "      <th>total_charges</th>\n",
       "    </tr>\n",
       "  </thead>\n",
       "  <tbody>\n",
       "    <tr>\n",
       "      <td>0</td>\n",
       "      <td>0013-SMEOE</td>\n",
       "      <td>109.7</td>\n",
       "      <td>71</td>\n",
       "      <td>7904.25</td>\n",
       "    </tr>\n",
       "  </tbody>\n",
       "</table>\n",
       "</div>"
      ],
      "text/plain": [
       "  customer_id  monthly_charges  tenure  total_charges\n",
       "0  0013-SMEOE            109.7      71        7904.25"
      ]
     },
     "execution_count": 31,
     "metadata": {},
     "output_type": "execute_result"
    }
   ],
   "source": [
    "df.head(1)"
   ]
  },
  {
   "cell_type": "code",
   "execution_count": 32,
   "metadata": {},
   "outputs": [
    {
     "name": "stdout",
     "output_type": "stream",
     "text": [
      "<class 'pandas.core.frame.DataFrame'>\n",
      "RangeIndex: 1695 entries, 0 to 1694\n",
      "Data columns (total 4 columns):\n",
      "customer_id        1695 non-null object\n",
      "monthly_charges    1695 non-null float64\n",
      "tenure             1695 non-null int64\n",
      "total_charges      1695 non-null float64\n",
      "dtypes: float64(2), int64(1), object(1)\n",
      "memory usage: 53.1+ KB\n"
     ]
    }
   ],
   "source": [
    "df.info()"
   ]
  },
  {
   "cell_type": "markdown",
   "metadata": {},
   "source": [
    "# Split and Scale data using Standard Scaler Function"
   ]
  },
  {
   "cell_type": "code",
   "execution_count": 17,
   "metadata": {},
   "outputs": [],
   "source": [
    "def split_my_data(df, train_pct=0.70, seed=123):\n",
    "    train, test = train_test_split(df, train_size=train_pct, random_state=seed)\n",
    "    return train, test"
   ]
  },
  {
   "cell_type": "code",
   "execution_count": 18,
   "metadata": {},
   "outputs": [],
   "source": [
    "train, test = split_my_data(df)"
   ]
  },
  {
   "cell_type": "code",
   "execution_count": 19,
   "metadata": {},
   "outputs": [
    {
     "data": {
      "text/html": [
       "<div>\n",
       "<style scoped>\n",
       "    .dataframe tbody tr th:only-of-type {\n",
       "        vertical-align: middle;\n",
       "    }\n",
       "\n",
       "    .dataframe tbody tr th {\n",
       "        vertical-align: top;\n",
       "    }\n",
       "\n",
       "    .dataframe thead th {\n",
       "        text-align: right;\n",
       "    }\n",
       "</style>\n",
       "<table border=\"1\" class=\"dataframe\">\n",
       "  <thead>\n",
       "    <tr style=\"text-align: right;\">\n",
       "      <th></th>\n",
       "      <th>customer_id</th>\n",
       "      <th>monthly_charges</th>\n",
       "      <th>tenure</th>\n",
       "      <th>total_charges</th>\n",
       "    </tr>\n",
       "  </thead>\n",
       "  <tbody>\n",
       "    <tr>\n",
       "      <td>1469</td>\n",
       "      <td>8661-BOYNW</td>\n",
       "      <td>84.40</td>\n",
       "      <td>72</td>\n",
       "      <td>6096.45</td>\n",
       "    </tr>\n",
       "    <tr>\n",
       "      <td>163</td>\n",
       "      <td>0960-HUWBM</td>\n",
       "      <td>104.10</td>\n",
       "      <td>65</td>\n",
       "      <td>6700.05</td>\n",
       "    </tr>\n",
       "    <tr>\n",
       "      <td>392</td>\n",
       "      <td>2346-LOCWC</td>\n",
       "      <td>20.50</td>\n",
       "      <td>58</td>\n",
       "      <td>1191.40</td>\n",
       "    </tr>\n",
       "    <tr>\n",
       "      <td>1546</td>\n",
       "      <td>9114-DPSIA</td>\n",
       "      <td>81.00</td>\n",
       "      <td>72</td>\n",
       "      <td>5750.00</td>\n",
       "    </tr>\n",
       "    <tr>\n",
       "      <td>797</td>\n",
       "      <td>4891-NLUBA</td>\n",
       "      <td>61.45</td>\n",
       "      <td>61</td>\n",
       "      <td>3751.15</td>\n",
       "    </tr>\n",
       "  </tbody>\n",
       "</table>\n",
       "</div>"
      ],
      "text/plain": [
       "     customer_id  monthly_charges  tenure  total_charges\n",
       "1469  8661-BOYNW            84.40      72        6096.45\n",
       "163   0960-HUWBM           104.10      65        6700.05\n",
       "392   2346-LOCWC            20.50      58        1191.40\n",
       "1546  9114-DPSIA            81.00      72        5750.00\n",
       "797   4891-NLUBA            61.45      61        3751.15"
      ]
     },
     "execution_count": 19,
     "metadata": {},
     "output_type": "execute_result"
    }
   ],
   "source": [
    "train.head()"
   ]
  },
  {
   "cell_type": "code",
   "execution_count": 20,
   "metadata": {},
   "outputs": [
    {
     "data": {
      "text/html": [
       "<div>\n",
       "<style scoped>\n",
       "    .dataframe tbody tr th:only-of-type {\n",
       "        vertical-align: middle;\n",
       "    }\n",
       "\n",
       "    .dataframe tbody tr th {\n",
       "        vertical-align: top;\n",
       "    }\n",
       "\n",
       "    .dataframe thead th {\n",
       "        text-align: right;\n",
       "    }\n",
       "</style>\n",
       "<table border=\"1\" class=\"dataframe\">\n",
       "  <thead>\n",
       "    <tr style=\"text-align: right;\">\n",
       "      <th></th>\n",
       "      <th>customer_id</th>\n",
       "      <th>monthly_charges</th>\n",
       "      <th>tenure</th>\n",
       "      <th>total_charges</th>\n",
       "    </tr>\n",
       "  </thead>\n",
       "  <tbody>\n",
       "    <tr>\n",
       "      <td>252</td>\n",
       "      <td>1494-EJZDW</td>\n",
       "      <td>20.15</td>\n",
       "      <td>10</td>\n",
       "      <td>220.80</td>\n",
       "    </tr>\n",
       "    <tr>\n",
       "      <td>632</td>\n",
       "      <td>3795-GWTRD</td>\n",
       "      <td>75.55</td>\n",
       "      <td>63</td>\n",
       "      <td>4707.85</td>\n",
       "    </tr>\n",
       "    <tr>\n",
       "      <td>472</td>\n",
       "      <td>2900-PHPLN</td>\n",
       "      <td>19.55</td>\n",
       "      <td>70</td>\n",
       "      <td>1462.05</td>\n",
       "    </tr>\n",
       "    <tr>\n",
       "      <td>1029</td>\n",
       "      <td>6211-WWLTF</td>\n",
       "      <td>99.70</td>\n",
       "      <td>63</td>\n",
       "      <td>6330.40</td>\n",
       "    </tr>\n",
       "    <tr>\n",
       "      <td>910</td>\n",
       "      <td>5494-WOZRZ</td>\n",
       "      <td>82.00</td>\n",
       "      <td>71</td>\n",
       "      <td>5999.85</td>\n",
       "    </tr>\n",
       "  </tbody>\n",
       "</table>\n",
       "</div>"
      ],
      "text/plain": [
       "     customer_id  monthly_charges  tenure  total_charges\n",
       "252   1494-EJZDW            20.15      10         220.80\n",
       "632   3795-GWTRD            75.55      63        4707.85\n",
       "472   2900-PHPLN            19.55      70        1462.05\n",
       "1029  6211-WWLTF            99.70      63        6330.40\n",
       "910   5494-WOZRZ            82.00      71        5999.85"
      ]
     },
     "execution_count": 20,
     "metadata": {},
     "output_type": "execute_result"
    }
   ],
   "source": [
    "test.head()"
   ]
  },
  {
   "cell_type": "code",
   "execution_count": 21,
   "metadata": {},
   "outputs": [
    {
     "name": "stdout",
     "output_type": "stream",
     "text": [
      "(1186, 4)\n",
      "(509, 4)\n"
     ]
    }
   ],
   "source": [
    "print(train.shape)\n",
    "print(test.shape)"
   ]
  },
  {
   "cell_type": "markdown",
   "metadata": {},
   "source": [
    "## Our train test split function works fine. Now we can use it in our standard_scaler function\n",
    "\n",
    "- I wanted to make a function where I could feed in the telco df even though it has a column that is not numeric and use a Standard Scaler on the numeric columns.\n",
    "\n",
    "- I wanted the function to return the scaler, train_scaled, and test_scaled with customer_id still intact.\n",
    "\n",
    "- I moved the customer_id columns to the index, so I can just reset the index after I scale the numeric values.\n",
    "\n",
    "- The Standard Scaler returns arrays, so I had to convert those arrays back to dataframes.\n",
    "\n",
    "- I had to reset and rename the index to be a customer_id column again."
   ]
  },
  {
   "cell_type": "code",
   "execution_count": 24,
   "metadata": {},
   "outputs": [],
   "source": [
    "def telco_standard_scaler(df):\n",
    "    df.set_index('customer_id', inplace=True)\n",
    "    train, test = split_my_data(df)\n",
    "    scaler = StandardScaler().fit(train)\n",
    "    train_scaled = (pd.DataFrame(scaler.transform(train), \n",
    "                    columns=train.columns.values)\n",
    "                    .set_index([train.index.values]))\n",
    "    test_scaled = (pd.DataFrame(scaler.transform(test), \n",
    "                    columns=test.columns.values)\n",
    "                   .set_index([test.index.values]))\n",
    "    train_scaled.reset_index(inplace=True)\n",
    "    train_scaled.rename(columns={'index': 'customer_id'}, inplace=True)\n",
    "    test_scaled.reset_index(inplace=True)\n",
    "    test_scaled.rename(columns={'index': 'customer_id'}, inplace=True)\n",
    "    return scaler, train_scaled, test_scaled"
   ]
  },
  {
   "cell_type": "code",
   "execution_count": 25,
   "metadata": {},
   "outputs": [],
   "source": [
    "# test the function\n",
    "\n",
    "scaler, train_scaled, test_scaled = split_scale.telco_standard_scaler(df)"
   ]
  },
  {
   "cell_type": "code",
   "execution_count": 26,
   "metadata": {},
   "outputs": [
    {
     "data": {
      "text/plain": [
       "StandardScaler(copy=True, with_mean=True, with_std=True)"
      ]
     },
     "execution_count": 26,
     "metadata": {},
     "output_type": "execute_result"
    }
   ],
   "source": [
    "# validate that it can return the scaler if I need to revert to unscaled\n",
    "\n",
    "scaler"
   ]
  },
  {
   "cell_type": "code",
   "execution_count": 27,
   "metadata": {},
   "outputs": [
    {
     "data": {
      "text/html": [
       "<div>\n",
       "<style scoped>\n",
       "    .dataframe tbody tr th:only-of-type {\n",
       "        vertical-align: middle;\n",
       "    }\n",
       "\n",
       "    .dataframe tbody tr th {\n",
       "        vertical-align: top;\n",
       "    }\n",
       "\n",
       "    .dataframe thead th {\n",
       "        text-align: right;\n",
       "    }\n",
       "</style>\n",
       "<table border=\"1\" class=\"dataframe\">\n",
       "  <thead>\n",
       "    <tr style=\"text-align: right;\">\n",
       "      <th></th>\n",
       "      <th>customer_id</th>\n",
       "      <th>monthly_charges</th>\n",
       "      <th>tenure</th>\n",
       "      <th>total_charges</th>\n",
       "    </tr>\n",
       "  </thead>\n",
       "  <tbody>\n",
       "    <tr>\n",
       "      <td>0</td>\n",
       "      <td>8661-BOYNW</td>\n",
       "      <td>0.672591</td>\n",
       "      <td>0.838946</td>\n",
       "      <td>0.910993</td>\n",
       "    </tr>\n",
       "    <tr>\n",
       "      <td>1</td>\n",
       "      <td>0960-HUWBM</td>\n",
       "      <td>1.237494</td>\n",
       "      <td>0.441745</td>\n",
       "      <td>1.144459</td>\n",
       "    </tr>\n",
       "    <tr>\n",
       "      <td>2</td>\n",
       "      <td>2346-LOCWC</td>\n",
       "      <td>-1.159761</td>\n",
       "      <td>0.044543</td>\n",
       "      <td>-0.986222</td>\n",
       "    </tr>\n",
       "    <tr>\n",
       "      <td>3</td>\n",
       "      <td>9114-DPSIA</td>\n",
       "      <td>0.575095</td>\n",
       "      <td>0.838946</td>\n",
       "      <td>0.776991</td>\n",
       "    </tr>\n",
       "    <tr>\n",
       "      <td>4</td>\n",
       "      <td>4891-NLUBA</td>\n",
       "      <td>0.014492</td>\n",
       "      <td>0.214772</td>\n",
       "      <td>0.003859</td>\n",
       "    </tr>\n",
       "    <tr>\n",
       "      <td>...</td>\n",
       "      <td>...</td>\n",
       "      <td>...</td>\n",
       "      <td>...</td>\n",
       "      <td>...</td>\n",
       "    </tr>\n",
       "    <tr>\n",
       "      <td>1181</td>\n",
       "      <td>6701-YVNQG</td>\n",
       "      <td>0.795894</td>\n",
       "      <td>0.838946</td>\n",
       "      <td>0.990382</td>\n",
       "    </tr>\n",
       "    <tr>\n",
       "      <td>1182</td>\n",
       "      <td>7996-MHXLW</td>\n",
       "      <td>-1.026421</td>\n",
       "      <td>0.498488</td>\n",
       "      <td>-0.795845</td>\n",
       "    </tr>\n",
       "    <tr>\n",
       "      <td>1183</td>\n",
       "      <td>8242-PDSGJ</td>\n",
       "      <td>-0.624967</td>\n",
       "      <td>0.725460</td>\n",
       "      <td>-0.405518</td>\n",
       "    </tr>\n",
       "    <tr>\n",
       "      <td>1184</td>\n",
       "      <td>8200-LGKSR</td>\n",
       "      <td>0.638180</td>\n",
       "      <td>0.782203</td>\n",
       "      <td>0.922462</td>\n",
       "    </tr>\n",
       "    <tr>\n",
       "      <td>1185</td>\n",
       "      <td>9068-FHQHD</td>\n",
       "      <td>-1.169798</td>\n",
       "      <td>-0.976833</td>\n",
       "      <td>-1.146372</td>\n",
       "    </tr>\n",
       "  </tbody>\n",
       "</table>\n",
       "<p>1186 rows × 4 columns</p>\n",
       "</div>"
      ],
      "text/plain": [
       "     customer_id  monthly_charges    tenure  total_charges\n",
       "0     8661-BOYNW         0.672591  0.838946       0.910993\n",
       "1     0960-HUWBM         1.237494  0.441745       1.144459\n",
       "2     2346-LOCWC        -1.159761  0.044543      -0.986222\n",
       "3     9114-DPSIA         0.575095  0.838946       0.776991\n",
       "4     4891-NLUBA         0.014492  0.214772       0.003859\n",
       "...          ...              ...       ...            ...\n",
       "1181  6701-YVNQG         0.795894  0.838946       0.990382\n",
       "1182  7996-MHXLW        -1.026421  0.498488      -0.795845\n",
       "1183  8242-PDSGJ        -0.624967  0.725460      -0.405518\n",
       "1184  8200-LGKSR         0.638180  0.782203       0.922462\n",
       "1185  9068-FHQHD        -1.169798 -0.976833      -1.146372\n",
       "\n",
       "[1186 rows x 4 columns]"
      ]
     },
     "execution_count": 27,
     "metadata": {},
     "output_type": "execute_result"
    }
   ],
   "source": [
    "# validate train_scaled\n",
    "\n",
    "train_scaled"
   ]
  },
  {
   "cell_type": "code",
   "execution_count": 28,
   "metadata": {},
   "outputs": [
    {
     "data": {
      "text/html": [
       "<div>\n",
       "<style scoped>\n",
       "    .dataframe tbody tr th:only-of-type {\n",
       "        vertical-align: middle;\n",
       "    }\n",
       "\n",
       "    .dataframe tbody tr th {\n",
       "        vertical-align: top;\n",
       "    }\n",
       "\n",
       "    .dataframe thead th {\n",
       "        text-align: right;\n",
       "    }\n",
       "</style>\n",
       "<table border=\"1\" class=\"dataframe\">\n",
       "  <thead>\n",
       "    <tr style=\"text-align: right;\">\n",
       "      <th></th>\n",
       "      <th>customer_id</th>\n",
       "      <th>monthly_charges</th>\n",
       "      <th>tenure</th>\n",
       "      <th>total_charges</th>\n",
       "    </tr>\n",
       "  </thead>\n",
       "  <tbody>\n",
       "    <tr>\n",
       "      <td>0</td>\n",
       "      <td>1494-EJZDW</td>\n",
       "      <td>-1.169798</td>\n",
       "      <td>-2.679126</td>\n",
       "      <td>-1.361639</td>\n",
       "    </tr>\n",
       "    <tr>\n",
       "      <td>1</td>\n",
       "      <td>3795-GWTRD</td>\n",
       "      <td>0.418814</td>\n",
       "      <td>0.328258</td>\n",
       "      <td>0.373899</td>\n",
       "    </tr>\n",
       "    <tr>\n",
       "      <td>2</td>\n",
       "      <td>2900-PHPLN</td>\n",
       "      <td>-1.187003</td>\n",
       "      <td>0.725460</td>\n",
       "      <td>-0.881538</td>\n",
       "    </tr>\n",
       "    <tr>\n",
       "      <td>3</td>\n",
       "      <td>6211-WWLTF</td>\n",
       "      <td>1.111323</td>\n",
       "      <td>0.328258</td>\n",
       "      <td>1.001483</td>\n",
       "    </tr>\n",
       "    <tr>\n",
       "      <td>4</td>\n",
       "      <td>5494-WOZRZ</td>\n",
       "      <td>0.603770</td>\n",
       "      <td>0.782203</td>\n",
       "      <td>0.873630</td>\n",
       "    </tr>\n",
       "    <tr>\n",
       "      <td>...</td>\n",
       "      <td>...</td>\n",
       "      <td>...</td>\n",
       "      <td>...</td>\n",
       "      <td>...</td>\n",
       "    </tr>\n",
       "    <tr>\n",
       "      <td>504</td>\n",
       "      <td>4701-LKOZD</td>\n",
       "      <td>0.826004</td>\n",
       "      <td>0.725460</td>\n",
       "      <td>1.015716</td>\n",
       "    </tr>\n",
       "    <tr>\n",
       "      <td>505</td>\n",
       "      <td>9488-FVZCC</td>\n",
       "      <td>0.532082</td>\n",
       "      <td>0.838946</td>\n",
       "      <td>0.742837</td>\n",
       "    </tr>\n",
       "    <tr>\n",
       "      <td>506</td>\n",
       "      <td>5727-MYATE</td>\n",
       "      <td>0.856113</td>\n",
       "      <td>0.838946</td>\n",
       "      <td>1.027475</td>\n",
       "    </tr>\n",
       "    <tr>\n",
       "      <td>507</td>\n",
       "      <td>2253-KPMNB</td>\n",
       "      <td>-0.421372</td>\n",
       "      <td>0.668717</td>\n",
       "      <td>-0.239721</td>\n",
       "    </tr>\n",
       "    <tr>\n",
       "      <td>508</td>\n",
       "      <td>8216-AZUUZ</td>\n",
       "      <td>1.131396</td>\n",
       "      <td>-0.863347</td>\n",
       "      <td>0.217559</td>\n",
       "    </tr>\n",
       "  </tbody>\n",
       "</table>\n",
       "<p>509 rows × 4 columns</p>\n",
       "</div>"
      ],
      "text/plain": [
       "    customer_id  monthly_charges    tenure  total_charges\n",
       "0    1494-EJZDW        -1.169798 -2.679126      -1.361639\n",
       "1    3795-GWTRD         0.418814  0.328258       0.373899\n",
       "2    2900-PHPLN        -1.187003  0.725460      -0.881538\n",
       "3    6211-WWLTF         1.111323  0.328258       1.001483\n",
       "4    5494-WOZRZ         0.603770  0.782203       0.873630\n",
       "..          ...              ...       ...            ...\n",
       "504  4701-LKOZD         0.826004  0.725460       1.015716\n",
       "505  9488-FVZCC         0.532082  0.838946       0.742837\n",
       "506  5727-MYATE         0.856113  0.838946       1.027475\n",
       "507  2253-KPMNB        -0.421372  0.668717      -0.239721\n",
       "508  8216-AZUUZ         1.131396 -0.863347       0.217559\n",
       "\n",
       "[509 rows x 4 columns]"
      ]
     },
     "execution_count": 28,
     "metadata": {},
     "output_type": "execute_result"
    }
   ],
   "source": [
    "# validate test_scaled\n",
    "\n",
    "test_scaled"
   ]
  },
  {
   "cell_type": "markdown",
   "metadata": {},
   "source": [
    "### Pretty, pretty scaled data..."
   ]
  },
  {
   "cell_type": "markdown",
   "metadata": {},
   "source": [
    "# Validate my telco_standard_scaler() function in validation notebook"
   ]
  },
  {
   "cell_type": "markdown",
   "metadata": {},
   "source": [
    "# If you only had numeric columns, this function works."
   ]
  },
  {
   "cell_type": "code",
   "execution_count": 37,
   "metadata": {},
   "outputs": [],
   "source": [
    "df = wrangle_telco()"
   ]
  },
  {
   "cell_type": "code",
   "execution_count": 38,
   "metadata": {},
   "outputs": [
    {
     "data": {
      "text/html": [
       "<div>\n",
       "<style scoped>\n",
       "    .dataframe tbody tr th:only-of-type {\n",
       "        vertical-align: middle;\n",
       "    }\n",
       "\n",
       "    .dataframe tbody tr th {\n",
       "        vertical-align: top;\n",
       "    }\n",
       "\n",
       "    .dataframe thead th {\n",
       "        text-align: right;\n",
       "    }\n",
       "</style>\n",
       "<table border=\"1\" class=\"dataframe\">\n",
       "  <thead>\n",
       "    <tr style=\"text-align: right;\">\n",
       "      <th></th>\n",
       "      <th>monthly_charges</th>\n",
       "      <th>tenure</th>\n",
       "      <th>total_charges</th>\n",
       "    </tr>\n",
       "  </thead>\n",
       "  <tbody>\n",
       "    <tr>\n",
       "      <td>0</td>\n",
       "      <td>109.70</td>\n",
       "      <td>71</td>\n",
       "      <td>7904.25</td>\n",
       "    </tr>\n",
       "    <tr>\n",
       "      <td>1</td>\n",
       "      <td>84.65</td>\n",
       "      <td>63</td>\n",
       "      <td>5377.80</td>\n",
       "    </tr>\n",
       "    <tr>\n",
       "      <td>2</td>\n",
       "      <td>90.45</td>\n",
       "      <td>65</td>\n",
       "      <td>5957.90</td>\n",
       "    </tr>\n",
       "    <tr>\n",
       "      <td>3</td>\n",
       "      <td>45.20</td>\n",
       "      <td>54</td>\n",
       "      <td>2460.55</td>\n",
       "    </tr>\n",
       "    <tr>\n",
       "      <td>4</td>\n",
       "      <td>116.80</td>\n",
       "      <td>72</td>\n",
       "      <td>8456.75</td>\n",
       "    </tr>\n",
       "  </tbody>\n",
       "</table>\n",
       "</div>"
      ],
      "text/plain": [
       "   monthly_charges  tenure  total_charges\n",
       "0           109.70      71        7904.25\n",
       "1            84.65      63        5377.80\n",
       "2            90.45      65        5957.90\n",
       "3            45.20      54        2460.55\n",
       "4           116.80      72        8456.75"
      ]
     },
     "execution_count": 38,
     "metadata": {},
     "output_type": "execute_result"
    }
   ],
   "source": [
    "numerics = df.drop(columns='customer_id')\n",
    "numerics.head()"
   ]
  },
  {
   "cell_type": "code",
   "execution_count": 39,
   "metadata": {},
   "outputs": [],
   "source": [
    "def standard_scaler(df):\n",
    "    train, test = split_my_data(df)\n",
    "    scaler = StandardScaler().fit(train)\n",
    "    train_scaled = (pd.DataFrame(scaler.transform(train), \n",
    "                    columns=train.columns.values)\n",
    "                    .set_index([train.index.values]))\n",
    "    test_scaled = (pd.DataFrame(scaler.transform(test), \n",
    "                    columns=test.columns.values)\n",
    "                   .set_index([test.index.values]))\n",
    "    return scaler, train_scaled, test_scaled"
   ]
  },
  {
   "cell_type": "code",
   "execution_count": 40,
   "metadata": {},
   "outputs": [],
   "source": [
    "scaler, train_scaled, test_scaled = standard_scaler(numerics)"
   ]
  },
  {
   "cell_type": "code",
   "execution_count": 41,
   "metadata": {},
   "outputs": [
    {
     "data": {
      "text/plain": [
       "StandardScaler(copy=True, with_mean=True, with_std=True)"
      ]
     },
     "execution_count": 41,
     "metadata": {},
     "output_type": "execute_result"
    }
   ],
   "source": [
    "scaler"
   ]
  },
  {
   "cell_type": "code",
   "execution_count": 42,
   "metadata": {},
   "outputs": [
    {
     "data": {
      "text/html": [
       "<div>\n",
       "<style scoped>\n",
       "    .dataframe tbody tr th:only-of-type {\n",
       "        vertical-align: middle;\n",
       "    }\n",
       "\n",
       "    .dataframe tbody tr th {\n",
       "        vertical-align: top;\n",
       "    }\n",
       "\n",
       "    .dataframe thead th {\n",
       "        text-align: right;\n",
       "    }\n",
       "</style>\n",
       "<table border=\"1\" class=\"dataframe\">\n",
       "  <thead>\n",
       "    <tr style=\"text-align: right;\">\n",
       "      <th></th>\n",
       "      <th>monthly_charges</th>\n",
       "      <th>tenure</th>\n",
       "      <th>total_charges</th>\n",
       "    </tr>\n",
       "  </thead>\n",
       "  <tbody>\n",
       "    <tr>\n",
       "      <td>1469</td>\n",
       "      <td>0.672591</td>\n",
       "      <td>0.838946</td>\n",
       "      <td>0.910993</td>\n",
       "    </tr>\n",
       "    <tr>\n",
       "      <td>163</td>\n",
       "      <td>1.237494</td>\n",
       "      <td>0.441745</td>\n",
       "      <td>1.144459</td>\n",
       "    </tr>\n",
       "    <tr>\n",
       "      <td>392</td>\n",
       "      <td>-1.159761</td>\n",
       "      <td>0.044543</td>\n",
       "      <td>-0.986222</td>\n",
       "    </tr>\n",
       "    <tr>\n",
       "      <td>1546</td>\n",
       "      <td>0.575095</td>\n",
       "      <td>0.838946</td>\n",
       "      <td>0.776991</td>\n",
       "    </tr>\n",
       "    <tr>\n",
       "      <td>797</td>\n",
       "      <td>0.014492</td>\n",
       "      <td>0.214772</td>\n",
       "      <td>0.003859</td>\n",
       "    </tr>\n",
       "    <tr>\n",
       "      <td>...</td>\n",
       "      <td>...</td>\n",
       "      <td>...</td>\n",
       "      <td>...</td>\n",
       "    </tr>\n",
       "    <tr>\n",
       "      <td>1122</td>\n",
       "      <td>0.795894</td>\n",
       "      <td>0.838946</td>\n",
       "      <td>0.990382</td>\n",
       "    </tr>\n",
       "    <tr>\n",
       "      <td>1346</td>\n",
       "      <td>-1.026421</td>\n",
       "      <td>0.498488</td>\n",
       "      <td>-0.795845</td>\n",
       "    </tr>\n",
       "    <tr>\n",
       "      <td>1406</td>\n",
       "      <td>-0.624967</td>\n",
       "      <td>0.725460</td>\n",
       "      <td>-0.405518</td>\n",
       "    </tr>\n",
       "    <tr>\n",
       "      <td>1389</td>\n",
       "      <td>0.638180</td>\n",
       "      <td>0.782203</td>\n",
       "      <td>0.922462</td>\n",
       "    </tr>\n",
       "    <tr>\n",
       "      <td>1534</td>\n",
       "      <td>-1.169798</td>\n",
       "      <td>-0.976833</td>\n",
       "      <td>-1.146372</td>\n",
       "    </tr>\n",
       "  </tbody>\n",
       "</table>\n",
       "<p>1186 rows × 3 columns</p>\n",
       "</div>"
      ],
      "text/plain": [
       "      monthly_charges    tenure  total_charges\n",
       "1469         0.672591  0.838946       0.910993\n",
       "163          1.237494  0.441745       1.144459\n",
       "392         -1.159761  0.044543      -0.986222\n",
       "1546         0.575095  0.838946       0.776991\n",
       "797          0.014492  0.214772       0.003859\n",
       "...               ...       ...            ...\n",
       "1122         0.795894  0.838946       0.990382\n",
       "1346        -1.026421  0.498488      -0.795845\n",
       "1406        -0.624967  0.725460      -0.405518\n",
       "1389         0.638180  0.782203       0.922462\n",
       "1534        -1.169798 -0.976833      -1.146372\n",
       "\n",
       "[1186 rows x 3 columns]"
      ]
     },
     "execution_count": 42,
     "metadata": {},
     "output_type": "execute_result"
    }
   ],
   "source": [
    "train_scaled"
   ]
  },
  {
   "cell_type": "code",
   "execution_count": 43,
   "metadata": {},
   "outputs": [
    {
     "data": {
      "text/html": [
       "<div>\n",
       "<style scoped>\n",
       "    .dataframe tbody tr th:only-of-type {\n",
       "        vertical-align: middle;\n",
       "    }\n",
       "\n",
       "    .dataframe tbody tr th {\n",
       "        vertical-align: top;\n",
       "    }\n",
       "\n",
       "    .dataframe thead th {\n",
       "        text-align: right;\n",
       "    }\n",
       "</style>\n",
       "<table border=\"1\" class=\"dataframe\">\n",
       "  <thead>\n",
       "    <tr style=\"text-align: right;\">\n",
       "      <th></th>\n",
       "      <th>monthly_charges</th>\n",
       "      <th>tenure</th>\n",
       "      <th>total_charges</th>\n",
       "    </tr>\n",
       "  </thead>\n",
       "  <tbody>\n",
       "    <tr>\n",
       "      <td>252</td>\n",
       "      <td>-1.169798</td>\n",
       "      <td>-2.679126</td>\n",
       "      <td>-1.361639</td>\n",
       "    </tr>\n",
       "    <tr>\n",
       "      <td>632</td>\n",
       "      <td>0.418814</td>\n",
       "      <td>0.328258</td>\n",
       "      <td>0.373899</td>\n",
       "    </tr>\n",
       "    <tr>\n",
       "      <td>472</td>\n",
       "      <td>-1.187003</td>\n",
       "      <td>0.725460</td>\n",
       "      <td>-0.881538</td>\n",
       "    </tr>\n",
       "    <tr>\n",
       "      <td>1029</td>\n",
       "      <td>1.111323</td>\n",
       "      <td>0.328258</td>\n",
       "      <td>1.001483</td>\n",
       "    </tr>\n",
       "    <tr>\n",
       "      <td>910</td>\n",
       "      <td>0.603770</td>\n",
       "      <td>0.782203</td>\n",
       "      <td>0.873630</td>\n",
       "    </tr>\n",
       "    <tr>\n",
       "      <td>...</td>\n",
       "      <td>...</td>\n",
       "      <td>...</td>\n",
       "      <td>...</td>\n",
       "    </tr>\n",
       "    <tr>\n",
       "      <td>759</td>\n",
       "      <td>0.826004</td>\n",
       "      <td>0.725460</td>\n",
       "      <td>1.015716</td>\n",
       "    </tr>\n",
       "    <tr>\n",
       "      <td>1603</td>\n",
       "      <td>0.532082</td>\n",
       "      <td>0.838946</td>\n",
       "      <td>0.742837</td>\n",
       "    </tr>\n",
       "    <tr>\n",
       "      <td>944</td>\n",
       "      <td>0.856113</td>\n",
       "      <td>0.838946</td>\n",
       "      <td>1.027475</td>\n",
       "    </tr>\n",
       "    <tr>\n",
       "      <td>375</td>\n",
       "      <td>-0.421372</td>\n",
       "      <td>0.668717</td>\n",
       "      <td>-0.239721</td>\n",
       "    </tr>\n",
       "    <tr>\n",
       "      <td>1396</td>\n",
       "      <td>1.131396</td>\n",
       "      <td>-0.863347</td>\n",
       "      <td>0.217559</td>\n",
       "    </tr>\n",
       "  </tbody>\n",
       "</table>\n",
       "<p>509 rows × 3 columns</p>\n",
       "</div>"
      ],
      "text/plain": [
       "      monthly_charges    tenure  total_charges\n",
       "252         -1.169798 -2.679126      -1.361639\n",
       "632          0.418814  0.328258       0.373899\n",
       "472         -1.187003  0.725460      -0.881538\n",
       "1029         1.111323  0.328258       1.001483\n",
       "910          0.603770  0.782203       0.873630\n",
       "...               ...       ...            ...\n",
       "759          0.826004  0.725460       1.015716\n",
       "1603         0.532082  0.838946       0.742837\n",
       "944          0.856113  0.838946       1.027475\n",
       "375         -0.421372  0.668717      -0.239721\n",
       "1396         1.131396 -0.863347       0.217559\n",
       "\n",
       "[509 rows x 3 columns]"
      ]
     },
     "execution_count": 43,
     "metadata": {},
     "output_type": "execute_result"
    }
   ],
   "source": [
    "test_scaled"
   ]
  },
  {
   "cell_type": "markdown",
   "metadata": {},
   "source": [
    "## Validate that my standard_scaler() function works in validation notebook"
   ]
  },
  {
   "cell_type": "markdown",
   "metadata": {},
   "source": [
    "### Could I reattach my numeric scaled df to my origin original df?"
   ]
  },
  {
   "cell_type": "code",
   "execution_count": 59,
   "metadata": {},
   "outputs": [
    {
     "data": {
      "text/plain": [
       "Index(['customer_id', 'monthly_charges_x', 'tenure_x', 'total_charges_x',\n",
       "       'monthly_charges_y', 'tenure_y', 'total_charges_y'],\n",
       "      dtype='object')"
      ]
     },
     "execution_count": 59,
     "metadata": {},
     "output_type": "execute_result"
    }
   ],
   "source": [
    "train_all = train.merge(train_scaled, how='inner', on=None, left_index=True, right_index=True)\n",
    "train_all.columns"
   ]
  },
  {
   "cell_type": "code",
   "execution_count": 60,
   "metadata": {},
   "outputs": [],
   "source": [
    "train_all.columns = ['customer_id', 'monthly_charges', 'tenure', 'total_charges',\n",
    "       'monthly_charges_scaled', 'tenure_scaled', 'total_charges_scaled']"
   ]
  },
  {
   "cell_type": "code",
   "execution_count": 61,
   "metadata": {},
   "outputs": [
    {
     "data": {
      "text/html": [
       "<div>\n",
       "<style scoped>\n",
       "    .dataframe tbody tr th:only-of-type {\n",
       "        vertical-align: middle;\n",
       "    }\n",
       "\n",
       "    .dataframe tbody tr th {\n",
       "        vertical-align: top;\n",
       "    }\n",
       "\n",
       "    .dataframe thead th {\n",
       "        text-align: right;\n",
       "    }\n",
       "</style>\n",
       "<table border=\"1\" class=\"dataframe\">\n",
       "  <thead>\n",
       "    <tr style=\"text-align: right;\">\n",
       "      <th></th>\n",
       "      <th>customer_id</th>\n",
       "      <th>monthly_charges</th>\n",
       "      <th>tenure</th>\n",
       "      <th>total_charges</th>\n",
       "      <th>monthly_charges_scaled</th>\n",
       "      <th>tenure_scaled</th>\n",
       "      <th>total_charges_scaled</th>\n",
       "    </tr>\n",
       "  </thead>\n",
       "  <tbody>\n",
       "    <tr>\n",
       "      <td>1469</td>\n",
       "      <td>8661-BOYNW</td>\n",
       "      <td>84.40</td>\n",
       "      <td>72</td>\n",
       "      <td>6096.45</td>\n",
       "      <td>0.672591</td>\n",
       "      <td>0.838946</td>\n",
       "      <td>0.910993</td>\n",
       "    </tr>\n",
       "    <tr>\n",
       "      <td>163</td>\n",
       "      <td>0960-HUWBM</td>\n",
       "      <td>104.10</td>\n",
       "      <td>65</td>\n",
       "      <td>6700.05</td>\n",
       "      <td>1.237494</td>\n",
       "      <td>0.441745</td>\n",
       "      <td>1.144459</td>\n",
       "    </tr>\n",
       "    <tr>\n",
       "      <td>392</td>\n",
       "      <td>2346-LOCWC</td>\n",
       "      <td>20.50</td>\n",
       "      <td>58</td>\n",
       "      <td>1191.40</td>\n",
       "      <td>-1.159761</td>\n",
       "      <td>0.044543</td>\n",
       "      <td>-0.986222</td>\n",
       "    </tr>\n",
       "    <tr>\n",
       "      <td>1546</td>\n",
       "      <td>9114-DPSIA</td>\n",
       "      <td>81.00</td>\n",
       "      <td>72</td>\n",
       "      <td>5750.00</td>\n",
       "      <td>0.575095</td>\n",
       "      <td>0.838946</td>\n",
       "      <td>0.776991</td>\n",
       "    </tr>\n",
       "    <tr>\n",
       "      <td>797</td>\n",
       "      <td>4891-NLUBA</td>\n",
       "      <td>61.45</td>\n",
       "      <td>61</td>\n",
       "      <td>3751.15</td>\n",
       "      <td>0.014492</td>\n",
       "      <td>0.214772</td>\n",
       "      <td>0.003859</td>\n",
       "    </tr>\n",
       "  </tbody>\n",
       "</table>\n",
       "</div>"
      ],
      "text/plain": [
       "     customer_id  monthly_charges  tenure  total_charges  \\\n",
       "1469  8661-BOYNW            84.40      72        6096.45   \n",
       "163   0960-HUWBM           104.10      65        6700.05   \n",
       "392   2346-LOCWC            20.50      58        1191.40   \n",
       "1546  9114-DPSIA            81.00      72        5750.00   \n",
       "797   4891-NLUBA            61.45      61        3751.15   \n",
       "\n",
       "      monthly_charges_scaled  tenure_scaled  total_charges_scaled  \n",
       "1469                0.672591       0.838946              0.910993  \n",
       "163                 1.237494       0.441745              1.144459  \n",
       "392                -1.159761       0.044543             -0.986222  \n",
       "1546                0.575095       0.838946              0.776991  \n",
       "797                 0.014492       0.214772              0.003859  "
      ]
     },
     "execution_count": 61,
     "metadata": {},
     "output_type": "execute_result"
    }
   ],
   "source": [
    "train_all.head()"
   ]
  },
  {
   "cell_type": "markdown",
   "metadata": {},
   "source": [
    "### Looks like I can by merging my train and train_scaled on their shared index."
   ]
  },
  {
   "cell_type": "markdown",
   "metadata": {},
   "source": [
    "# Yes!! Now let's do the inverse!"
   ]
  },
  {
   "cell_type": "code",
   "execution_count": 51,
   "metadata": {},
   "outputs": [],
   "source": [
    "def scale_inverse(scaler, train_scaled, test_scaled):\n",
    "    train_unscaled = (pd.DataFrame(scaler.inverse_transform(train_scaled), \n",
    "                    columns=train_scaled.columns.values)\n",
    "                    .set_index([train_scaled.index.values]))\n",
    "    test_unscaled = (pd.DataFrame(scaler.inverse_transform(test_scaled), \n",
    "                    columns=test_scaled.columns.values)\n",
    "                   .set_index([test_scaled.index.values]))\n",
    "    return train_unscaled, test_unscaled"
   ]
  },
  {
   "cell_type": "code",
   "execution_count": 52,
   "metadata": {},
   "outputs": [],
   "source": [
    "train_unscaled, test_unscaled = scale_inverse(scaler, train_scaled, test_scaled)"
   ]
  },
  {
   "cell_type": "code",
   "execution_count": 53,
   "metadata": {},
   "outputs": [
    {
     "data": {
      "text/html": [
       "<div>\n",
       "<style scoped>\n",
       "    .dataframe tbody tr th:only-of-type {\n",
       "        vertical-align: middle;\n",
       "    }\n",
       "\n",
       "    .dataframe tbody tr th {\n",
       "        vertical-align: top;\n",
       "    }\n",
       "\n",
       "    .dataframe thead th {\n",
       "        text-align: right;\n",
       "    }\n",
       "</style>\n",
       "<table border=\"1\" class=\"dataframe\">\n",
       "  <thead>\n",
       "    <tr style=\"text-align: right;\">\n",
       "      <th></th>\n",
       "      <th>monthly_charges</th>\n",
       "      <th>tenure</th>\n",
       "      <th>total_charges</th>\n",
       "    </tr>\n",
       "  </thead>\n",
       "  <tbody>\n",
       "    <tr>\n",
       "      <td>1469</td>\n",
       "      <td>84.40</td>\n",
       "      <td>72.0</td>\n",
       "      <td>6096.45</td>\n",
       "    </tr>\n",
       "    <tr>\n",
       "      <td>163</td>\n",
       "      <td>104.10</td>\n",
       "      <td>65.0</td>\n",
       "      <td>6700.05</td>\n",
       "    </tr>\n",
       "    <tr>\n",
       "      <td>392</td>\n",
       "      <td>20.50</td>\n",
       "      <td>58.0</td>\n",
       "      <td>1191.40</td>\n",
       "    </tr>\n",
       "    <tr>\n",
       "      <td>1546</td>\n",
       "      <td>81.00</td>\n",
       "      <td>72.0</td>\n",
       "      <td>5750.00</td>\n",
       "    </tr>\n",
       "    <tr>\n",
       "      <td>797</td>\n",
       "      <td>61.45</td>\n",
       "      <td>61.0</td>\n",
       "      <td>3751.15</td>\n",
       "    </tr>\n",
       "  </tbody>\n",
       "</table>\n",
       "</div>"
      ],
      "text/plain": [
       "      monthly_charges  tenure  total_charges\n",
       "1469            84.40    72.0        6096.45\n",
       "163            104.10    65.0        6700.05\n",
       "392             20.50    58.0        1191.40\n",
       "1546            81.00    72.0        5750.00\n",
       "797             61.45    61.0        3751.15"
      ]
     },
     "execution_count": 53,
     "metadata": {},
     "output_type": "execute_result"
    }
   ],
   "source": [
    "# Validate our DFs are unscaled\n",
    "\n",
    "train_unscaled.head()"
   ]
  },
  {
   "cell_type": "code",
   "execution_count": 54,
   "metadata": {},
   "outputs": [
    {
     "data": {
      "text/html": [
       "<div>\n",
       "<style scoped>\n",
       "    .dataframe tbody tr th:only-of-type {\n",
       "        vertical-align: middle;\n",
       "    }\n",
       "\n",
       "    .dataframe tbody tr th {\n",
       "        vertical-align: top;\n",
       "    }\n",
       "\n",
       "    .dataframe thead th {\n",
       "        text-align: right;\n",
       "    }\n",
       "</style>\n",
       "<table border=\"1\" class=\"dataframe\">\n",
       "  <thead>\n",
       "    <tr style=\"text-align: right;\">\n",
       "      <th></th>\n",
       "      <th>monthly_charges</th>\n",
       "      <th>tenure</th>\n",
       "      <th>total_charges</th>\n",
       "    </tr>\n",
       "  </thead>\n",
       "  <tbody>\n",
       "    <tr>\n",
       "      <td>252</td>\n",
       "      <td>20.15</td>\n",
       "      <td>10.0</td>\n",
       "      <td>220.80</td>\n",
       "    </tr>\n",
       "    <tr>\n",
       "      <td>632</td>\n",
       "      <td>75.55</td>\n",
       "      <td>63.0</td>\n",
       "      <td>4707.85</td>\n",
       "    </tr>\n",
       "    <tr>\n",
       "      <td>472</td>\n",
       "      <td>19.55</td>\n",
       "      <td>70.0</td>\n",
       "      <td>1462.05</td>\n",
       "    </tr>\n",
       "    <tr>\n",
       "      <td>1029</td>\n",
       "      <td>99.70</td>\n",
       "      <td>63.0</td>\n",
       "      <td>6330.40</td>\n",
       "    </tr>\n",
       "    <tr>\n",
       "      <td>910</td>\n",
       "      <td>82.00</td>\n",
       "      <td>71.0</td>\n",
       "      <td>5999.85</td>\n",
       "    </tr>\n",
       "  </tbody>\n",
       "</table>\n",
       "</div>"
      ],
      "text/plain": [
       "      monthly_charges  tenure  total_charges\n",
       "252             20.15    10.0         220.80\n",
       "632             75.55    63.0        4707.85\n",
       "472             19.55    70.0        1462.05\n",
       "1029            99.70    63.0        6330.40\n",
       "910             82.00    71.0        5999.85"
      ]
     },
     "execution_count": 54,
     "metadata": {},
     "output_type": "execute_result"
    }
   ],
   "source": [
    "test_unscaled.head()"
   ]
  },
  {
   "cell_type": "markdown",
   "metadata": {},
   "source": [
    "## Validate that my scale_inverse() function works in the validation notebook"
   ]
  },
  {
   "cell_type": "markdown",
   "metadata": {},
   "source": [
    "# Split and Scale df Using uniform_scaler() function\n",
    "\n",
    "- Now that we have seen one way to keep our non-numeric column in the df, I'm going to just make my functions to work on numeric DataFrames.\n",
    "\n",
    "- If I want to use the functions on my telco df with customer_id in it, I will set the non-numeric column to be the index, do all of my splitting and scaling, and then when I need to, I can reset the index."
   ]
  },
  {
   "cell_type": "code",
   "execution_count": 65,
   "metadata": {},
   "outputs": [],
   "source": [
    "df.set_index('customer_id', inplace=True)"
   ]
  },
  {
   "cell_type": "code",
   "execution_count": 66,
   "metadata": {},
   "outputs": [
    {
     "data": {
      "text/html": [
       "<div>\n",
       "<style scoped>\n",
       "    .dataframe tbody tr th:only-of-type {\n",
       "        vertical-align: middle;\n",
       "    }\n",
       "\n",
       "    .dataframe tbody tr th {\n",
       "        vertical-align: top;\n",
       "    }\n",
       "\n",
       "    .dataframe thead th {\n",
       "        text-align: right;\n",
       "    }\n",
       "</style>\n",
       "<table border=\"1\" class=\"dataframe\">\n",
       "  <thead>\n",
       "    <tr style=\"text-align: right;\">\n",
       "      <th></th>\n",
       "      <th>monthly_charges</th>\n",
       "      <th>tenure</th>\n",
       "      <th>total_charges</th>\n",
       "    </tr>\n",
       "    <tr>\n",
       "      <th>customer_id</th>\n",
       "      <th></th>\n",
       "      <th></th>\n",
       "      <th></th>\n",
       "    </tr>\n",
       "  </thead>\n",
       "  <tbody>\n",
       "    <tr>\n",
       "      <td>0013-SMEOE</td>\n",
       "      <td>109.70</td>\n",
       "      <td>71</td>\n",
       "      <td>7904.25</td>\n",
       "    </tr>\n",
       "    <tr>\n",
       "      <td>0014-BMAQU</td>\n",
       "      <td>84.65</td>\n",
       "      <td>63</td>\n",
       "      <td>5377.80</td>\n",
       "    </tr>\n",
       "    <tr>\n",
       "      <td>0016-QLJIS</td>\n",
       "      <td>90.45</td>\n",
       "      <td>65</td>\n",
       "      <td>5957.90</td>\n",
       "    </tr>\n",
       "    <tr>\n",
       "      <td>0017-DINOC</td>\n",
       "      <td>45.20</td>\n",
       "      <td>54</td>\n",
       "      <td>2460.55</td>\n",
       "    </tr>\n",
       "    <tr>\n",
       "      <td>0017-IUDMW</td>\n",
       "      <td>116.80</td>\n",
       "      <td>72</td>\n",
       "      <td>8456.75</td>\n",
       "    </tr>\n",
       "  </tbody>\n",
       "</table>\n",
       "</div>"
      ],
      "text/plain": [
       "             monthly_charges  tenure  total_charges\n",
       "customer_id                                        \n",
       "0013-SMEOE            109.70      71        7904.25\n",
       "0014-BMAQU             84.65      63        5377.80\n",
       "0016-QLJIS             90.45      65        5957.90\n",
       "0017-DINOC             45.20      54        2460.55\n",
       "0017-IUDMW            116.80      72        8456.75"
      ]
     },
     "execution_count": 66,
     "metadata": {},
     "output_type": "execute_result"
    }
   ],
   "source": [
    "df.head()"
   ]
  },
  {
   "cell_type": "code",
   "execution_count": 68,
   "metadata": {},
   "outputs": [],
   "source": [
    "def uniform_scaler(df):\n",
    "    train, test = split_my_data(df)\n",
    "    scaler = (QuantileTransformer(n_quantiles=100, \n",
    "                                  output_distribution='uniform', \n",
    "                                  random_state=123, copy=True)\n",
    "                                  .fit(train))\n",
    "    train_scaled = (pd.DataFrame(scaler.transform(train), \n",
    "                                 columns=train.columns.values)\n",
    "                                .set_index([train.index.values]))\n",
    "    test_scaled = (pd.DataFrame(scaler.transform(test), \n",
    "                                columns=test.columns.values)\n",
    "                               .set_index([test.index.values]))\n",
    "    return scaler, train_scaled, test_scaled"
   ]
  },
  {
   "cell_type": "code",
   "execution_count": 69,
   "metadata": {},
   "outputs": [],
   "source": [
    "scaler, train_scaled, test_scaled = uniform_scaler(df)"
   ]
  },
  {
   "cell_type": "code",
   "execution_count": 70,
   "metadata": {},
   "outputs": [
    {
     "data": {
      "text/plain": [
       "QuantileTransformer(copy=True, ignore_implicit_zeros=False, n_quantiles=100,\n",
       "                    output_distribution='uniform', random_state=123,\n",
       "                    subsample=100000)"
      ]
     },
     "execution_count": 70,
     "metadata": {},
     "output_type": "execute_result"
    }
   ],
   "source": [
    "scaler"
   ]
  },
  {
   "cell_type": "code",
   "execution_count": 71,
   "metadata": {},
   "outputs": [
    {
     "data": {
      "text/html": [
       "<div>\n",
       "<style scoped>\n",
       "    .dataframe tbody tr th:only-of-type {\n",
       "        vertical-align: middle;\n",
       "    }\n",
       "\n",
       "    .dataframe tbody tr th {\n",
       "        vertical-align: top;\n",
       "    }\n",
       "\n",
       "    .dataframe thead th {\n",
       "        text-align: right;\n",
       "    }\n",
       "</style>\n",
       "<table border=\"1\" class=\"dataframe\">\n",
       "  <thead>\n",
       "    <tr style=\"text-align: right;\">\n",
       "      <th></th>\n",
       "      <th>monthly_charges</th>\n",
       "      <th>tenure</th>\n",
       "      <th>total_charges</th>\n",
       "    </tr>\n",
       "  </thead>\n",
       "  <tbody>\n",
       "    <tr>\n",
       "      <td>8661-BOYNW</td>\n",
       "      <td>0.669192</td>\n",
       "      <td>1.000000</td>\n",
       "      <td>0.752846</td>\n",
       "    </tr>\n",
       "    <tr>\n",
       "      <td>0960-HUWBM</td>\n",
       "      <td>0.839370</td>\n",
       "      <td>0.510101</td>\n",
       "      <td>0.828438</td>\n",
       "    </tr>\n",
       "    <tr>\n",
       "      <td>2346-LOCWC</td>\n",
       "      <td>0.212121</td>\n",
       "      <td>0.373737</td>\n",
       "      <td>0.221889</td>\n",
       "    </tr>\n",
       "    <tr>\n",
       "      <td>9114-DPSIA</td>\n",
       "      <td>0.641389</td>\n",
       "      <td>1.000000</td>\n",
       "      <td>0.712854</td>\n",
       "    </tr>\n",
       "    <tr>\n",
       "      <td>4891-NLUBA</td>\n",
       "      <td>0.479454</td>\n",
       "      <td>0.424242</td>\n",
       "      <td>0.507107</td>\n",
       "    </tr>\n",
       "  </tbody>\n",
       "</table>\n",
       "</div>"
      ],
      "text/plain": [
       "            monthly_charges    tenure  total_charges\n",
       "8661-BOYNW         0.669192  1.000000       0.752846\n",
       "0960-HUWBM         0.839370  0.510101       0.828438\n",
       "2346-LOCWC         0.212121  0.373737       0.221889\n",
       "9114-DPSIA         0.641389  1.000000       0.712854\n",
       "4891-NLUBA         0.479454  0.424242       0.507107"
      ]
     },
     "execution_count": 71,
     "metadata": {},
     "output_type": "execute_result"
    }
   ],
   "source": [
    "train_scaled.head()"
   ]
  },
  {
   "cell_type": "code",
   "execution_count": 73,
   "metadata": {},
   "outputs": [
    {
     "data": {
      "text/html": [
       "<div>\n",
       "<style scoped>\n",
       "    .dataframe tbody tr th:only-of-type {\n",
       "        vertical-align: middle;\n",
       "    }\n",
       "\n",
       "    .dataframe tbody tr th {\n",
       "        vertical-align: top;\n",
       "    }\n",
       "\n",
       "    .dataframe thead th {\n",
       "        text-align: right;\n",
       "    }\n",
       "</style>\n",
       "<table border=\"1\" class=\"dataframe\">\n",
       "  <thead>\n",
       "    <tr style=\"text-align: right;\">\n",
       "      <th></th>\n",
       "      <th>monthly_charges</th>\n",
       "      <th>tenure</th>\n",
       "      <th>total_charges</th>\n",
       "    </tr>\n",
       "  </thead>\n",
       "  <tbody>\n",
       "    <tr>\n",
       "      <td>1494-EJZDW</td>\n",
       "      <td>0.171717</td>\n",
       "      <td>0.025253</td>\n",
       "      <td>0.025422</td>\n",
       "    </tr>\n",
       "    <tr>\n",
       "      <td>3795-GWTRD</td>\n",
       "      <td>0.580226</td>\n",
       "      <td>0.469697</td>\n",
       "      <td>0.607690</td>\n",
       "    </tr>\n",
       "    <tr>\n",
       "      <td>2900-PHPLN</td>\n",
       "      <td>0.060606</td>\n",
       "      <td>0.691919</td>\n",
       "      <td>0.313386</td>\n",
       "    </tr>\n",
       "    <tr>\n",
       "      <td>6211-WWLTF</td>\n",
       "      <td>0.810763</td>\n",
       "      <td>0.469697</td>\n",
       "      <td>0.786201</td>\n",
       "    </tr>\n",
       "    <tr>\n",
       "      <td>5494-WOZRZ</td>\n",
       "      <td>0.652346</td>\n",
       "      <td>0.757576</td>\n",
       "      <td>0.740894</td>\n",
       "    </tr>\n",
       "  </tbody>\n",
       "</table>\n",
       "</div>"
      ],
      "text/plain": [
       "            monthly_charges    tenure  total_charges\n",
       "1494-EJZDW         0.171717  0.025253       0.025422\n",
       "3795-GWTRD         0.580226  0.469697       0.607690\n",
       "2900-PHPLN         0.060606  0.691919       0.313386\n",
       "6211-WWLTF         0.810763  0.469697       0.786201\n",
       "5494-WOZRZ         0.652346  0.757576       0.740894"
      ]
     },
     "execution_count": 73,
     "metadata": {},
     "output_type": "execute_result"
    }
   ],
   "source": [
    "test_scaled.head()"
   ]
  },
  {
   "cell_type": "markdown",
   "metadata": {},
   "source": [
    "## Validate my uniform_scaler() function in my Validation notebook"
   ]
  },
  {
   "cell_type": "markdown",
   "metadata": {},
   "source": [
    "# Split and Scale my df using the gaussian_scaler() function"
   ]
  },
  {
   "cell_type": "code",
   "execution_count": 74,
   "metadata": {},
   "outputs": [
    {
     "data": {
      "text/html": [
       "<div>\n",
       "<style scoped>\n",
       "    .dataframe tbody tr th:only-of-type {\n",
       "        vertical-align: middle;\n",
       "    }\n",
       "\n",
       "    .dataframe tbody tr th {\n",
       "        vertical-align: top;\n",
       "    }\n",
       "\n",
       "    .dataframe thead th {\n",
       "        text-align: right;\n",
       "    }\n",
       "</style>\n",
       "<table border=\"1\" class=\"dataframe\">\n",
       "  <thead>\n",
       "    <tr style=\"text-align: right;\">\n",
       "      <th></th>\n",
       "      <th>monthly_charges</th>\n",
       "      <th>tenure</th>\n",
       "      <th>total_charges</th>\n",
       "    </tr>\n",
       "    <tr>\n",
       "      <th>customer_id</th>\n",
       "      <th></th>\n",
       "      <th></th>\n",
       "      <th></th>\n",
       "    </tr>\n",
       "  </thead>\n",
       "  <tbody>\n",
       "    <tr>\n",
       "      <td>0013-SMEOE</td>\n",
       "      <td>109.7</td>\n",
       "      <td>71</td>\n",
       "      <td>7904.25</td>\n",
       "    </tr>\n",
       "  </tbody>\n",
       "</table>\n",
       "</div>"
      ],
      "text/plain": [
       "             monthly_charges  tenure  total_charges\n",
       "customer_id                                        \n",
       "0013-SMEOE             109.7      71        7904.25"
      ]
     },
     "execution_count": 74,
     "metadata": {},
     "output_type": "execute_result"
    }
   ],
   "source": [
    "df.head(1)"
   ]
  },
  {
   "cell_type": "code",
   "execution_count": 75,
   "metadata": {},
   "outputs": [],
   "source": [
    "def gaussian_scaler(df):\n",
    "    train, test = split_my_data(df)\n",
    "    scaler = (PowerTransformer(method='yeo-johnson', \n",
    "                               standardize=False, \n",
    "                               copy=True)\n",
    "                              .fit(train))\n",
    "    train_scaled = (pd.DataFrame(scaler.transform(train), \n",
    "                                 columns=train.columns.values)\n",
    "                                .set_index([train.index.values]))\n",
    "    test_scaled = (pd.DataFrame(scaler.transform(test), \n",
    "                                columns=test.columns.values)\n",
    "                               .set_index([test.index.values]))\n",
    "    return scaler, train_scaled, test_scaled"
   ]
  },
  {
   "cell_type": "code",
   "execution_count": 77,
   "metadata": {},
   "outputs": [],
   "source": [
    "scaler, train_scaled, test_scaled = gaussian_scaler(df)"
   ]
  },
  {
   "cell_type": "code",
   "execution_count": 78,
   "metadata": {},
   "outputs": [
    {
     "data": {
      "text/plain": [
       "PowerTransformer(copy=True, method='yeo-johnson', standardize=False)"
      ]
     },
     "execution_count": 78,
     "metadata": {},
     "output_type": "execute_result"
    }
   ],
   "source": [
    "scaler"
   ]
  },
  {
   "cell_type": "code",
   "execution_count": 79,
   "metadata": {},
   "outputs": [
    {
     "data": {
      "text/html": [
       "<div>\n",
       "<style scoped>\n",
       "    .dataframe tbody tr th:only-of-type {\n",
       "        vertical-align: middle;\n",
       "    }\n",
       "\n",
       "    .dataframe tbody tr th {\n",
       "        vertical-align: top;\n",
       "    }\n",
       "\n",
       "    .dataframe thead th {\n",
       "        text-align: right;\n",
       "    }\n",
       "</style>\n",
       "<table border=\"1\" class=\"dataframe\">\n",
       "  <thead>\n",
       "    <tr style=\"text-align: right;\">\n",
       "      <th></th>\n",
       "      <th>monthly_charges</th>\n",
       "      <th>tenure</th>\n",
       "      <th>total_charges</th>\n",
       "    </tr>\n",
       "  </thead>\n",
       "  <tbody>\n",
       "    <tr>\n",
       "      <td>8661-BOYNW</td>\n",
       "      <td>11.717472</td>\n",
       "      <td>9950.702540</td>\n",
       "      <td>120.161288</td>\n",
       "    </tr>\n",
       "    <tr>\n",
       "      <td>0960-HUWBM</td>\n",
       "      <td>12.902125</td>\n",
       "      <td>7856.438822</td>\n",
       "      <td>125.628091</td>\n",
       "    </tr>\n",
       "    <tr>\n",
       "      <td>2346-LOCWC</td>\n",
       "      <td>5.840528</td>\n",
       "      <td>6040.584127</td>\n",
       "      <td>55.281773</td>\n",
       "    </tr>\n",
       "    <tr>\n",
       "      <td>9114-DPSIA</td>\n",
       "      <td>11.496409</td>\n",
       "      <td>9950.702540</td>\n",
       "      <td>116.891462</td>\n",
       "    </tr>\n",
       "    <tr>\n",
       "      <td>4891-NLUBA</td>\n",
       "      <td>10.099975</td>\n",
       "      <td>6785.375569</td>\n",
       "      <td>95.525468</td>\n",
       "    </tr>\n",
       "  </tbody>\n",
       "</table>\n",
       "</div>"
      ],
      "text/plain": [
       "            monthly_charges       tenure  total_charges\n",
       "8661-BOYNW        11.717472  9950.702540     120.161288\n",
       "0960-HUWBM        12.902125  7856.438822     125.628091\n",
       "2346-LOCWC         5.840528  6040.584127      55.281773\n",
       "9114-DPSIA        11.496409  9950.702540     116.891462\n",
       "4891-NLUBA        10.099975  6785.375569      95.525468"
      ]
     },
     "execution_count": 79,
     "metadata": {},
     "output_type": "execute_result"
    }
   ],
   "source": [
    "train_scaled.head()"
   ]
  },
  {
   "cell_type": "code",
   "execution_count": 80,
   "metadata": {},
   "outputs": [
    {
     "data": {
      "text/html": [
       "<div>\n",
       "<style scoped>\n",
       "    .dataframe tbody tr th:only-of-type {\n",
       "        vertical-align: middle;\n",
       "    }\n",
       "\n",
       "    .dataframe tbody tr th {\n",
       "        vertical-align: top;\n",
       "    }\n",
       "\n",
       "    .dataframe thead th {\n",
       "        text-align: right;\n",
       "    }\n",
       "</style>\n",
       "<table border=\"1\" class=\"dataframe\">\n",
       "  <thead>\n",
       "    <tr style=\"text-align: right;\">\n",
       "      <th></th>\n",
       "      <th>monthly_charges</th>\n",
       "      <th>tenure</th>\n",
       "      <th>total_charges</th>\n",
       "    </tr>\n",
       "  </thead>\n",
       "  <tbody>\n",
       "    <tr>\n",
       "      <td>1494-EJZDW</td>\n",
       "      <td>5.787600</td>\n",
       "      <td>117.379965</td>\n",
       "      <td>24.196746</td>\n",
       "    </tr>\n",
       "    <tr>\n",
       "      <td>3795-GWTRD</td>\n",
       "      <td>11.129928</td>\n",
       "      <td>7309.661082</td>\n",
       "      <td>106.361697</td>\n",
       "    </tr>\n",
       "    <tr>\n",
       "      <td>2900-PHPLN</td>\n",
       "      <td>5.695594</td>\n",
       "      <td>9323.346607</td>\n",
       "      <td>60.990392</td>\n",
       "    </tr>\n",
       "    <tr>\n",
       "      <td>6211-WWLTF</td>\n",
       "      <td>12.650286</td>\n",
       "      <td>7309.661082</td>\n",
       "      <td>122.313217</td>\n",
       "    </tr>\n",
       "    <tr>\n",
       "      <td>5494-WOZRZ</td>\n",
       "      <td>11.562005</td>\n",
       "      <td>9634.096705</td>\n",
       "      <td>119.259823</td>\n",
       "    </tr>\n",
       "  </tbody>\n",
       "</table>\n",
       "</div>"
      ],
      "text/plain": [
       "            monthly_charges       tenure  total_charges\n",
       "1494-EJZDW         5.787600   117.379965      24.196746\n",
       "3795-GWTRD        11.129928  7309.661082     106.361697\n",
       "2900-PHPLN         5.695594  9323.346607      60.990392\n",
       "6211-WWLTF        12.650286  7309.661082     122.313217\n",
       "5494-WOZRZ        11.562005  9634.096705     119.259823"
      ]
     },
     "execution_count": 80,
     "metadata": {},
     "output_type": "execute_result"
    }
   ],
   "source": [
    "test_scaled.head()"
   ]
  },
  {
   "cell_type": "markdown",
   "metadata": {},
   "source": [
    "## Validate my gaussian_scaler() function in my Validation notebook"
   ]
  },
  {
   "cell_type": "markdown",
   "metadata": {},
   "source": [
    "# Split and Scale my df using the min_max_scaler() function"
   ]
  },
  {
   "cell_type": "code",
   "execution_count": 81,
   "metadata": {},
   "outputs": [
    {
     "data": {
      "text/html": [
       "<div>\n",
       "<style scoped>\n",
       "    .dataframe tbody tr th:only-of-type {\n",
       "        vertical-align: middle;\n",
       "    }\n",
       "\n",
       "    .dataframe tbody tr th {\n",
       "        vertical-align: top;\n",
       "    }\n",
       "\n",
       "    .dataframe thead th {\n",
       "        text-align: right;\n",
       "    }\n",
       "</style>\n",
       "<table border=\"1\" class=\"dataframe\">\n",
       "  <thead>\n",
       "    <tr style=\"text-align: right;\">\n",
       "      <th></th>\n",
       "      <th>monthly_charges</th>\n",
       "      <th>tenure</th>\n",
       "      <th>total_charges</th>\n",
       "    </tr>\n",
       "    <tr>\n",
       "      <th>customer_id</th>\n",
       "      <th></th>\n",
       "      <th></th>\n",
       "      <th></th>\n",
       "    </tr>\n",
       "  </thead>\n",
       "  <tbody>\n",
       "    <tr>\n",
       "      <td>0013-SMEOE</td>\n",
       "      <td>109.7</td>\n",
       "      <td>71</td>\n",
       "      <td>7904.25</td>\n",
       "    </tr>\n",
       "  </tbody>\n",
       "</table>\n",
       "</div>"
      ],
      "text/plain": [
       "             monthly_charges  tenure  total_charges\n",
       "customer_id                                        \n",
       "0013-SMEOE             109.7      71        7904.25"
      ]
     },
     "execution_count": 81,
     "metadata": {},
     "output_type": "execute_result"
    }
   ],
   "source": [
    "df.head(1)"
   ]
  },
  {
   "cell_type": "code",
   "execution_count": 82,
   "metadata": {},
   "outputs": [],
   "source": [
    "def min_max_scaler(df):\n",
    "    train, test = split_my_data(df)\n",
    "    scaler = (MinMaxScaler(copy=True, \n",
    "                           feature_range=(0,1))\n",
    "                          .fit(train))\n",
    "    train_scaled = (pd.DataFrame(scaler.transform(train), \n",
    "                                 columns=train.columns.values)\n",
    "                                .set_index([train.index.values]))\n",
    "    test_scaled = (pd.DataFrame(scaler.transform(test), \n",
    "                                columns=test.columns.values)\n",
    "                               .set_index([test.index.values]))\n",
    "    return scaler, train_scaled, test_scaled"
   ]
  },
  {
   "cell_type": "code",
   "execution_count": 83,
   "metadata": {},
   "outputs": [],
   "source": [
    "scaler, train_scaled, test_scaled = min_max_scaler(df)"
   ]
  },
  {
   "cell_type": "code",
   "execution_count": 84,
   "metadata": {},
   "outputs": [
    {
     "data": {
      "text/plain": [
       "MinMaxScaler(copy=True, feature_range=(0, 1))"
      ]
     },
     "execution_count": 84,
     "metadata": {},
     "output_type": "execute_result"
    }
   ],
   "source": [
    "scaler"
   ]
  },
  {
   "cell_type": "code",
   "execution_count": 85,
   "metadata": {},
   "outputs": [
    {
     "data": {
      "text/html": [
       "<div>\n",
       "<style scoped>\n",
       "    .dataframe tbody tr th:only-of-type {\n",
       "        vertical-align: middle;\n",
       "    }\n",
       "\n",
       "    .dataframe tbody tr th {\n",
       "        vertical-align: top;\n",
       "    }\n",
       "\n",
       "    .dataframe thead th {\n",
       "        text-align: right;\n",
       "    }\n",
       "</style>\n",
       "<table border=\"1\" class=\"dataframe\">\n",
       "  <thead>\n",
       "    <tr style=\"text-align: right;\">\n",
       "      <th></th>\n",
       "      <th>monthly_charges</th>\n",
       "      <th>tenure</th>\n",
       "      <th>total_charges</th>\n",
       "    </tr>\n",
       "  </thead>\n",
       "  <tbody>\n",
       "    <tr>\n",
       "      <td>8661-BOYNW</td>\n",
       "      <td>0.657698</td>\n",
       "      <td>1.000000</td>\n",
       "      <td>0.702286</td>\n",
       "    </tr>\n",
       "    <tr>\n",
       "      <td>0960-HUWBM</td>\n",
       "      <td>0.854011</td>\n",
       "      <td>0.901408</td>\n",
       "      <td>0.772045</td>\n",
       "    </tr>\n",
       "    <tr>\n",
       "      <td>2346-LOCWC</td>\n",
       "      <td>0.020927</td>\n",
       "      <td>0.802817</td>\n",
       "      <td>0.135399</td>\n",
       "    </tr>\n",
       "    <tr>\n",
       "      <td>9114-DPSIA</td>\n",
       "      <td>0.623817</td>\n",
       "      <td>1.000000</td>\n",
       "      <td>0.662246</td>\n",
       "    </tr>\n",
       "    <tr>\n",
       "      <td>4891-NLUBA</td>\n",
       "      <td>0.428999</td>\n",
       "      <td>0.845070</td>\n",
       "      <td>0.431235</td>\n",
       "    </tr>\n",
       "  </tbody>\n",
       "</table>\n",
       "</div>"
      ],
      "text/plain": [
       "            monthly_charges    tenure  total_charges\n",
       "8661-BOYNW         0.657698  1.000000       0.702286\n",
       "0960-HUWBM         0.854011  0.901408       0.772045\n",
       "2346-LOCWC         0.020927  0.802817       0.135399\n",
       "9114-DPSIA         0.623817  1.000000       0.662246\n",
       "4891-NLUBA         0.428999  0.845070       0.431235"
      ]
     },
     "execution_count": 85,
     "metadata": {},
     "output_type": "execute_result"
    }
   ],
   "source": [
    "train_scaled.head()"
   ]
  },
  {
   "cell_type": "code",
   "execution_count": 86,
   "metadata": {},
   "outputs": [
    {
     "data": {
      "text/html": [
       "<div>\n",
       "<style scoped>\n",
       "    .dataframe tbody tr th:only-of-type {\n",
       "        vertical-align: middle;\n",
       "    }\n",
       "\n",
       "    .dataframe tbody tr th {\n",
       "        vertical-align: top;\n",
       "    }\n",
       "\n",
       "    .dataframe thead th {\n",
       "        text-align: right;\n",
       "    }\n",
       "</style>\n",
       "<table border=\"1\" class=\"dataframe\">\n",
       "  <thead>\n",
       "    <tr style=\"text-align: right;\">\n",
       "      <th></th>\n",
       "      <th>monthly_charges</th>\n",
       "      <th>tenure</th>\n",
       "      <th>total_charges</th>\n",
       "    </tr>\n",
       "  </thead>\n",
       "  <tbody>\n",
       "    <tr>\n",
       "      <td>1494-EJZDW</td>\n",
       "      <td>0.017439</td>\n",
       "      <td>0.126761</td>\n",
       "      <td>0.023224</td>\n",
       "    </tr>\n",
       "    <tr>\n",
       "      <td>3795-GWTRD</td>\n",
       "      <td>0.569507</td>\n",
       "      <td>0.873239</td>\n",
       "      <td>0.541802</td>\n",
       "    </tr>\n",
       "    <tr>\n",
       "      <td>2900-PHPLN</td>\n",
       "      <td>0.011460</td>\n",
       "      <td>0.971831</td>\n",
       "      <td>0.166678</td>\n",
       "    </tr>\n",
       "    <tr>\n",
       "      <td>6211-WWLTF</td>\n",
       "      <td>0.810164</td>\n",
       "      <td>0.873239</td>\n",
       "      <td>0.729324</td>\n",
       "    </tr>\n",
       "    <tr>\n",
       "      <td>5494-WOZRZ</td>\n",
       "      <td>0.633782</td>\n",
       "      <td>0.985915</td>\n",
       "      <td>0.691122</td>\n",
       "    </tr>\n",
       "  </tbody>\n",
       "</table>\n",
       "</div>"
      ],
      "text/plain": [
       "            monthly_charges    tenure  total_charges\n",
       "1494-EJZDW         0.017439  0.126761       0.023224\n",
       "3795-GWTRD         0.569507  0.873239       0.541802\n",
       "2900-PHPLN         0.011460  0.971831       0.166678\n",
       "6211-WWLTF         0.810164  0.873239       0.729324\n",
       "5494-WOZRZ         0.633782  0.985915       0.691122"
      ]
     },
     "execution_count": 86,
     "metadata": {},
     "output_type": "execute_result"
    }
   ],
   "source": [
    "test_scaled.head()"
   ]
  },
  {
   "cell_type": "markdown",
   "metadata": {},
   "source": [
    "## Validate my min_max_scaler() function in my Validation notebook"
   ]
  },
  {
   "cell_type": "markdown",
   "metadata": {},
   "source": [
    "# Split and Scale my df using the iqr_robust_scaler() function"
   ]
  },
  {
   "cell_type": "code",
   "execution_count": 89,
   "metadata": {},
   "outputs": [
    {
     "data": {
      "text/html": [
       "<div>\n",
       "<style scoped>\n",
       "    .dataframe tbody tr th:only-of-type {\n",
       "        vertical-align: middle;\n",
       "    }\n",
       "\n",
       "    .dataframe tbody tr th {\n",
       "        vertical-align: top;\n",
       "    }\n",
       "\n",
       "    .dataframe thead th {\n",
       "        text-align: right;\n",
       "    }\n",
       "</style>\n",
       "<table border=\"1\" class=\"dataframe\">\n",
       "  <thead>\n",
       "    <tr style=\"text-align: right;\">\n",
       "      <th></th>\n",
       "      <th>monthly_charges</th>\n",
       "      <th>tenure</th>\n",
       "      <th>total_charges</th>\n",
       "    </tr>\n",
       "    <tr>\n",
       "      <th>customer_id</th>\n",
       "      <th></th>\n",
       "      <th></th>\n",
       "      <th></th>\n",
       "    </tr>\n",
       "  </thead>\n",
       "  <tbody>\n",
       "    <tr>\n",
       "      <td>0013-SMEOE</td>\n",
       "      <td>109.7</td>\n",
       "      <td>71</td>\n",
       "      <td>7904.25</td>\n",
       "    </tr>\n",
       "  </tbody>\n",
       "</table>\n",
       "</div>"
      ],
      "text/plain": [
       "             monthly_charges  tenure  total_charges\n",
       "customer_id                                        \n",
       "0013-SMEOE             109.7      71        7904.25"
      ]
     },
     "execution_count": 89,
     "metadata": {},
     "output_type": "execute_result"
    }
   ],
   "source": [
    "df.head(1)"
   ]
  },
  {
   "cell_type": "code",
   "execution_count": 87,
   "metadata": {},
   "outputs": [],
   "source": [
    "def iqr_robust_scaler(df):\n",
    "    train, test = split_my_data(df)\n",
    "    scaler = (RobustScaler(quantile_range=(25.0,75.0), \n",
    "                           copy=True, \n",
    "                           with_centering=True, \n",
    "                           with_scaling=True)\n",
    "                          .fit(train))\n",
    "    train_scaled = (pd.DataFrame(scaler.transform(train), \n",
    "                                 columns=train.columns.values)\n",
    "                                .set_index([train.index.values]))\n",
    "    test_scaled = (pd.DataFrame(scaler.transform(test), \n",
    "                                columns=test.columns.values)\n",
    "                               .set_index([test.index.values]))\n",
    "    return scaler, train_scaled, test_scaled"
   ]
  },
  {
   "cell_type": "code",
   "execution_count": 90,
   "metadata": {},
   "outputs": [],
   "source": [
    "scaler, train_scaled, test_scaled = iqr_robust_scaler(df)"
   ]
  },
  {
   "cell_type": "code",
   "execution_count": 91,
   "metadata": {},
   "outputs": [
    {
     "data": {
      "text/plain": [
       "RobustScaler(copy=True, quantile_range=(25.0, 75.0), with_centering=True,\n",
       "             with_scaling=True)"
      ]
     },
     "execution_count": 91,
     "metadata": {},
     "output_type": "execute_result"
    }
   ],
   "source": [
    "scaler"
   ]
  },
  {
   "cell_type": "code",
   "execution_count": 92,
   "metadata": {},
   "outputs": [
    {
     "data": {
      "text/html": [
       "<div>\n",
       "<style scoped>\n",
       "    .dataframe tbody tr th:only-of-type {\n",
       "        vertical-align: middle;\n",
       "    }\n",
       "\n",
       "    .dataframe tbody tr th {\n",
       "        vertical-align: top;\n",
       "    }\n",
       "\n",
       "    .dataframe thead th {\n",
       "        text-align: right;\n",
       "    }\n",
       "</style>\n",
       "<table border=\"1\" class=\"dataframe\">\n",
       "  <thead>\n",
       "    <tr style=\"text-align: right;\">\n",
       "      <th></th>\n",
       "      <th>monthly_charges</th>\n",
       "      <th>tenure</th>\n",
       "      <th>total_charges</th>\n",
       "    </tr>\n",
       "  </thead>\n",
       "  <tbody>\n",
       "    <tr>\n",
       "      <td>8661-BOYNW</td>\n",
       "      <td>0.298318</td>\n",
       "      <td>0.363636</td>\n",
       "      <td>0.513837</td>\n",
       "    </tr>\n",
       "    <tr>\n",
       "      <td>0960-HUWBM</td>\n",
       "      <td>0.592897</td>\n",
       "      <td>0.045455</td>\n",
       "      <td>0.639483</td>\n",
       "    </tr>\n",
       "    <tr>\n",
       "      <td>2346-LOCWC</td>\n",
       "      <td>-0.657196</td>\n",
       "      <td>-0.272727</td>\n",
       "      <td>-0.507197</td>\n",
       "    </tr>\n",
       "    <tr>\n",
       "      <td>9114-DPSIA</td>\n",
       "      <td>0.247477</td>\n",
       "      <td>0.363636</td>\n",
       "      <td>0.441720</td>\n",
       "    </tr>\n",
       "    <tr>\n",
       "      <td>4891-NLUBA</td>\n",
       "      <td>-0.044860</td>\n",
       "      <td>-0.136364</td>\n",
       "      <td>0.025640</td>\n",
       "    </tr>\n",
       "  </tbody>\n",
       "</table>\n",
       "</div>"
      ],
      "text/plain": [
       "            monthly_charges    tenure  total_charges\n",
       "8661-BOYNW         0.298318  0.363636       0.513837\n",
       "0960-HUWBM         0.592897  0.045455       0.639483\n",
       "2346-LOCWC        -0.657196 -0.272727      -0.507197\n",
       "9114-DPSIA         0.247477  0.363636       0.441720\n",
       "4891-NLUBA        -0.044860 -0.136364       0.025640"
      ]
     },
     "execution_count": 92,
     "metadata": {},
     "output_type": "execute_result"
    }
   ],
   "source": [
    "train_scaled.head()"
   ]
  },
  {
   "cell_type": "code",
   "execution_count": 93,
   "metadata": {},
   "outputs": [
    {
     "data": {
      "text/html": [
       "<div>\n",
       "<style scoped>\n",
       "    .dataframe tbody tr th:only-of-type {\n",
       "        vertical-align: middle;\n",
       "    }\n",
       "\n",
       "    .dataframe tbody tr th {\n",
       "        vertical-align: top;\n",
       "    }\n",
       "\n",
       "    .dataframe thead th {\n",
       "        text-align: right;\n",
       "    }\n",
       "</style>\n",
       "<table border=\"1\" class=\"dataframe\">\n",
       "  <thead>\n",
       "    <tr style=\"text-align: right;\">\n",
       "      <th></th>\n",
       "      <th>monthly_charges</th>\n",
       "      <th>tenure</th>\n",
       "      <th>total_charges</th>\n",
       "    </tr>\n",
       "  </thead>\n",
       "  <tbody>\n",
       "    <tr>\n",
       "      <td>1494-EJZDW</td>\n",
       "      <td>-0.662430</td>\n",
       "      <td>-2.454545</td>\n",
       "      <td>-0.709237</td>\n",
       "    </tr>\n",
       "    <tr>\n",
       "      <td>3795-GWTRD</td>\n",
       "      <td>0.165981</td>\n",
       "      <td>-0.045455</td>\n",
       "      <td>0.224787</td>\n",
       "    </tr>\n",
       "    <tr>\n",
       "      <td>2900-PHPLN</td>\n",
       "      <td>-0.671402</td>\n",
       "      <td>0.272727</td>\n",
       "      <td>-0.450859</td>\n",
       "    </tr>\n",
       "    <tr>\n",
       "      <td>6211-WWLTF</td>\n",
       "      <td>0.527103</td>\n",
       "      <td>-0.045455</td>\n",
       "      <td>0.562536</td>\n",
       "    </tr>\n",
       "    <tr>\n",
       "      <td>5494-WOZRZ</td>\n",
       "      <td>0.262430</td>\n",
       "      <td>0.318182</td>\n",
       "      <td>0.493729</td>\n",
       "    </tr>\n",
       "  </tbody>\n",
       "</table>\n",
       "</div>"
      ],
      "text/plain": [
       "            monthly_charges    tenure  total_charges\n",
       "1494-EJZDW        -0.662430 -2.454545      -0.709237\n",
       "3795-GWTRD         0.165981 -0.045455       0.224787\n",
       "2900-PHPLN        -0.671402  0.272727      -0.450859\n",
       "6211-WWLTF         0.527103 -0.045455       0.562536\n",
       "5494-WOZRZ         0.262430  0.318182       0.493729"
      ]
     },
     "execution_count": 93,
     "metadata": {},
     "output_type": "execute_result"
    }
   ],
   "source": [
    "test_scaled.head()"
   ]
  },
  {
   "cell_type": "markdown",
   "metadata": {},
   "source": [
    "## Validate my iqr_robust_scaler() function in my Validation notebook"
   ]
  },
  {
   "cell_type": "markdown",
   "metadata": {},
   "source": [
    "# Boom! Ready for Data Science!"
   ]
  }
 ],
 "metadata": {
  "kernelspec": {
   "display_name": "Python 3",
   "language": "python",
   "name": "python3"
  },
  "language_info": {
   "codemirror_mode": {
    "name": "ipython",
    "version": 3
   },
   "file_extension": ".py",
   "mimetype": "text/x-python",
   "name": "python",
   "nbconvert_exporter": "python",
   "pygments_lexer": "ipython3",
   "version": "3.7.4"
  },
  "toc": {
   "base_numbering": 1,
   "nav_menu": {},
   "number_sections": true,
   "sideBar": true,
   "skip_h1_title": true,
   "title_cell": "Table of Contents",
   "title_sidebar": "Contents",
   "toc_cell": false,
   "toc_position": {},
   "toc_section_display": true,
   "toc_window_display": false
  }
 },
 "nbformat": 4,
 "nbformat_minor": 2
}
