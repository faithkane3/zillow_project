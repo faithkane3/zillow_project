{
 "cells": [
  {
   "cell_type": "markdown",
   "metadata": {},
   "source": [
    "## Estimate Home Values in Zillow\n",
    "\n",
    "Faith Kane\n",
    "10/18/2019"
   ]
  },
  {
   "cell_type": "markdown",
   "metadata": {},
   "source": [
    "### Goals:\n",
    "\n",
    "1. Use the fips numbers in the Zillow database to identify the locations of the properties I am examining.\n",
    "\n",
    "2. Use the tax amounts and actual home values to calculate and visualize the distribution of tax rates for each county I identify in my data. \n",
    "\n",
    "3. Build a linear regression model that predicts home values using three features: bedroom count, bathroom count, and square feet.\n",
    "\n",
    "4. Evaluate and compare the metrics from my train and test models to a baseline model that predicts home values using only the mean of all home values. I will use the $R2$ values of the models to decide if my linear regression model with the three identified features from above is able to make more accurate predictions.\n",
    "\n"
   ]
  },
  {
   "cell_type": "markdown",
   "metadata": {},
   "source": [
    "### Import Modules:"
   ]
  },
  {
   "cell_type": "code",
   "execution_count": 1,
   "metadata": {},
   "outputs": [],
   "source": [
    "import csv\n",
    "import pandas as pd\n",
    "import numpy as np\n",
    "from sklearn.linear_model import LinearRegression\n",
    "import statsmodels.api as sm\n",
    "from statsmodels.sandbox.regression.predstd import wls_prediction_std\n",
    "from sklearn.metrics import mean_squared_error,r2_score,explained_variance_score\n",
    "from math import sqrt\n",
    "import seaborn as sns\n",
    "import matplotlib.pyplot as plt\n",
    "# from IPython.core.interactiveshell import InteractiveShell\n",
    "# InteractiveShell.ast_node_interactivity = \"all\"\n",
    "from scipy import stats\n",
    "import warnings\n",
    "warnings.filterwarnings(\"ignore\")\n",
    "\n",
    "\n",
    "import env\n",
    "import util\n",
    "import wrangle_zillow\n",
    "import split_scale_zillow\n",
    "import features_zillow\n",
    "import model_zillow\n",
    "import explore_zillow\n",
    "import evaluate"
   ]
  },
  {
   "cell_type": "markdown",
   "metadata": {},
   "source": [
    "#### Read In, Clean, and Transform the Data Using wrangle_zillow()\n",
    "\n",
    "-My function, wrangle_zillow, uses the SQL query I created to bring in data from the Zillow database, drop rows containing Null values, and set my columns to the appropriate data types.\n",
    "\n",
    "-My SQL query filtered the Zillow data to include only single unit residential properties whose last transactions were in the months of May and June in 2017. I also filtered out any rows that had a value of zero for bedroomcnt or bathroomcnt which gave me a row count of 15,947.\n",
    "\n",
    "-I adjusted my SQL query to filter out any rows that had a value below one or above six for bedrooms or a value below one or above five for bathrooms which gave me a total of 15,722 rows to work with in my models. I based my decision for the upper bounds on bedrooms and bathrooms on the equation Q3 + 1.5 * IQR. However, when I ran my models, the $R^2$ scores went down by more than ten percent, so I decided to leave in the outliers and use my original SQL query from above."
   ]
  },
  {
   "cell_type": "code",
   "execution_count": 2,
   "metadata": {},
   "outputs": [],
   "source": [
    "df = wrangle_zillow.wrangle_zillow()"
   ]
  },
  {
   "cell_type": "markdown",
   "metadata": {},
   "source": [
    "#### Summarize the Data Using tell_me_about(df)\n",
    "\n",
    "-My function, tell_me_about(df), allows me to view important descriptive information about my data before I begin to work with it. "
   ]
  },
  {
   "cell_type": "code",
   "execution_count": 3,
   "metadata": {},
   "outputs": [
    {
     "name": "stdout",
     "output_type": "stream",
     "text": [
      "DataFrame Shape:\n",
      "\n",
      "(15947, 8)\n",
      "\n",
      "Info about:\n",
      "\n",
      "<class 'pandas.core.frame.DataFrame'>\n",
      "Int64Index: 15947 entries, 0 to 15955\n",
      "Data columns (total 8 columns):\n",
      "bedrooms               15947 non-null float64\n",
      "bathrooms              15947 non-null float64\n",
      "square_feet            15947 non-null int64\n",
      "taxes                  15947 non-null float64\n",
      "home_value             15947 non-null float64\n",
      "propertylandusedesc    15947 non-null category\n",
      "fips_number            15947 non-null int64\n",
      "zip_code               15947 non-null category\n",
      "dtypes: category(2), float64(4), int64(2)\n",
      "memory usage: 931.8 KB\n",
      "None\n",
      "\n",
      "Describe:\n",
      "\n",
      "           bedrooms     bathrooms   square_feet          taxes    home_value  \\\n",
      "count  15947.000000  15947.000000  15947.000000   15947.000000  1.594700e+04   \n",
      "mean       3.253026      2.215213   1836.276729    5680.471976  4.632920e+05   \n",
      "std        0.949431      1.025248    980.727638    7466.513817  6.434062e+05   \n",
      "min        1.000000      1.000000    320.000000      49.180000  1.216800e+04   \n",
      "25%        3.000000      2.000000   1233.000000    2496.250000  1.820165e+05   \n",
      "50%        3.000000      2.000000   1592.000000    4065.120000  3.204690e+05   \n",
      "75%        4.000000      3.000000   2162.500000    6408.970000  5.284255e+05   \n",
      "max       25.000000     20.000000  26345.000000  228999.210000  1.912982e+07   \n",
      "\n",
      "        fips_number  \n",
      "count  15947.000000  \n",
      "mean    6044.484417  \n",
      "std       17.278945  \n",
      "min     6037.000000  \n",
      "25%     6037.000000  \n",
      "50%     6037.000000  \n",
      "75%     6037.000000  \n",
      "max     6111.000000  \n",
      "\n",
      "Preview:\n",
      "\n",
      "   bedrooms  bathrooms  square_feet     taxes  home_value  \\\n",
      "0       4.0        2.0         1604   6089.82    498347.0   \n",
      "1       3.0        3.0         2384   6679.55    549917.0   \n",
      "2       3.0        2.0         1574   3876.31    235272.0   \n",
      "3       2.0        2.0         1619   4206.15    340000.0   \n",
      "4       2.0        3.0         2408  24353.42   2017254.0   \n",
      "\n",
      "         propertylandusedesc  fips_number zip_code  \n",
      "0  Single Family Residential         6037  96415.0  \n",
      "1  Single Family Residential         6037  96452.0  \n",
      "2  Single Family Residential         6037  97319.0  \n",
      "3  Single Family Residential         6037  97329.0  \n",
      "4  Single Family Residential         6037  96086.0  \n"
     ]
    }
   ],
   "source": [
    "util.tell_me_about(df)"
   ]
  },
  {
   "cell_type": "markdown",
   "metadata": {},
   "source": [
    "#### Create a Field that Calculates the Tax Rate:"
   ]
  },
  {
   "cell_type": "code",
   "execution_count": 4,
   "metadata": {},
   "outputs": [
    {
     "data": {
      "text/html": [
       "<div>\n",
       "<style scoped>\n",
       "    .dataframe tbody tr th:only-of-type {\n",
       "        vertical-align: middle;\n",
       "    }\n",
       "\n",
       "    .dataframe tbody tr th {\n",
       "        vertical-align: top;\n",
       "    }\n",
       "\n",
       "    .dataframe thead th {\n",
       "        text-align: right;\n",
       "    }\n",
       "</style>\n",
       "<table border=\"1\" class=\"dataframe\">\n",
       "  <thead>\n",
       "    <tr style=\"text-align: right;\">\n",
       "      <th></th>\n",
       "      <th>bedrooms</th>\n",
       "      <th>bathrooms</th>\n",
       "      <th>square_feet</th>\n",
       "      <th>taxes</th>\n",
       "      <th>home_value</th>\n",
       "      <th>propertylandusedesc</th>\n",
       "      <th>fips_number</th>\n",
       "      <th>zip_code</th>\n",
       "      <th>tax_rate</th>\n",
       "    </tr>\n",
       "  </thead>\n",
       "  <tbody>\n",
       "    <tr>\n",
       "      <th>0</th>\n",
       "      <td>4.0</td>\n",
       "      <td>2.0</td>\n",
       "      <td>1604</td>\n",
       "      <td>6089.82</td>\n",
       "      <td>498347.0</td>\n",
       "      <td>Single Family Residential</td>\n",
       "      <td>6037</td>\n",
       "      <td>96415.0</td>\n",
       "      <td>0.012220</td>\n",
       "    </tr>\n",
       "    <tr>\n",
       "      <th>1</th>\n",
       "      <td>3.0</td>\n",
       "      <td>3.0</td>\n",
       "      <td>2384</td>\n",
       "      <td>6679.55</td>\n",
       "      <td>549917.0</td>\n",
       "      <td>Single Family Residential</td>\n",
       "      <td>6037</td>\n",
       "      <td>96452.0</td>\n",
       "      <td>0.012146</td>\n",
       "    </tr>\n",
       "    <tr>\n",
       "      <th>2</th>\n",
       "      <td>3.0</td>\n",
       "      <td>2.0</td>\n",
       "      <td>1574</td>\n",
       "      <td>3876.31</td>\n",
       "      <td>235272.0</td>\n",
       "      <td>Single Family Residential</td>\n",
       "      <td>6037</td>\n",
       "      <td>97319.0</td>\n",
       "      <td>0.016476</td>\n",
       "    </tr>\n",
       "    <tr>\n",
       "      <th>3</th>\n",
       "      <td>2.0</td>\n",
       "      <td>2.0</td>\n",
       "      <td>1619</td>\n",
       "      <td>4206.15</td>\n",
       "      <td>340000.0</td>\n",
       "      <td>Single Family Residential</td>\n",
       "      <td>6037</td>\n",
       "      <td>97329.0</td>\n",
       "      <td>0.012371</td>\n",
       "    </tr>\n",
       "    <tr>\n",
       "      <th>4</th>\n",
       "      <td>2.0</td>\n",
       "      <td>3.0</td>\n",
       "      <td>2408</td>\n",
       "      <td>24353.42</td>\n",
       "      <td>2017254.0</td>\n",
       "      <td>Single Family Residential</td>\n",
       "      <td>6037</td>\n",
       "      <td>96086.0</td>\n",
       "      <td>0.012073</td>\n",
       "    </tr>\n",
       "  </tbody>\n",
       "</table>\n",
       "</div>"
      ],
      "text/plain": [
       "   bedrooms  bathrooms  square_feet     taxes  home_value  \\\n",
       "0       4.0        2.0         1604   6089.82    498347.0   \n",
       "1       3.0        3.0         2384   6679.55    549917.0   \n",
       "2       3.0        2.0         1574   3876.31    235272.0   \n",
       "3       2.0        2.0         1619   4206.15    340000.0   \n",
       "4       2.0        3.0         2408  24353.42   2017254.0   \n",
       "\n",
       "         propertylandusedesc  fips_number zip_code  tax_rate  \n",
       "0  Single Family Residential         6037  96415.0  0.012220  \n",
       "1  Single Family Residential         6037  96452.0  0.012146  \n",
       "2  Single Family Residential         6037  97319.0  0.016476  \n",
       "3  Single Family Residential         6037  97329.0  0.012371  \n",
       "4  Single Family Residential         6037  96086.0  0.012073  "
      ]
     },
     "execution_count": 4,
     "metadata": {},
     "output_type": "execute_result"
    }
   ],
   "source": [
    "df[\"tax_rate\"] = df[\"taxes\"] / df[\"home_value\"]\n",
    "df.head()"
   ]
  },
  {
   "cell_type": "markdown",
   "metadata": {},
   "source": [
    "#### Add the county name to the DataFrame based on the fips number."
   ]
  },
  {
   "cell_type": "code",
   "execution_count": 5,
   "metadata": {},
   "outputs": [
    {
     "data": {
      "text/html": [
       "<div>\n",
       "<style scoped>\n",
       "    .dataframe tbody tr th:only-of-type {\n",
       "        vertical-align: middle;\n",
       "    }\n",
       "\n",
       "    .dataframe tbody tr th {\n",
       "        vertical-align: top;\n",
       "    }\n",
       "\n",
       "    .dataframe thead th {\n",
       "        text-align: right;\n",
       "    }\n",
       "</style>\n",
       "<table border=\"1\" class=\"dataframe\">\n",
       "  <thead>\n",
       "    <tr style=\"text-align: right;\">\n",
       "      <th></th>\n",
       "      <th>bedrooms</th>\n",
       "      <th>bathrooms</th>\n",
       "      <th>square_feet</th>\n",
       "      <th>taxes</th>\n",
       "      <th>home_value</th>\n",
       "      <th>propertylandusedesc</th>\n",
       "      <th>fips_number</th>\n",
       "      <th>zip_code</th>\n",
       "      <th>tax_rate</th>\n",
       "      <th>county_name</th>\n",
       "    </tr>\n",
       "  </thead>\n",
       "  <tbody>\n",
       "    <tr>\n",
       "      <th>0</th>\n",
       "      <td>4.0</td>\n",
       "      <td>2.0</td>\n",
       "      <td>1604</td>\n",
       "      <td>6089.82</td>\n",
       "      <td>498347.0</td>\n",
       "      <td>Single Family Residential</td>\n",
       "      <td>6037</td>\n",
       "      <td>96415.0</td>\n",
       "      <td>0.012220</td>\n",
       "      <td>Los Angeles</td>\n",
       "    </tr>\n",
       "    <tr>\n",
       "      <th>1</th>\n",
       "      <td>3.0</td>\n",
       "      <td>3.0</td>\n",
       "      <td>2384</td>\n",
       "      <td>6679.55</td>\n",
       "      <td>549917.0</td>\n",
       "      <td>Single Family Residential</td>\n",
       "      <td>6037</td>\n",
       "      <td>96452.0</td>\n",
       "      <td>0.012146</td>\n",
       "      <td>Los Angeles</td>\n",
       "    </tr>\n",
       "    <tr>\n",
       "      <th>2</th>\n",
       "      <td>3.0</td>\n",
       "      <td>2.0</td>\n",
       "      <td>1574</td>\n",
       "      <td>3876.31</td>\n",
       "      <td>235272.0</td>\n",
       "      <td>Single Family Residential</td>\n",
       "      <td>6037</td>\n",
       "      <td>97319.0</td>\n",
       "      <td>0.016476</td>\n",
       "      <td>Los Angeles</td>\n",
       "    </tr>\n",
       "    <tr>\n",
       "      <th>3</th>\n",
       "      <td>2.0</td>\n",
       "      <td>2.0</td>\n",
       "      <td>1619</td>\n",
       "      <td>4206.15</td>\n",
       "      <td>340000.0</td>\n",
       "      <td>Single Family Residential</td>\n",
       "      <td>6037</td>\n",
       "      <td>97329.0</td>\n",
       "      <td>0.012371</td>\n",
       "      <td>Los Angeles</td>\n",
       "    </tr>\n",
       "    <tr>\n",
       "      <th>4</th>\n",
       "      <td>2.0</td>\n",
       "      <td>3.0</td>\n",
       "      <td>2408</td>\n",
       "      <td>24353.42</td>\n",
       "      <td>2017254.0</td>\n",
       "      <td>Single Family Residential</td>\n",
       "      <td>6037</td>\n",
       "      <td>96086.0</td>\n",
       "      <td>0.012073</td>\n",
       "      <td>Los Angeles</td>\n",
       "    </tr>\n",
       "  </tbody>\n",
       "</table>\n",
       "</div>"
      ],
      "text/plain": [
       "   bedrooms  bathrooms  square_feet     taxes  home_value  \\\n",
       "0       4.0        2.0         1604   6089.82    498347.0   \n",
       "1       3.0        3.0         2384   6679.55    549917.0   \n",
       "2       3.0        2.0         1574   3876.31    235272.0   \n",
       "3       2.0        2.0         1619   4206.15    340000.0   \n",
       "4       2.0        3.0         2408  24353.42   2017254.0   \n",
       "\n",
       "         propertylandusedesc  fips_number zip_code  tax_rate  county_name  \n",
       "0  Single Family Residential         6037  96415.0  0.012220  Los Angeles  \n",
       "1  Single Family Residential         6037  96452.0  0.012146  Los Angeles  \n",
       "2  Single Family Residential         6037  97319.0  0.016476  Los Angeles  \n",
       "3  Single Family Residential         6037  97329.0  0.012371  Los Angeles  \n",
       "4  Single Family Residential         6037  96086.0  0.012073  Los Angeles  "
      ]
     },
     "execution_count": 5,
     "metadata": {},
     "output_type": "execute_result"
    }
   ],
   "source": [
    "df[\"county_name\"] = df[\"fips_number\"].map({6037: \"Los Angeles\", 6059: \"Orange\", 6111: \"Ventura\"})\n",
    "df.head()"
   ]
  },
  {
   "cell_type": "markdown",
   "metadata": {},
   "source": [
    "#### Create Distributions of the Tax Rates by County:\n",
    "\n",
    "-I found the breakdown of fips_numbers at the USDA government site:\n",
    "    https://www.nrcs.usda.gov/wps/portal/nrcs/detail/national/home/?cid=nrcs143_013697\n",
    "    \n",
    "-Using the fips_numbers, I found that all three counties represented in my data are in the state of California; they are Los Angeles County, Orange County, and Ventura County.\n",
    "\n",
    "-I created dataframes to display the mean tax_rate for each county as well as the count of properties in each county."
   ]
  },
  {
   "cell_type": "code",
   "execution_count": 6,
   "metadata": {},
   "outputs": [
    {
     "data": {
      "text/html": [
       "<div>\n",
       "<style scoped>\n",
       "    .dataframe tbody tr th:only-of-type {\n",
       "        vertical-align: middle;\n",
       "    }\n",
       "\n",
       "    .dataframe tbody tr th {\n",
       "        vertical-align: top;\n",
       "    }\n",
       "\n",
       "    .dataframe thead th {\n",
       "        text-align: right;\n",
       "    }\n",
       "</style>\n",
       "<table border=\"1\" class=\"dataframe\">\n",
       "  <thead>\n",
       "    <tr style=\"text-align: right;\">\n",
       "      <th></th>\n",
       "      <th>tax_rate</th>\n",
       "    </tr>\n",
       "    <tr>\n",
       "      <th>county_name</th>\n",
       "      <th></th>\n",
       "    </tr>\n",
       "  </thead>\n",
       "  <tbody>\n",
       "    <tr>\n",
       "      <th>Los Angeles</th>\n",
       "      <td>0.013735</td>\n",
       "    </tr>\n",
       "    <tr>\n",
       "      <th>Orange</th>\n",
       "      <td>0.012111</td>\n",
       "    </tr>\n",
       "    <tr>\n",
       "      <th>Ventura</th>\n",
       "      <td>0.011499</td>\n",
       "    </tr>\n",
       "  </tbody>\n",
       "</table>\n",
       "</div>"
      ],
      "text/plain": [
       "             tax_rate\n",
       "county_name          \n",
       "Los Angeles  0.013735\n",
       "Orange       0.012111\n",
       "Ventura      0.011499"
      ]
     },
     "execution_count": 6,
     "metadata": {},
     "output_type": "execute_result"
    }
   ],
   "source": [
    "county_mean_tax_rate = pd.DataFrame(df.groupby(\"county_name\").tax_rate.mean())\n",
    "county_mean_tax_rate"
   ]
  },
  {
   "cell_type": "code",
   "execution_count": 7,
   "metadata": {},
   "outputs": [
    {
     "data": {
      "text/html": [
       "<div>\n",
       "<style scoped>\n",
       "    .dataframe tbody tr th:only-of-type {\n",
       "        vertical-align: middle;\n",
       "    }\n",
       "\n",
       "    .dataframe tbody tr th {\n",
       "        vertical-align: top;\n",
       "    }\n",
       "\n",
       "    .dataframe thead th {\n",
       "        text-align: right;\n",
       "    }\n",
       "</style>\n",
       "<table border=\"1\" class=\"dataframe\">\n",
       "  <thead>\n",
       "    <tr style=\"text-align: right;\">\n",
       "      <th></th>\n",
       "      <th>county_name</th>\n",
       "    </tr>\n",
       "    <tr>\n",
       "      <th>county_name</th>\n",
       "      <th></th>\n",
       "    </tr>\n",
       "  </thead>\n",
       "  <tbody>\n",
       "    <tr>\n",
       "      <th>Los Angeles</th>\n",
       "      <td>12382</td>\n",
       "    </tr>\n",
       "    <tr>\n",
       "      <th>Orange</th>\n",
       "      <td>2778</td>\n",
       "    </tr>\n",
       "    <tr>\n",
       "      <th>Ventura</th>\n",
       "      <td>787</td>\n",
       "    </tr>\n",
       "  </tbody>\n",
       "</table>\n",
       "</div>"
      ],
      "text/plain": [
       "             county_name\n",
       "county_name             \n",
       "Los Angeles        12382\n",
       "Orange              2778\n",
       "Ventura              787"
      ]
     },
     "execution_count": 7,
     "metadata": {},
     "output_type": "execute_result"
    }
   ],
   "source": [
    "county_count = pd.DataFrame(df.groupby(\"county_name\").county_name.count())\n",
    "county_count"
   ]
  },
  {
   "cell_type": "code",
   "execution_count": 8,
   "metadata": {},
   "outputs": [
    {
     "data": {
      "text/plain": [
       "Text(0.5, 1.0, 'Ventura County Tax Distribution')"
      ]
     },
     "execution_count": 8,
     "metadata": {},
     "output_type": "execute_result"
    },
    {
     "data": {
      "image/png": "[encoded data removed]",
      "text/plain": [
       "<Figure size 1152x576 with 3 Axes>"
      ]
     },
     "metadata": {
      "needs_background": "light"
     },
     "output_type": "display_data"
    }
   ],
   "source": [
    "los_angeles_tax_dist = df[df.county_name == \"Los Angeles\"].tax_rate\n",
    "orange_tax_dist = df[df.county_name == \"Orange\"].tax_rate\n",
    "ventura_tax_dist = df[df.county_name == \"Ventura\"].tax_rate\n",
    "\n",
    "plt.figure(figsize=(16,8))\n",
    "plt.subplot(1,3,1)\n",
    "sns.distplot(los_angeles_tax_dist, bins=50, kde=True, rug=True)\n",
    "plt.xlim(0, .10)\n",
    "plt.ylim(0, 600)\n",
    "plt.title(\"Los Angeles County Tax Distribution\")\n",
    "plt.subplot(1,3,2)\n",
    "sns.distplot(orange_tax_dist, bins=50, kde=True, rug=True)\n",
    "plt.xlim(0, .10)\n",
    "plt.ylim(0, 600)\n",
    "plt.title(\"Orange County Tax Distribution\")\n",
    "plt.subplot(1,3,3)\n",
    "sns.distplot(ventura_tax_dist, bins=50, kde=True, rug=True)\n",
    "plt.xlim(0, .10)\n",
    "plt.ylim(0, 600)\n",
    "plt.title(\"Ventura County Tax Distribution\")"
   ]
  },
  {
   "cell_type": "markdown",
   "metadata": {},
   "source": [
    "#### Split the Data Using split_my_data(df) and Assign Features (x) and Target (y)\n",
    "\n",
    "-I split my data using a function I created that creates a train set using 80% of the data and a test set using 20%. I used the random seed \"123\" in splitting my data.\n",
    "\n",
    "-The features I am using to predict \"taxvaluedollarcnt\"in my x_train and x_test dataframes are the \"bedroomcnt\", \"bathroomcnt\", and \"calculatedfinishedsquarefeet\" fields from the Zillow database.\n",
    "\n",
    "-The feature I am using to predict \"taxvaluedollarcnt\" in my s_train and s_test dataframes is \"calculatedfinishedsquarefeet\" from the Zillow database."
   ]
  },
  {
   "cell_type": "code",
   "execution_count": 9,
   "metadata": {},
   "outputs": [],
   "source": [
    "train, test = split_scale_zillow.split_my_data(df)"
   ]
  },
  {
   "cell_type": "markdown",
   "metadata": {},
   "source": [
    "#####  Assign x_train x_test to the three features of bedrooms, bathrooms, and square feet and y_train and y_test to the target of home_value"
   ]
  },
  {
   "cell_type": "code",
   "execution_count": 10,
   "metadata": {},
   "outputs": [],
   "source": [
    "x_train = train[[\"bedrooms\", \"bathrooms\", \"square_feet\"]]\n",
    "y_train = train[[\"home_value\"]]\n",
    "x_test = test[[\"bedrooms\", \"bathrooms\", \"square_feet\"]]\n",
    "y_test = test[[\"home_value\"]]"
   ]
  },
  {
   "cell_type": "markdown",
   "metadata": {},
   "source": [
    "#####  Assign sbd_train sbd_test to the features of square feet and bedrooms"
   ]
  },
  {
   "cell_type": "code",
   "execution_count": 11,
   "metadata": {},
   "outputs": [],
   "source": [
    "sbd_train = train[[\"square_feet\", \"bedrooms\"]]\n",
    "sbd_test = test[[\"square_feet\", \"bedrooms\"]]"
   ]
  },
  {
   "cell_type": "markdown",
   "metadata": {},
   "source": [
    "#####  Assign sbt_train sbt_test to the features of square feet and bathrooms"
   ]
  },
  {
   "cell_type": "code",
   "execution_count": 12,
   "metadata": {},
   "outputs": [],
   "source": [
    "sbt_train = train[[\"square_feet\", \"bathrooms\"]]\n",
    "sbt_test = test[[\"square_feet\", \"bathrooms\"]]"
   ]
  },
  {
   "cell_type": "markdown",
   "metadata": {},
   "source": [
    "#### Scale the Data Using the IQR Robust Scaler\n",
    "\n",
    "-I used the iqr_robust_scaler to scale my x_train and x_test, sbd_train and sbd_test, and sbt_train and sbt_test data because it scales features using stats that are robust to outliers by removing the median and scaling data to the IQR.\n",
    "\n",
    "-I will use these scaled data sets when I get into feature selection. I will create my model using the features that return the highest $R^2$ scores from my Recursive Feature Elimination function."
   ]
  },
  {
   "cell_type": "code",
   "execution_count": 13,
   "metadata": {},
   "outputs": [],
   "source": [
    "scaler, x_train_scaled, x_test_scaled = split_scale_zillow.iqr_robust_scaler(x_train, x_test)"
   ]
  },
  {
   "cell_type": "code",
   "execution_count": 14,
   "metadata": {},
   "outputs": [],
   "source": [
    "scaler, sbd_train_scaled, sbd_test_scaled = split_scale_zillow.iqr_robust_scaler(sbd_train, sbd_test)"
   ]
  },
  {
   "cell_type": "code",
   "execution_count": 15,
   "metadata": {},
   "outputs": [],
   "source": [
    "scaler, sbt_train_scaled, sbt_test_scaled = split_scale_zillow.iqr_robust_scaler(sbt_train, sbt_test)"
   ]
  },
  {
   "cell_type": "markdown",
   "metadata": {},
   "source": [
    "#### Explore the Data: \n",
    "\n",
    "-I used two Pair Grid Plots to visualize the relationships between features. The first one plots the features along with the regression line.\n",
    "\n",
    "-I used a heatmap with annotations to see the correlations between different features and the target value. Taxes is almost a perfect correlation, but that would be using a feature that was calculated using the target to predict the target, or in other words, using the future to predict the future. That is not an eligible feature to make predictions.\n",
    "\n",
    "-The highest correlation is between square_feet and home_value at .64. The second highest is between bathrooms and home_value at .54 and third highest between bedrooms and home_value at .28. Those are the three features I will use to predict the target of home_value."
   ]
  },
  {
   "cell_type": "code",
   "execution_count": 16,
   "metadata": {},
   "outputs": [
    {
     "data": {
      "image/png": "[encoded data removed]",
      "text/plain": [
       "<Figure size 540x540 with 9 Axes>"
      ]
     },
     "metadata": {
      "needs_background": "light"
     },
     "output_type": "display_data"
    }
   ],
   "source": [
    "explore_zillow.plot_variable_pairs(x_train_scaled)"
   ]
  },
  {
   "cell_type": "code",
   "execution_count": 17,
   "metadata": {},
   "outputs": [],
   "source": [
    "# g = sns.PairGrid(x_train_scaled)\n",
    "# g.map_diag(sns.kdeplot)\n",
    "# g.map_offdiag(sns.kdeplot, n_levels=6);"
   ]
  },
  {
   "cell_type": "markdown",
   "metadata": {},
   "source": [
    "#### Correlation Test:\n",
    "\n",
    "-I created a heat map and computed pairwise correlation of the columns in my dataframe.\n",
    "\n",
    "-The heatmap shows what the chart below it displays. "
   ]
  },
  {
   "cell_type": "code",
   "execution_count": 18,
   "metadata": {},
   "outputs": [
    {
     "data": {
      "text/plain": [
       "(0, 7)"
      ]
     },
     "execution_count": 18,
     "metadata": {},
     "output_type": "execute_result"
    },
    {
     "data": {
      "image/png": "[encoded data removed]",
      "text/plain": [
       "<Figure size 576x432 with 2 Axes>"
      ]
     },
     "metadata": {
      "needs_background": "light"
     },
     "output_type": "display_data"
    }
   ],
   "source": [
    "plt.figure(figsize=(8,6))\n",
    "sns.heatmap(train.corr(), cmap='Blues', annot=True)\n",
    "plt.ylim(0, 7)"
   ]
  },
  {
   "cell_type": "code",
   "execution_count": 19,
   "metadata": {},
   "outputs": [
    {
     "data": {
      "text/html": [
       "<div>\n",
       "<style scoped>\n",
       "    .dataframe tbody tr th:only-of-type {\n",
       "        vertical-align: middle;\n",
       "    }\n",
       "\n",
       "    .dataframe tbody tr th {\n",
       "        vertical-align: top;\n",
       "    }\n",
       "\n",
       "    .dataframe thead th {\n",
       "        text-align: right;\n",
       "    }\n",
       "</style>\n",
       "<table border=\"1\" class=\"dataframe\">\n",
       "  <thead>\n",
       "    <tr style=\"text-align: right;\">\n",
       "      <th></th>\n",
       "      <th>bedrooms</th>\n",
       "      <th>bathrooms</th>\n",
       "      <th>square_feet</th>\n",
       "      <th>taxes</th>\n",
       "      <th>home_value</th>\n",
       "      <th>fips_number</th>\n",
       "      <th>tax_rate</th>\n",
       "    </tr>\n",
       "  </thead>\n",
       "  <tbody>\n",
       "    <tr>\n",
       "      <th>bedrooms</th>\n",
       "      <td>1.000000</td>\n",
       "      <td>0.657402</td>\n",
       "      <td>0.621797</td>\n",
       "      <td>0.272215</td>\n",
       "      <td>0.279147</td>\n",
       "      <td>0.130339</td>\n",
       "      <td>-0.090935</td>\n",
       "    </tr>\n",
       "    <tr>\n",
       "      <th>bathrooms</th>\n",
       "      <td>0.657402</td>\n",
       "      <td>1.000000</td>\n",
       "      <td>0.846623</td>\n",
       "      <td>0.519509</td>\n",
       "      <td>0.535530</td>\n",
       "      <td>0.088470</td>\n",
       "      <td>-0.149872</td>\n",
       "    </tr>\n",
       "    <tr>\n",
       "      <th>square_feet</th>\n",
       "      <td>0.621797</td>\n",
       "      <td>0.846623</td>\n",
       "      <td>1.000000</td>\n",
       "      <td>0.611819</td>\n",
       "      <td>0.638991</td>\n",
       "      <td>0.092985</td>\n",
       "      <td>-0.162766</td>\n",
       "    </tr>\n",
       "    <tr>\n",
       "      <th>taxes</th>\n",
       "      <td>0.272215</td>\n",
       "      <td>0.519509</td>\n",
       "      <td>0.611819</td>\n",
       "      <td>1.000000</td>\n",
       "      <td>0.977952</td>\n",
       "      <td>-0.007645</td>\n",
       "      <td>-0.143307</td>\n",
       "    </tr>\n",
       "    <tr>\n",
       "      <th>home_value</th>\n",
       "      <td>0.279147</td>\n",
       "      <td>0.535530</td>\n",
       "      <td>0.638991</td>\n",
       "      <td>0.977952</td>\n",
       "      <td>1.000000</td>\n",
       "      <td>0.018059</td>\n",
       "      <td>-0.208675</td>\n",
       "    </tr>\n",
       "    <tr>\n",
       "      <th>fips_number</th>\n",
       "      <td>0.130339</td>\n",
       "      <td>0.088470</td>\n",
       "      <td>0.092985</td>\n",
       "      <td>-0.007645</td>\n",
       "      <td>0.018059</td>\n",
       "      <td>1.000000</td>\n",
       "      <td>-0.177635</td>\n",
       "    </tr>\n",
       "    <tr>\n",
       "      <th>tax_rate</th>\n",
       "      <td>-0.090935</td>\n",
       "      <td>-0.149872</td>\n",
       "      <td>-0.162766</td>\n",
       "      <td>-0.143307</td>\n",
       "      <td>-0.208675</td>\n",
       "      <td>-0.177635</td>\n",
       "      <td>1.000000</td>\n",
       "    </tr>\n",
       "  </tbody>\n",
       "</table>\n",
       "</div>"
      ],
      "text/plain": [
       "             bedrooms  bathrooms  square_feet     taxes  home_value  \\\n",
       "bedrooms     1.000000   0.657402     0.621797  0.272215    0.279147   \n",
       "bathrooms    0.657402   1.000000     0.846623  0.519509    0.535530   \n",
       "square_feet  0.621797   0.846623     1.000000  0.611819    0.638991   \n",
       "taxes        0.272215   0.519509     0.611819  1.000000    0.977952   \n",
       "home_value   0.279147   0.535530     0.638991  0.977952    1.000000   \n",
       "fips_number  0.130339   0.088470     0.092985 -0.007645    0.018059   \n",
       "tax_rate    -0.090935  -0.149872    -0.162766 -0.143307   -0.208675   \n",
       "\n",
       "             fips_number  tax_rate  \n",
       "bedrooms        0.130339 -0.090935  \n",
       "bathrooms       0.088470 -0.149872  \n",
       "square_feet     0.092985 -0.162766  \n",
       "taxes          -0.007645 -0.143307  \n",
       "home_value      0.018059 -0.208675  \n",
       "fips_number     1.000000 -0.177635  \n",
       "tax_rate       -0.177635  1.000000  "
      ]
     },
     "execution_count": 19,
     "metadata": {},
     "output_type": "execute_result"
    }
   ],
   "source": [
    "df.corr()"
   ]
  },
  {
   "cell_type": "markdown",
   "metadata": {},
   "source": [
    "#### Summary Metrics including T-Test"
   ]
  },
  {
   "cell_type": "code",
   "execution_count": 20,
   "metadata": {},
   "outputs": [
    {
     "data": {
      "text/html": [
       "<table class=\"simpletable\">\n",
       "<caption>OLS Regression Results</caption>\n",
       "<tr>\n",
       "  <th>Dep. Variable:</th>       <td>home_value</td>    <th>  R-squared (uncentered):</th>       <td>   0.425</td>  \n",
       "</tr>\n",
       "<tr>\n",
       "  <th>Model:</th>                   <td>OLS</td>       <th>  Adj. R-squared (uncentered):</th>  <td>   0.425</td>  \n",
       "</tr>\n",
       "<tr>\n",
       "  <th>Method:</th>             <td>Least Squares</td>  <th>  F-statistic:       </th>           <td>   3143.</td>  \n",
       "</tr>\n",
       "<tr>\n",
       "  <th>Date:</th>             <td>Sun, 20 Oct 2019</td> <th>  Prob (F-statistic):</th>            <td>  0.00</td>   \n",
       "</tr>\n",
       "<tr>\n",
       "  <th>Time:</th>                 <td>23:05:13</td>     <th>  Log-Likelihood:    </th>          <td>-1.8777e+05</td>\n",
       "</tr>\n",
       "<tr>\n",
       "  <th>No. Observations:</th>      <td> 12757</td>      <th>  AIC:               </th>           <td>3.756e+05</td> \n",
       "</tr>\n",
       "<tr>\n",
       "  <th>Df Residuals:</th>          <td> 12754</td>      <th>  BIC:               </th>           <td>3.756e+05</td> \n",
       "</tr>\n",
       "<tr>\n",
       "  <th>Df Model:</th>              <td>     3</td>      <th>                     </th>               <td> </td>     \n",
       "</tr>\n",
       "<tr>\n",
       "  <th>Covariance Type:</th>      <td>nonrobust</td>    <th>                     </th>               <td> </td>     \n",
       "</tr>\n",
       "</table>\n",
       "<table class=\"simpletable\">\n",
       "<tr>\n",
       "       <td></td>          <th>coef</th>     <th>std err</th>      <th>t</th>      <th>P>|t|</th>  <th>[0.025</th>    <th>0.975]</th>  \n",
       "</tr>\n",
       "<tr>\n",
       "  <th>bedrooms</th>    <td>-7.121e+04</td> <td> 7389.844</td> <td>   -9.636</td> <td> 0.000</td> <td>-8.57e+04</td> <td>-5.67e+04</td>\n",
       "</tr>\n",
       "<tr>\n",
       "  <th>bathrooms</th>   <td> 1.217e+04</td> <td> 1.03e+04</td> <td>    1.188</td> <td> 0.235</td> <td>-7918.957</td> <td> 3.23e+04</td>\n",
       "</tr>\n",
       "<tr>\n",
       "  <th>square_feet</th> <td> 4.952e+05</td> <td> 9465.578</td> <td>   52.314</td> <td> 0.000</td> <td> 4.77e+05</td> <td> 5.14e+05</td>\n",
       "</tr>\n",
       "</table>\n",
       "<table class=\"simpletable\">\n",
       "<tr>\n",
       "  <th>Omnibus:</th>       <td>16139.417</td> <th>  Durbin-Watson:     </th>  <td>   1.332</td>  \n",
       "</tr>\n",
       "<tr>\n",
       "  <th>Prob(Omnibus):</th>  <td> 0.000</td>   <th>  Jarque-Bera (JB):  </th> <td>8778428.488</td>\n",
       "</tr>\n",
       "<tr>\n",
       "  <th>Skew:</th>           <td> 6.491</td>   <th>  Prob(JB):          </th>  <td>    0.00</td>  \n",
       "</tr>\n",
       "<tr>\n",
       "  <th>Kurtosis:</th>       <td>130.853</td>  <th>  Cond. No.          </th>  <td>    4.07</td>  \n",
       "</tr>\n",
       "</table><br/><br/>Warnings:<br/>[1] Standard Errors assume that the covariance matrix of the errors is correctly specified."
      ],
      "text/plain": [
       "<class 'statsmodels.iolib.summary.Summary'>\n",
       "\"\"\"\n",
       "                                 OLS Regression Results                                \n",
       "=======================================================================================\n",
       "Dep. Variable:             home_value   R-squared (uncentered):                   0.425\n",
       "Model:                            OLS   Adj. R-squared (uncentered):              0.425\n",
       "Method:                 Least Squares   F-statistic:                              3143.\n",
       "Date:                Sun, 20 Oct 2019   Prob (F-statistic):                        0.00\n",
       "Time:                        23:05:13   Log-Likelihood:                     -1.8777e+05\n",
       "No. Observations:               12757   AIC:                                  3.756e+05\n",
       "Df Residuals:                   12754   BIC:                                  3.756e+05\n",
       "Df Model:                           3                                                  \n",
       "Covariance Type:            nonrobust                                                  \n",
       "===============================================================================\n",
       "                  coef    std err          t      P>|t|      [0.025      0.975]\n",
       "-------------------------------------------------------------------------------\n",
       "bedrooms    -7.121e+04   7389.844     -9.636      0.000   -8.57e+04   -5.67e+04\n",
       "bathrooms    1.217e+04   1.03e+04      1.188      0.235   -7918.957    3.23e+04\n",
       "square_feet  4.952e+05   9465.578     52.314      0.000    4.77e+05    5.14e+05\n",
       "==============================================================================\n",
       "Omnibus:                    16139.417   Durbin-Watson:                   1.332\n",
       "Prob(Omnibus):                  0.000   Jarque-Bera (JB):          8778428.488\n",
       "Skew:                           6.491   Prob(JB):                         0.00\n",
       "Kurtosis:                     130.853   Cond. No.                         4.07\n",
       "==============================================================================\n",
       "\n",
       "Warnings:\n",
       "[1] Standard Errors assume that the covariance matrix of the errors is correctly specified.\n",
       "\"\"\""
      ]
     },
     "execution_count": 20,
     "metadata": {},
     "output_type": "execute_result"
    }
   ],
   "source": [
    "ols_model = sm.OLS(y_train, x_train_scaled).fit()\n",
    "ols_model.summary()"
   ]
  },
  {
   "cell_type": "code",
   "execution_count": 21,
   "metadata": {},
   "outputs": [
    {
     "name": "stdout",
     "output_type": "stream",
     "text": [
      "R2 = 0.4250609371600932\n",
      "p_value = 0.0\n"
     ]
    }
   ],
   "source": [
    "R2, p_value = evaluate.model_significance(ols_model)\n",
    "print(f\"R2 = {R2}\")\n",
    "print(f\"p_value = {p_value}\")"
   ]
  },
  {
   "cell_type": "code",
   "execution_count": 22,
   "metadata": {},
   "outputs": [
    {
     "data": {
      "text/html": [
       "<table class=\"simpletable\">\n",
       "<caption>OLS Regression Results</caption>\n",
       "<tr>\n",
       "  <th>Dep. Variable:</th>       <td>home_value</td>    <th>  R-squared (uncentered):</th>      <td>   0.408</td> \n",
       "</tr>\n",
       "<tr>\n",
       "  <th>Model:</th>                   <td>OLS</td>       <th>  Adj. R-squared (uncentered):</th> <td>   0.407</td> \n",
       "</tr>\n",
       "<tr>\n",
       "  <th>Method:</th>             <td>Least Squares</td>  <th>  F-statistic:       </th>          <td>   732.0</td> \n",
       "</tr>\n",
       "<tr>\n",
       "  <th>Date:</th>             <td>Sun, 20 Oct 2019</td> <th>  Prob (F-statistic):</th>           <td>  0.00</td>  \n",
       "</tr>\n",
       "<tr>\n",
       "  <th>Time:</th>                 <td>23:05:13</td>     <th>  Log-Likelihood:    </th>          <td> -47100.</td> \n",
       "</tr>\n",
       "<tr>\n",
       "  <th>No. Observations:</th>      <td>  3190</td>      <th>  AIC:               </th>          <td>9.421e+04</td>\n",
       "</tr>\n",
       "<tr>\n",
       "  <th>Df Residuals:</th>          <td>  3187</td>      <th>  BIC:               </th>          <td>9.422e+04</td>\n",
       "</tr>\n",
       "<tr>\n",
       "  <th>Df Model:</th>              <td>     3</td>      <th>                     </th>              <td> </td>    \n",
       "</tr>\n",
       "<tr>\n",
       "  <th>Covariance Type:</th>      <td>nonrobust</td>    <th>                     </th>              <td> </td>    \n",
       "</tr>\n",
       "</table>\n",
       "<table class=\"simpletable\">\n",
       "<tr>\n",
       "       <td></td>          <th>coef</th>     <th>std err</th>      <th>t</th>      <th>P>|t|</th>  <th>[0.025</th>    <th>0.975]</th>  \n",
       "</tr>\n",
       "<tr>\n",
       "  <th>bedrooms</th>    <td>-5.904e+04</td> <td> 1.58e+04</td> <td>   -3.748</td> <td> 0.000</td> <td>-8.99e+04</td> <td>-2.82e+04</td>\n",
       "</tr>\n",
       "<tr>\n",
       "  <th>bathrooms</th>   <td> 1.232e+04</td> <td> 2.09e+04</td> <td>    0.588</td> <td> 0.556</td> <td>-2.87e+04</td> <td> 5.34e+04</td>\n",
       "</tr>\n",
       "<tr>\n",
       "  <th>square_feet</th> <td> 4.976e+05</td> <td> 1.91e+04</td> <td>   26.077</td> <td> 0.000</td> <td>  4.6e+05</td> <td> 5.35e+05</td>\n",
       "</tr>\n",
       "</table>\n",
       "<table class=\"simpletable\">\n",
       "<tr>\n",
       "  <th>Omnibus:</th>       <td>4641.668</td> <th>  Durbin-Watson:     </th>  <td>   1.405</td>  \n",
       "</tr>\n",
       "<tr>\n",
       "  <th>Prob(Omnibus):</th>  <td> 0.000</td>  <th>  Jarque-Bera (JB):  </th> <td>4321550.635</td>\n",
       "</tr>\n",
       "<tr>\n",
       "  <th>Skew:</th>           <td> 8.212</td>  <th>  Prob(JB):          </th>  <td>    0.00</td>  \n",
       "</tr>\n",
       "<tr>\n",
       "  <th>Kurtosis:</th>       <td>182.565</td> <th>  Cond. No.          </th>  <td>    3.85</td>  \n",
       "</tr>\n",
       "</table><br/><br/>Warnings:<br/>[1] Standard Errors assume that the covariance matrix of the errors is correctly specified."
      ],
      "text/plain": [
       "<class 'statsmodels.iolib.summary.Summary'>\n",
       "\"\"\"\n",
       "                                 OLS Regression Results                                \n",
       "=======================================================================================\n",
       "Dep. Variable:             home_value   R-squared (uncentered):                   0.408\n",
       "Model:                            OLS   Adj. R-squared (uncentered):              0.407\n",
       "Method:                 Least Squares   F-statistic:                              732.0\n",
       "Date:                Sun, 20 Oct 2019   Prob (F-statistic):                        0.00\n",
       "Time:                        23:05:13   Log-Likelihood:                         -47100.\n",
       "No. Observations:                3190   AIC:                                  9.421e+04\n",
       "Df Residuals:                    3187   BIC:                                  9.422e+04\n",
       "Df Model:                           3                                                  \n",
       "Covariance Type:            nonrobust                                                  \n",
       "===============================================================================\n",
       "                  coef    std err          t      P>|t|      [0.025      0.975]\n",
       "-------------------------------------------------------------------------------\n",
       "bedrooms    -5.904e+04   1.58e+04     -3.748      0.000   -8.99e+04   -2.82e+04\n",
       "bathrooms    1.232e+04   2.09e+04      0.588      0.556   -2.87e+04    5.34e+04\n",
       "square_feet  4.976e+05   1.91e+04     26.077      0.000     4.6e+05    5.35e+05\n",
       "==============================================================================\n",
       "Omnibus:                     4641.668   Durbin-Watson:                   1.405\n",
       "Prob(Omnibus):                  0.000   Jarque-Bera (JB):          4321550.635\n",
       "Skew:                           8.212   Prob(JB):                         0.00\n",
       "Kurtosis:                     182.565   Cond. No.                         3.85\n",
       "==============================================================================\n",
       "\n",
       "Warnings:\n",
       "[1] Standard Errors assume that the covariance matrix of the errors is correctly specified.\n",
       "\"\"\""
      ]
     },
     "execution_count": 22,
     "metadata": {},
     "output_type": "execute_result"
    }
   ],
   "source": [
    "ols_model_test = sm.OLS(y_test, x_test_scaled).fit()\n",
    "ols_model_test.summary()"
   ]
  },
  {
   "cell_type": "code",
   "execution_count": 23,
   "metadata": {},
   "outputs": [
    {
     "name": "stdout",
     "output_type": "stream",
     "text": [
      "R2 = 0.4250609371600932\n",
      "p_value = 0.0\n"
     ]
    }
   ],
   "source": [
    "R2_test, p_value_test = evaluate.model_significance(ols_model_test)\n",
    "print(f\"R2 = {R2}\")\n",
    "print(f\"p_value = {p_value}\")"
   ]
  },
  {
   "cell_type": "markdown",
   "metadata": {},
   "source": [
    "#### Feature Selection:\n",
    "\n",
    "-I used my function optimal_number_of_features function to find out the optimal number of features to feed into my Linear Regression model and the $R^2$ value using those features. The recommendation was that the three features together would predict my target value with a $R^2$ of .4406.\n",
    "\n",
    "-Using the three features together rather than the other combinations I tried below, square_feet and bathrooms or square_feet and bedrooms, returned the highest $R^2$ value, and thus is the combination of features I will use in my Linear Regression model to predict home values.\n"
   ]
  },
  {
   "cell_type": "code",
   "execution_count": 24,
   "metadata": {},
   "outputs": [
    {
     "data": {
      "text/plain": [
       "(3, 0.4406039047470966)"
      ]
     },
     "execution_count": 24,
     "metadata": {},
     "output_type": "execute_result"
    }
   ],
   "source": [
    "features_zillow.optimal_number_of_features(x_train_scaled, y_train)"
   ]
  },
  {
   "cell_type": "code",
   "execution_count": 25,
   "metadata": {},
   "outputs": [
    {
     "data": {
      "text/plain": [
       "(2, 0.4393605165369422)"
      ]
     },
     "execution_count": 25,
     "metadata": {},
     "output_type": "execute_result"
    }
   ],
   "source": [
    "features_zillow.optimal_number_of_features(sbd_train_scaled, y_train)"
   ]
  },
  {
   "cell_type": "code",
   "execution_count": 26,
   "metadata": {},
   "outputs": [
    {
     "data": {
      "text/plain": [
       "(2, 0.4160258684955639)"
      ]
     },
     "execution_count": 26,
     "metadata": {},
     "output_type": "execute_result"
    }
   ],
   "source": [
    "features_zillow.optimal_number_of_features(sbt_train_scaled, y_train)"
   ]
  },
  {
   "cell_type": "markdown",
   "metadata": {},
   "source": [
    "#### Model:  Create Linear Regression Models Using modeling_function()\n",
    "\n",
    "-I used my modeling_function() to create a dataframe containing the actual home values, the predictions made by my Linear Regression Model 1, lm1, that used the original three features of bedrooms (bedroomcnt), bathrooms (bathroomcnt), and square_feet (calculatedfinishedsquarefeet) to predict the target home values (taxvaluedollarcnt), and the baseline or mean of all target home values.\n",
    "\n",
    "-I ran my Linear Regression Model with the test set of my data, lm1_test, that predicted the target home values in the same manner as above. I created a predictions_test DataFrame that holds the actual home values from my test set, the predictions, and the baseline."
   ]
  },
  {
   "cell_type": "code",
   "execution_count": 27,
   "metadata": {},
   "outputs": [
    {
     "data": {
      "text/html": [
       "<div>\n",
       "<style scoped>\n",
       "    .dataframe tbody tr th:only-of-type {\n",
       "        vertical-align: middle;\n",
       "    }\n",
       "\n",
       "    .dataframe tbody tr th {\n",
       "        vertical-align: top;\n",
       "    }\n",
       "\n",
       "    .dataframe thead th {\n",
       "        text-align: right;\n",
       "    }\n",
       "</style>\n",
       "<table border=\"1\" class=\"dataframe\">\n",
       "  <thead>\n",
       "    <tr style=\"text-align: right;\">\n",
       "      <th></th>\n",
       "      <th>actual</th>\n",
       "      <th>lm1</th>\n",
       "      <th>lm_baseline</th>\n",
       "    </tr>\n",
       "  </thead>\n",
       "  <tbody>\n",
       "    <tr>\n",
       "      <th>0</th>\n",
       "      <td>1252995.0</td>\n",
       "      <td>885428.134588</td>\n",
       "      <td>461061.036921</td>\n",
       "    </tr>\n",
       "    <tr>\n",
       "      <th>1</th>\n",
       "      <td>192960.0</td>\n",
       "      <td>279014.832467</td>\n",
       "      <td>461061.036921</td>\n",
       "    </tr>\n",
       "    <tr>\n",
       "      <th>2</th>\n",
       "      <td>616795.0</td>\n",
       "      <td>753196.413153</td>\n",
       "      <td>461061.036921</td>\n",
       "    </tr>\n",
       "    <tr>\n",
       "      <th>3</th>\n",
       "      <td>470103.0</td>\n",
       "      <td>631875.015836</td>\n",
       "      <td>461061.036921</td>\n",
       "    </tr>\n",
       "    <tr>\n",
       "      <th>4</th>\n",
       "      <td>361585.0</td>\n",
       "      <td>310014.300220</td>\n",
       "      <td>461061.036921</td>\n",
       "    </tr>\n",
       "  </tbody>\n",
       "</table>\n",
       "</div>"
      ],
      "text/plain": [
       "      actual            lm1    lm_baseline\n",
       "0  1252995.0  885428.134588  461061.036921\n",
       "1   192960.0  279014.832467  461061.036921\n",
       "2   616795.0  753196.413153  461061.036921\n",
       "3   470103.0  631875.015836  461061.036921\n",
       "4   361585.0  310014.300220  461061.036921"
      ]
     },
     "execution_count": 27,
     "metadata": {},
     "output_type": "execute_result"
    }
   ],
   "source": [
    "predictions, predictions_test = model_zillow.modeling_function(x_train_scaled, y_train, x_test_scaled, y_test)\n",
    "\n",
    "predictions.head()\n",
    "#predictions_test.head()"
   ]
  },
  {
   "cell_type": "code",
   "execution_count": 28,
   "metadata": {},
   "outputs": [],
   "source": [
    "yhat = predictions.lm1\n",
    "y = predictions.actual\n",
    "#evaluate.plot_residuals(yhat, y)"
   ]
  },
  {
   "cell_type": "code",
   "execution_count": 29,
   "metadata": {},
   "outputs": [
    {
     "name": "stdout",
     "output_type": "stream",
     "text": [
      "SSE for model = 2912289275936049.0\n",
      "ESS for model = 2293841586703243.0\n",
      "TSS for model = 5206130862639292.0\n",
      "MSE for model = 228289509754.3348\n",
      "RMSE for model = 477796.51500857016\n"
     ]
    }
   ],
   "source": [
    "SSE, ESS, TSS, MSE, RMSE = evaluate.regression_errors(y, yhat)\n",
    "print(f\"SSE for model = {SSE}\")\n",
    "print(f\"ESS for model = {ESS}\")\n",
    "print(f\"TSS for model = {TSS}\")\n",
    "print(f\"MSE for model = {MSE}\")\n",
    "print(f\"RMSE for model = {RMSE}\")\n"
   ]
  },
  {
   "cell_type": "code",
   "execution_count": 30,
   "metadata": {},
   "outputs": [],
   "source": [
    "yhat_test = predictions_test.lm1_test\n",
    "y_test = predictions_test.actual\n",
    "#evaluate.plot_residuals(yhat, y)"
   ]
  },
  {
   "cell_type": "code",
   "execution_count": 31,
   "metadata": {},
   "outputs": [
    {
     "name": "stdout",
     "output_type": "stream",
     "text": [
      "tSSE for test model = 832673056345532.6\n",
      "tESS for test model = 562069527578663.06\n",
      "tTSS for test model = 1394742583924195.8\n",
      "tMSE for test model = 261026036471.9538\n",
      "tRMSE for test model = 510907.07224695355\n"
     ]
    }
   ],
   "source": [
    "tSSE, tESS, tTSS, tMSE, tRMSE = evaluate.regression_errors(y_test, yhat_test)\n",
    "print(f\"tSSE for test model = {tSSE}\")\n",
    "print(f\"tESS for test model = {tESS}\")\n",
    "print(f\"tTSS for test model = {tTSS}\")\n",
    "print(f\"tMSE for test model = {tMSE}\")\n",
    "print(f\"tRMSE for test model = {tRMSE}\")"
   ]
  },
  {
   "cell_type": "markdown",
   "metadata": {},
   "source": [
    "#### Evaluate:  Compare Model Performance Metrics"
   ]
  },
  {
   "cell_type": "markdown",
   "metadata": {},
   "source": [
    "The Baseline Model Evaluation Metrics:\n",
    "\n",
    "-The baseline model evaluation reveals an $R^2$ value of 0. I will use this value to compare with the $R^2$ values of my train and test linear regression models below. I want to find out if the models can predict home values better than just using the mean of all the home values."
   ]
  },
  {
   "cell_type": "code",
   "execution_count": 32,
   "metadata": {},
   "outputs": [
    {
     "data": {
      "text/html": [
       "<div>\n",
       "<style scoped>\n",
       "    .dataframe tbody tr th:only-of-type {\n",
       "        vertical-align: middle;\n",
       "    }\n",
       "\n",
       "    .dataframe tbody tr th {\n",
       "        vertical-align: top;\n",
       "    }\n",
       "\n",
       "    .dataframe thead th {\n",
       "        text-align: right;\n",
       "    }\n",
       "</style>\n",
       "<table border=\"1\" class=\"dataframe\">\n",
       "  <thead>\n",
       "    <tr style=\"text-align: right;\">\n",
       "      <th></th>\n",
       "      <th>metric</th>\n",
       "      <th>value</th>\n",
       "    </tr>\n",
       "  </thead>\n",
       "  <tbody>\n",
       "    <tr>\n",
       "      <th>0</th>\n",
       "      <td>bMSE</td>\n",
       "      <td>4.080999e+11</td>\n",
       "    </tr>\n",
       "    <tr>\n",
       "      <th>1</th>\n",
       "      <td>bSSE</td>\n",
       "      <td>5.206131e+15</td>\n",
       "    </tr>\n",
       "    <tr>\n",
       "      <th>2</th>\n",
       "      <td>bRMSE</td>\n",
       "      <td>6.388270e+05</td>\n",
       "    </tr>\n",
       "    <tr>\n",
       "      <th>3</th>\n",
       "      <td>bR2</td>\n",
       "      <td>0.000000e+00</td>\n",
       "    </tr>\n",
       "  </tbody>\n",
       "</table>\n",
       "</div>"
      ],
      "text/plain": [
       "  metric         value\n",
       "0   bMSE  4.080999e+11\n",
       "1   bSSE  5.206131e+15\n",
       "2  bRMSE  6.388270e+05\n",
       "3    bR2  0.000000e+00"
      ]
     },
     "execution_count": 32,
     "metadata": {},
     "output_type": "execute_result"
    }
   ],
   "source": [
    "bMSE = mean_squared_error(predictions.actual, predictions.lm_baseline)\n",
    "bSSE = bMSE*len(predictions.actual)\n",
    "bRMSE = sqrt(bMSE)\n",
    "br2 = r2_score(predictions.actual, predictions.lm_baseline)\n",
    "baseline_metrics_df = pd.DataFrame(np.array([\"bMSE\", \"bSSE\",\"bRMSE\", \"bR2\"]), columns=[\"metric\"])\n",
    "baseline_metrics_df[\"value\"] = np.array([bMSE, bSSE, bRMSE, br2])\n",
    "baseline_metrics_df"
   ]
  },
  {
   "cell_type": "code",
   "execution_count": 65,
   "metadata": {},
   "outputs": [
    {
     "data": {
      "text/plain": [
       "<matplotlib.axes._subplots.AxesSubplot at 0x1c319b4ac8>"
      ]
     },
     "execution_count": 65,
     "metadata": {},
     "output_type": "execute_result"
    },
    {
     "data": {
      "image/png": "[encoded data removed]",
      "text/plain": [
       "<Figure size 432x288 with 1 Axes>"
      ]
     },
     "metadata": {
      "needs_background": "light"
     },
     "output_type": "display_data"
    }
   ],
   "source": [
    "sns.residplot(predictions.lm1, predictions.actual)"
   ]
  },
  {
   "cell_type": "code",
   "execution_count": 55,
   "metadata": {},
   "outputs": [
    {
     "data": {
      "text/plain": [
       "<matplotlib.axes._subplots.AxesSubplot at 0x1c268cf7f0>"
      ]
     },
     "execution_count": 55,
     "metadata": {},
     "output_type": "execute_result"
    },
    {
     "data": {
      "image/png": "[encoded data removed]",
      "text/plain": [
       "<Figure size 1152x576 with 2 Axes>"
      ]
     },
     "metadata": {
      "needs_background": "light"
     },
     "output_type": "display_data"
    }
   ],
   "source": [
    "plt.figure(figsize=(16,8))\n",
    "plt.subplot(1,2,1)\n",
    "sns.lineplot(data=predictions.lm1)\n",
    "sns.lineplot(data=predictions.lm_baseline)\n",
    "plt.subplot(1,2,2)\n",
    "sns.lineplot(data=predictions.actual)\n",
    "sns.lineplot(data=predictions.lm_baseline)"
   ]
  },
  {
   "cell_type": "markdown",
   "metadata": {},
   "source": [
    "The Linear Regression Models' Evaluation Metrics:\n",
    "\n",
    "-The Linear Regression model including bedrooms, bathrooms, and square_feet as features returned a $R^2$ value of .4406 for the train data set and .4029 for the test data set.\n"
   ]
  },
  {
   "cell_type": "code",
   "execution_count": null,
   "metadata": {},
   "outputs": [],
   "source": [
    "MSE_1= mean_squared_error(predictions.actual, predictions.lm1)\n",
    "SSE_1 = MSE_1*len(predictions.actual)\n",
    "RMSE_1 = sqrt(MSE_1)\n",
    "r2_1 = r2_score(predictions.actual, predictions.lm1)\n",
    "print(MSE_1,SSE_1,RMSE_1,r2_1)\n"
   ]
  },
  {
   "cell_type": "code",
   "execution_count": null,
   "metadata": {},
   "outputs": [],
   "source": [
    "MSE_lm1_test = mean_squared_error(predictions_test.actual, predictions_test.lm1_test)\n",
    "SSE_lm1_test = MSE_lm1_test*len(predictions_test.actual)\n",
    "RMSE_lm1_test = sqrt(MSE_lm1_test)\n",
    "r2_lm1_test = r2_score(predictions_test.actual, predictions_test.lm1_test)\n",
    "print(MSE_lm1_test,SSE_lm1_test,RMSE_lm1_test,r2_lm1_test)\n"
   ]
  },
  {
   "cell_type": "markdown",
   "metadata": {},
   "source": [
    "#### Side-by-Side Comparison of Model Evaluation Metrics:"
   ]
  },
  {
   "cell_type": "code",
   "execution_count": null,
   "metadata": {},
   "outputs": [],
   "source": [
    "df_eval = pd.DataFrame(np.array([\"SSE\",\"MSE\",\"RMSE\", \"R2\"]), columns=[\"metric\"])\n",
    "df_eval[\"model_1_error\"] = np.array([SSE_1, MSE_1, RMSE_1, r2_1])\n",
    "df_eval[\"baseline_error\"] = np.array([bSSE, bMSE, bRMSE, br2])\n",
    "df_eval[\"error_delta_1\"] = df_eval.model_1_error - df_eval.baseline_error\n",
    "df_eval"
   ]
  },
  {
   "cell_type": "code",
   "execution_count": null,
   "metadata": {},
   "outputs": [],
   "source": [
    "df_eval_test = pd.DataFrame(np.array([\"SSE\",\"MSE\",\"RMSE\", \"R2\"]), columns=[\"metric\"])\n",
    "df_eval_test[\"lm1_test_error\"] = np.array([SSE_lm1_test, MSE_lm1_test, RMSE_lm1_test, r2_lm1_test])\n",
    "df_eval_test[\"baseline_error\"] = np.array([bSSE, bMSE, bRMSE, br2])\n",
    "df_eval_test[\"error_delta_lm1_test\"] = df_eval_test.lm1_test_error - df_eval_test.baseline_error\n",
    "\n",
    "df_eval_test"
   ]
  },
  {
   "cell_type": "code",
   "execution_count": null,
   "metadata": {},
   "outputs": [],
   "source": []
  }
 ],
 "metadata": {
  "kernelspec": {
   "display_name": "Python 3",
   "language": "python",
   "name": "python3"
  },
  "language_info": {
   "codemirror_mode": {
    "name": "ipython",
    "version": 3
   },
   "file_extension": ".py",
   "mimetype": "text/x-python",
   "name": "python",
   "nbconvert_exporter": "python",
   "pygments_lexer": "ipython3",
   "version": "3.7.3"
  }
 },
 "nbformat": 4,
 "nbformat_minor": 2
}
