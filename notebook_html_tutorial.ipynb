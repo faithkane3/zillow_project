{
 "cells": [
  {
   "cell_type": "markdown",
   "metadata": {
    "toc": true
   },
   "source": [
    "<h1>Table of Contents<span class=\"tocSkip\"></span></h1>\n",
    "<div class=\"toc\"><ul class=\"toc-item\"><li><span><a href=\"#Publishing-your-notebook:\" data-toc-modified-id=\"Publishing-your-notebook:-1\"><span class=\"toc-item-num\">1&nbsp;&nbsp;</span>Publishing your notebook:</a></span></li><li><span><a href=\"#More-Resources:\" data-toc-modified-id=\"More-Resources:-2\"><span class=\"toc-item-num\">2&nbsp;&nbsp;</span>More Resources:</a></span></li></ul></div>"
   ]
  },
  {
   "cell_type": "markdown",
   "metadata": {},
   "source": [
    "## Installing Nbe\n",
    "\n"
   ]
  },
  {
   "cell_type": "markdown",
   "metadata": {},
   "source": [
    "## More Resources\n",
    "\n",
    "https://github.com/Jupyter-contrib/jupyter_nbextensions_configurator\n",
    "\n"
   ]
  },
  {
   "cell_type": "markdown",
   "metadata": {},
   "source": [
    "## Publishing your notebook:\n",
    "\n",
    "1. Get an html file to publish\n",
    "\n",
    "\n",
    ">1. Restart the kernel and run the notebook from top to bottom\n",
    ">2. From the jupyter notebook dowload as an html file\n",
    "\n",
    "\n",
    "2. Make a repo on github that will be your internet site\n",
    "    Github Pages[1] is a free service that github offers to host your websites.\n",
    "    To get started:\n",
    "    \n",
    "    \n",
    ">1. Create a repo on github (github.com/new) named exactly yourusername.github.io, i.e. faithkane3.github.io\n",
    ">2. Create a repository locally and wire it up to the one you created on github.\n",
    "    \n",
    "**Anything you push to this repository will be live on the internet at yourusername.github.io**\n",
    "        \n",
    "3. Add content and make the site live\n",
    "\n",
    "\n",
    ">1. Copy over the html file you created from the notebook into the new repository.\n",
    ">2. Name the html file index.html (whichever file is named index.html is the \"landing page\" for your site)\n",
    ">3. Add, commit, and push the index.html file\n",
    "\n",
    "\n",
    "**<font color=green>You should now be able to see your site live!</font>**"
   ]
  },
  {
   "cell_type": "markdown",
   "metadata": {},
   "source": [
    "## More Resources:\n",
    "\n",
    "https://pages.github.com/"
   ]
  },
  {
   "cell_type": "markdown",
   "metadata": {},
   "source": []
  }
 ],
 "metadata": {
  "kernelspec": {
   "display_name": "Python 3",
   "language": "python",
   "name": "python3"
  },
  "language_info": {
   "codemirror_mode": {
    "name": "ipython",
    "version": 3
   },
   "file_extension": ".py",
   "mimetype": "text/x-python",
   "name": "python",
   "nbconvert_exporter": "python",
   "pygments_lexer": "ipython3",
   "version": "3.7.4"
  },
  "toc": {
   "base_numbering": 1,
   "nav_menu": {},
   "number_sections": true,
   "sideBar": true,
   "skip_h1_title": true,
   "title_cell": "Table of Contents",
   "title_sidebar": "Contents",
   "toc_cell": true,
   "toc_position": {},
   "toc_section_display": true,
   "toc_window_display": false
  }
 },
 "nbformat": 4,
 "nbformat_minor": 2
}
